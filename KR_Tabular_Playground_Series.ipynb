{
  "nbformat": 4,
  "nbformat_minor": 0,
  "metadata": {
    "colab": {
      "provenance": [],
      "collapsed_sections": [],
      "include_colab_link": true
    },
    "kernelspec": {
      "name": "python3",
      "display_name": "Python 3"
    },
    "language_info": {
      "name": "python"
    },
    "gpuClass": "standard",
    "accelerator": "GPU"
  },
  "cells": [
    {
      "cell_type": "markdown",
      "metadata": {
        "id": "view-in-github",
        "colab_type": "text"
      },
      "source": [
        "<a href=\"https://colab.research.google.com/github/gelgel5633/personal_project/blob/main/KR_Tabular_Playground_Series.ipynb\" target=\"_parent\"><img src=\"https://colab.research.google.com/assets/colab-badge.svg\" alt=\"Open In Colab\"/></a>"
      ]
    },
    {
      "cell_type": "code",
      "execution_count": null,
      "metadata": {
        "id": "Rw7dyKHKhLxQ"
      },
      "outputs": [],
      "source": [
        "import numpy as np\n",
        "import pandas as pd\n",
        "import matplotlib.pyplot as plt\n",
        "import seaborn as sns"
      ]
    },
    {
      "cell_type": "markdown",
      "source": [
        "# 데이터 불러오기 + 확인"
      ],
      "metadata": {
        "id": "MckeB_SinBXU"
      }
    },
    {
      "cell_type": "code",
      "source": [
        "train_df = pd.read_csv(\"/content/drive/MyDrive/competition/kaggle/Tabular Playground Series/train.csv\")\n",
        "test_df = pd.read_csv(\"/content/drive/MyDrive/competition/kaggle/Tabular Playground Series/test.csv\")\n",
        "submission = pd.read_csv(\"/content/drive/MyDrive/competition/kaggle/Tabular Playground Series/sample_submission.csv\")"
      ],
      "metadata": {
        "id": "5Q0riPiChqq1"
      },
      "execution_count": null,
      "outputs": []
    },
    {
      "cell_type": "code",
      "source": [
        "train_df.head(2)"
      ],
      "metadata": {
        "id": "Zngi1O88kkYy",
        "colab": {
          "base_uri": "https://localhost:8080/",
          "height": 112
        },
        "outputId": "e91d20e3-06eb-4038-d87c-87f5484edabe"
      },
      "execution_count": null,
      "outputs": [
        {
          "output_type": "execute_result",
          "data": {
            "text/plain": [
              "   row_id        date  country       store                     product  \\\n",
              "0       0  2017-01-01  Belgium  KaggleMart  Kaggle Advanced Techniques   \n",
              "1       1  2017-01-01  Belgium  KaggleMart      Kaggle Getting Started   \n",
              "\n",
              "   num_sold  \n",
              "0       663  \n",
              "1       615  "
            ],
            "text/html": [
              "\n",
              "  <div id=\"df-0855b03a-613b-4055-89bd-c102ca6e7045\">\n",
              "    <div class=\"colab-df-container\">\n",
              "      <div>\n",
              "<style scoped>\n",
              "    .dataframe tbody tr th:only-of-type {\n",
              "        vertical-align: middle;\n",
              "    }\n",
              "\n",
              "    .dataframe tbody tr th {\n",
              "        vertical-align: top;\n",
              "    }\n",
              "\n",
              "    .dataframe thead th {\n",
              "        text-align: right;\n",
              "    }\n",
              "</style>\n",
              "<table border=\"1\" class=\"dataframe\">\n",
              "  <thead>\n",
              "    <tr style=\"text-align: right;\">\n",
              "      <th></th>\n",
              "      <th>row_id</th>\n",
              "      <th>date</th>\n",
              "      <th>country</th>\n",
              "      <th>store</th>\n",
              "      <th>product</th>\n",
              "      <th>num_sold</th>\n",
              "    </tr>\n",
              "  </thead>\n",
              "  <tbody>\n",
              "    <tr>\n",
              "      <th>0</th>\n",
              "      <td>0</td>\n",
              "      <td>2017-01-01</td>\n",
              "      <td>Belgium</td>\n",
              "      <td>KaggleMart</td>\n",
              "      <td>Kaggle Advanced Techniques</td>\n",
              "      <td>663</td>\n",
              "    </tr>\n",
              "    <tr>\n",
              "      <th>1</th>\n",
              "      <td>1</td>\n",
              "      <td>2017-01-01</td>\n",
              "      <td>Belgium</td>\n",
              "      <td>KaggleMart</td>\n",
              "      <td>Kaggle Getting Started</td>\n",
              "      <td>615</td>\n",
              "    </tr>\n",
              "  </tbody>\n",
              "</table>\n",
              "</div>\n",
              "      <button class=\"colab-df-convert\" onclick=\"convertToInteractive('df-0855b03a-613b-4055-89bd-c102ca6e7045')\"\n",
              "              title=\"Convert this dataframe to an interactive table.\"\n",
              "              style=\"display:none;\">\n",
              "        \n",
              "  <svg xmlns=\"http://www.w3.org/2000/svg\" height=\"24px\"viewBox=\"0 0 24 24\"\n",
              "       width=\"24px\">\n",
              "    <path d=\"M0 0h24v24H0V0z\" fill=\"none\"/>\n",
              "    <path d=\"M18.56 5.44l.94 2.06.94-2.06 2.06-.94-2.06-.94-.94-2.06-.94 2.06-2.06.94zm-11 1L8.5 8.5l.94-2.06 2.06-.94-2.06-.94L8.5 2.5l-.94 2.06-2.06.94zm10 10l.94 2.06.94-2.06 2.06-.94-2.06-.94-.94-2.06-.94 2.06-2.06.94z\"/><path d=\"M17.41 7.96l-1.37-1.37c-.4-.4-.92-.59-1.43-.59-.52 0-1.04.2-1.43.59L10.3 9.45l-7.72 7.72c-.78.78-.78 2.05 0 2.83L4 21.41c.39.39.9.59 1.41.59.51 0 1.02-.2 1.41-.59l7.78-7.78 2.81-2.81c.8-.78.8-2.07 0-2.86zM5.41 20L4 18.59l7.72-7.72 1.47 1.35L5.41 20z\"/>\n",
              "  </svg>\n",
              "      </button>\n",
              "      \n",
              "  <style>\n",
              "    .colab-df-container {\n",
              "      display:flex;\n",
              "      flex-wrap:wrap;\n",
              "      gap: 12px;\n",
              "    }\n",
              "\n",
              "    .colab-df-convert {\n",
              "      background-color: #E8F0FE;\n",
              "      border: none;\n",
              "      border-radius: 50%;\n",
              "      cursor: pointer;\n",
              "      display: none;\n",
              "      fill: #1967D2;\n",
              "      height: 32px;\n",
              "      padding: 0 0 0 0;\n",
              "      width: 32px;\n",
              "    }\n",
              "\n",
              "    .colab-df-convert:hover {\n",
              "      background-color: #E2EBFA;\n",
              "      box-shadow: 0px 1px 2px rgba(60, 64, 67, 0.3), 0px 1px 3px 1px rgba(60, 64, 67, 0.15);\n",
              "      fill: #174EA6;\n",
              "    }\n",
              "\n",
              "    [theme=dark] .colab-df-convert {\n",
              "      background-color: #3B4455;\n",
              "      fill: #D2E3FC;\n",
              "    }\n",
              "\n",
              "    [theme=dark] .colab-df-convert:hover {\n",
              "      background-color: #434B5C;\n",
              "      box-shadow: 0px 1px 3px 1px rgba(0, 0, 0, 0.15);\n",
              "      filter: drop-shadow(0px 1px 2px rgba(0, 0, 0, 0.3));\n",
              "      fill: #FFFFFF;\n",
              "    }\n",
              "  </style>\n",
              "\n",
              "      <script>\n",
              "        const buttonEl =\n",
              "          document.querySelector('#df-0855b03a-613b-4055-89bd-c102ca6e7045 button.colab-df-convert');\n",
              "        buttonEl.style.display =\n",
              "          google.colab.kernel.accessAllowed ? 'block' : 'none';\n",
              "\n",
              "        async function convertToInteractive(key) {\n",
              "          const element = document.querySelector('#df-0855b03a-613b-4055-89bd-c102ca6e7045');\n",
              "          const dataTable =\n",
              "            await google.colab.kernel.invokeFunction('convertToInteractive',\n",
              "                                                     [key], {});\n",
              "          if (!dataTable) return;\n",
              "\n",
              "          const docLinkHtml = 'Like what you see? Visit the ' +\n",
              "            '<a target=\"_blank\" href=https://colab.research.google.com/notebooks/data_table.ipynb>data table notebook</a>'\n",
              "            + ' to learn more about interactive tables.';\n",
              "          element.innerHTML = '';\n",
              "          dataTable['output_type'] = 'display_data';\n",
              "          await google.colab.output.renderOutput(dataTable, element);\n",
              "          const docLink = document.createElement('div');\n",
              "          docLink.innerHTML = docLinkHtml;\n",
              "          element.appendChild(docLink);\n",
              "        }\n",
              "      </script>\n",
              "    </div>\n",
              "  </div>\n",
              "  "
            ]
          },
          "metadata": {},
          "execution_count": 5
        }
      ]
    },
    {
      "cell_type": "code",
      "source": [
        "test_df.head(2)"
      ],
      "metadata": {
        "id": "iNjZSrI9lpr1",
        "colab": {
          "base_uri": "https://localhost:8080/",
          "height": 112
        },
        "outputId": "49ee0764-30b4-442d-e422-b4361e4874e9"
      },
      "execution_count": null,
      "outputs": [
        {
          "output_type": "execute_result",
          "data": {
            "text/plain": [
              "   row_id        date  country       store                     product\n",
              "0   70128  2021-01-01  Belgium  KaggleMart  Kaggle Advanced Techniques\n",
              "1   70129  2021-01-01  Belgium  KaggleMart      Kaggle Getting Started"
            ],
            "text/html": [
              "\n",
              "  <div id=\"df-1f51f8d3-7c56-45a6-b604-38fef19d3b4f\">\n",
              "    <div class=\"colab-df-container\">\n",
              "      <div>\n",
              "<style scoped>\n",
              "    .dataframe tbody tr th:only-of-type {\n",
              "        vertical-align: middle;\n",
              "    }\n",
              "\n",
              "    .dataframe tbody tr th {\n",
              "        vertical-align: top;\n",
              "    }\n",
              "\n",
              "    .dataframe thead th {\n",
              "        text-align: right;\n",
              "    }\n",
              "</style>\n",
              "<table border=\"1\" class=\"dataframe\">\n",
              "  <thead>\n",
              "    <tr style=\"text-align: right;\">\n",
              "      <th></th>\n",
              "      <th>row_id</th>\n",
              "      <th>date</th>\n",
              "      <th>country</th>\n",
              "      <th>store</th>\n",
              "      <th>product</th>\n",
              "    </tr>\n",
              "  </thead>\n",
              "  <tbody>\n",
              "    <tr>\n",
              "      <th>0</th>\n",
              "      <td>70128</td>\n",
              "      <td>2021-01-01</td>\n",
              "      <td>Belgium</td>\n",
              "      <td>KaggleMart</td>\n",
              "      <td>Kaggle Advanced Techniques</td>\n",
              "    </tr>\n",
              "    <tr>\n",
              "      <th>1</th>\n",
              "      <td>70129</td>\n",
              "      <td>2021-01-01</td>\n",
              "      <td>Belgium</td>\n",
              "      <td>KaggleMart</td>\n",
              "      <td>Kaggle Getting Started</td>\n",
              "    </tr>\n",
              "  </tbody>\n",
              "</table>\n",
              "</div>\n",
              "      <button class=\"colab-df-convert\" onclick=\"convertToInteractive('df-1f51f8d3-7c56-45a6-b604-38fef19d3b4f')\"\n",
              "              title=\"Convert this dataframe to an interactive table.\"\n",
              "              style=\"display:none;\">\n",
              "        \n",
              "  <svg xmlns=\"http://www.w3.org/2000/svg\" height=\"24px\"viewBox=\"0 0 24 24\"\n",
              "       width=\"24px\">\n",
              "    <path d=\"M0 0h24v24H0V0z\" fill=\"none\"/>\n",
              "    <path d=\"M18.56 5.44l.94 2.06.94-2.06 2.06-.94-2.06-.94-.94-2.06-.94 2.06-2.06.94zm-11 1L8.5 8.5l.94-2.06 2.06-.94-2.06-.94L8.5 2.5l-.94 2.06-2.06.94zm10 10l.94 2.06.94-2.06 2.06-.94-2.06-.94-.94-2.06-.94 2.06-2.06.94z\"/><path d=\"M17.41 7.96l-1.37-1.37c-.4-.4-.92-.59-1.43-.59-.52 0-1.04.2-1.43.59L10.3 9.45l-7.72 7.72c-.78.78-.78 2.05 0 2.83L4 21.41c.39.39.9.59 1.41.59.51 0 1.02-.2 1.41-.59l7.78-7.78 2.81-2.81c.8-.78.8-2.07 0-2.86zM5.41 20L4 18.59l7.72-7.72 1.47 1.35L5.41 20z\"/>\n",
              "  </svg>\n",
              "      </button>\n",
              "      \n",
              "  <style>\n",
              "    .colab-df-container {\n",
              "      display:flex;\n",
              "      flex-wrap:wrap;\n",
              "      gap: 12px;\n",
              "    }\n",
              "\n",
              "    .colab-df-convert {\n",
              "      background-color: #E8F0FE;\n",
              "      border: none;\n",
              "      border-radius: 50%;\n",
              "      cursor: pointer;\n",
              "      display: none;\n",
              "      fill: #1967D2;\n",
              "      height: 32px;\n",
              "      padding: 0 0 0 0;\n",
              "      width: 32px;\n",
              "    }\n",
              "\n",
              "    .colab-df-convert:hover {\n",
              "      background-color: #E2EBFA;\n",
              "      box-shadow: 0px 1px 2px rgba(60, 64, 67, 0.3), 0px 1px 3px 1px rgba(60, 64, 67, 0.15);\n",
              "      fill: #174EA6;\n",
              "    }\n",
              "\n",
              "    [theme=dark] .colab-df-convert {\n",
              "      background-color: #3B4455;\n",
              "      fill: #D2E3FC;\n",
              "    }\n",
              "\n",
              "    [theme=dark] .colab-df-convert:hover {\n",
              "      background-color: #434B5C;\n",
              "      box-shadow: 0px 1px 3px 1px rgba(0, 0, 0, 0.15);\n",
              "      filter: drop-shadow(0px 1px 2px rgba(0, 0, 0, 0.3));\n",
              "      fill: #FFFFFF;\n",
              "    }\n",
              "  </style>\n",
              "\n",
              "      <script>\n",
              "        const buttonEl =\n",
              "          document.querySelector('#df-1f51f8d3-7c56-45a6-b604-38fef19d3b4f button.colab-df-convert');\n",
              "        buttonEl.style.display =\n",
              "          google.colab.kernel.accessAllowed ? 'block' : 'none';\n",
              "\n",
              "        async function convertToInteractive(key) {\n",
              "          const element = document.querySelector('#df-1f51f8d3-7c56-45a6-b604-38fef19d3b4f');\n",
              "          const dataTable =\n",
              "            await google.colab.kernel.invokeFunction('convertToInteractive',\n",
              "                                                     [key], {});\n",
              "          if (!dataTable) return;\n",
              "\n",
              "          const docLinkHtml = 'Like what you see? Visit the ' +\n",
              "            '<a target=\"_blank\" href=https://colab.research.google.com/notebooks/data_table.ipynb>data table notebook</a>'\n",
              "            + ' to learn more about interactive tables.';\n",
              "          element.innerHTML = '';\n",
              "          dataTable['output_type'] = 'display_data';\n",
              "          await google.colab.output.renderOutput(dataTable, element);\n",
              "          const docLink = document.createElement('div');\n",
              "          docLink.innerHTML = docLinkHtml;\n",
              "          element.appendChild(docLink);\n",
              "        }\n",
              "      </script>\n",
              "    </div>\n",
              "  </div>\n",
              "  "
            ]
          },
          "metadata": {},
          "execution_count": 6
        }
      ]
    },
    {
      "cell_type": "code",
      "source": [
        "len(train_df)"
      ],
      "metadata": {
        "id": "CgS8wjNRltdX",
        "colab": {
          "base_uri": "https://localhost:8080/"
        },
        "outputId": "236fa3ba-3734-4f38-b57c-99c3d7902912"
      },
      "execution_count": null,
      "outputs": [
        {
          "output_type": "execute_result",
          "data": {
            "text/plain": [
              "70128"
            ]
          },
          "metadata": {},
          "execution_count": 7
        }
      ]
    },
    {
      "cell_type": "code",
      "source": [
        "print(len(test_df), len(submission))"
      ],
      "metadata": {
        "id": "r1pWDzv1lsEH",
        "colab": {
          "base_uri": "https://localhost:8080/"
        },
        "outputId": "8a3dff38-3643-4181-949b-7f73069a4a59"
      },
      "execution_count": null,
      "outputs": [
        {
          "output_type": "stream",
          "name": "stdout",
          "text": [
            "17520 17520\n"
          ]
        }
      ]
    },
    {
      "cell_type": "code",
      "source": [
        "train_df.info()"
      ],
      "metadata": {
        "id": "QQAk5gRwpsrZ",
        "colab": {
          "base_uri": "https://localhost:8080/"
        },
        "outputId": "aa5d6007-e18f-4a2b-a61b-779bd04246cf"
      },
      "execution_count": null,
      "outputs": [
        {
          "output_type": "stream",
          "name": "stdout",
          "text": [
            "<class 'pandas.core.frame.DataFrame'>\n",
            "RangeIndex: 70128 entries, 0 to 70127\n",
            "Data columns (total 6 columns):\n",
            " #   Column    Non-Null Count  Dtype \n",
            "---  ------    --------------  ----- \n",
            " 0   row_id    70128 non-null  int64 \n",
            " 1   date      70128 non-null  object\n",
            " 2   country   70128 non-null  object\n",
            " 3   store     70128 non-null  object\n",
            " 4   product   70128 non-null  object\n",
            " 5   num_sold  70128 non-null  int64 \n",
            "dtypes: int64(2), object(4)\n",
            "memory usage: 3.2+ MB\n"
          ]
        }
      ]
    },
    {
      "cell_type": "code",
      "source": [
        "train_df.isnull().sum()"
      ],
      "metadata": {
        "id": "94-EAanLq2QJ",
        "colab": {
          "base_uri": "https://localhost:8080/"
        },
        "outputId": "6e6800b3-eb7e-40cd-cda7-8149b2b3dcc6"
      },
      "execution_count": null,
      "outputs": [
        {
          "output_type": "execute_result",
          "data": {
            "text/plain": [
              "row_id      0\n",
              "date        0\n",
              "country     0\n",
              "store       0\n",
              "product     0\n",
              "num_sold    0\n",
              "dtype: int64"
            ]
          },
          "metadata": {},
          "execution_count": 10
        }
      ]
    },
    {
      "cell_type": "markdown",
      "source": [
        "# 전처리"
      ],
      "metadata": {
        "id": "dSjHNqlbnDnE"
      }
    },
    {
      "cell_type": "markdown",
      "source": [
        "- 예측하는 데에 방해가 되는 row_id 값은 삭제"
      ],
      "metadata": {
        "id": "C4APenmpmPIe"
      }
    },
    {
      "cell_type": "code",
      "source": [
        "train_df.drop([\"row_id\"], axis = 1, inplace = True)\n",
        "test_df.drop([\"row_id\"], axis = 1, inplace = True)"
      ],
      "metadata": {
        "id": "SXtIXA6smGKI"
      },
      "execution_count": null,
      "outputs": []
    },
    {
      "cell_type": "code",
      "source": [
        "train_df.head(2)"
      ],
      "metadata": {
        "id": "nBJX2Tq7pDYQ",
        "colab": {
          "base_uri": "https://localhost:8080/",
          "height": 112
        },
        "outputId": "1fab733f-0db1-4a8f-90da-5ed72dff4dfc"
      },
      "execution_count": null,
      "outputs": [
        {
          "output_type": "execute_result",
          "data": {
            "text/plain": [
              "         date  country       store                     product  num_sold\n",
              "0  2017-01-01  Belgium  KaggleMart  Kaggle Advanced Techniques       663\n",
              "1  2017-01-01  Belgium  KaggleMart      Kaggle Getting Started       615"
            ],
            "text/html": [
              "\n",
              "  <div id=\"df-466bf9e1-a1dc-44ca-b181-5eba6e9a2c1d\">\n",
              "    <div class=\"colab-df-container\">\n",
              "      <div>\n",
              "<style scoped>\n",
              "    .dataframe tbody tr th:only-of-type {\n",
              "        vertical-align: middle;\n",
              "    }\n",
              "\n",
              "    .dataframe tbody tr th {\n",
              "        vertical-align: top;\n",
              "    }\n",
              "\n",
              "    .dataframe thead th {\n",
              "        text-align: right;\n",
              "    }\n",
              "</style>\n",
              "<table border=\"1\" class=\"dataframe\">\n",
              "  <thead>\n",
              "    <tr style=\"text-align: right;\">\n",
              "      <th></th>\n",
              "      <th>date</th>\n",
              "      <th>country</th>\n",
              "      <th>store</th>\n",
              "      <th>product</th>\n",
              "      <th>num_sold</th>\n",
              "    </tr>\n",
              "  </thead>\n",
              "  <tbody>\n",
              "    <tr>\n",
              "      <th>0</th>\n",
              "      <td>2017-01-01</td>\n",
              "      <td>Belgium</td>\n",
              "      <td>KaggleMart</td>\n",
              "      <td>Kaggle Advanced Techniques</td>\n",
              "      <td>663</td>\n",
              "    </tr>\n",
              "    <tr>\n",
              "      <th>1</th>\n",
              "      <td>2017-01-01</td>\n",
              "      <td>Belgium</td>\n",
              "      <td>KaggleMart</td>\n",
              "      <td>Kaggle Getting Started</td>\n",
              "      <td>615</td>\n",
              "    </tr>\n",
              "  </tbody>\n",
              "</table>\n",
              "</div>\n",
              "      <button class=\"colab-df-convert\" onclick=\"convertToInteractive('df-466bf9e1-a1dc-44ca-b181-5eba6e9a2c1d')\"\n",
              "              title=\"Convert this dataframe to an interactive table.\"\n",
              "              style=\"display:none;\">\n",
              "        \n",
              "  <svg xmlns=\"http://www.w3.org/2000/svg\" height=\"24px\"viewBox=\"0 0 24 24\"\n",
              "       width=\"24px\">\n",
              "    <path d=\"M0 0h24v24H0V0z\" fill=\"none\"/>\n",
              "    <path d=\"M18.56 5.44l.94 2.06.94-2.06 2.06-.94-2.06-.94-.94-2.06-.94 2.06-2.06.94zm-11 1L8.5 8.5l.94-2.06 2.06-.94-2.06-.94L8.5 2.5l-.94 2.06-2.06.94zm10 10l.94 2.06.94-2.06 2.06-.94-2.06-.94-.94-2.06-.94 2.06-2.06.94z\"/><path d=\"M17.41 7.96l-1.37-1.37c-.4-.4-.92-.59-1.43-.59-.52 0-1.04.2-1.43.59L10.3 9.45l-7.72 7.72c-.78.78-.78 2.05 0 2.83L4 21.41c.39.39.9.59 1.41.59.51 0 1.02-.2 1.41-.59l7.78-7.78 2.81-2.81c.8-.78.8-2.07 0-2.86zM5.41 20L4 18.59l7.72-7.72 1.47 1.35L5.41 20z\"/>\n",
              "  </svg>\n",
              "      </button>\n",
              "      \n",
              "  <style>\n",
              "    .colab-df-container {\n",
              "      display:flex;\n",
              "      flex-wrap:wrap;\n",
              "      gap: 12px;\n",
              "    }\n",
              "\n",
              "    .colab-df-convert {\n",
              "      background-color: #E8F0FE;\n",
              "      border: none;\n",
              "      border-radius: 50%;\n",
              "      cursor: pointer;\n",
              "      display: none;\n",
              "      fill: #1967D2;\n",
              "      height: 32px;\n",
              "      padding: 0 0 0 0;\n",
              "      width: 32px;\n",
              "    }\n",
              "\n",
              "    .colab-df-convert:hover {\n",
              "      background-color: #E2EBFA;\n",
              "      box-shadow: 0px 1px 2px rgba(60, 64, 67, 0.3), 0px 1px 3px 1px rgba(60, 64, 67, 0.15);\n",
              "      fill: #174EA6;\n",
              "    }\n",
              "\n",
              "    [theme=dark] .colab-df-convert {\n",
              "      background-color: #3B4455;\n",
              "      fill: #D2E3FC;\n",
              "    }\n",
              "\n",
              "    [theme=dark] .colab-df-convert:hover {\n",
              "      background-color: #434B5C;\n",
              "      box-shadow: 0px 1px 3px 1px rgba(0, 0, 0, 0.15);\n",
              "      filter: drop-shadow(0px 1px 2px rgba(0, 0, 0, 0.3));\n",
              "      fill: #FFFFFF;\n",
              "    }\n",
              "  </style>\n",
              "\n",
              "      <script>\n",
              "        const buttonEl =\n",
              "          document.querySelector('#df-466bf9e1-a1dc-44ca-b181-5eba6e9a2c1d button.colab-df-convert');\n",
              "        buttonEl.style.display =\n",
              "          google.colab.kernel.accessAllowed ? 'block' : 'none';\n",
              "\n",
              "        async function convertToInteractive(key) {\n",
              "          const element = document.querySelector('#df-466bf9e1-a1dc-44ca-b181-5eba6e9a2c1d');\n",
              "          const dataTable =\n",
              "            await google.colab.kernel.invokeFunction('convertToInteractive',\n",
              "                                                     [key], {});\n",
              "          if (!dataTable) return;\n",
              "\n",
              "          const docLinkHtml = 'Like what you see? Visit the ' +\n",
              "            '<a target=\"_blank\" href=https://colab.research.google.com/notebooks/data_table.ipynb>data table notebook</a>'\n",
              "            + ' to learn more about interactive tables.';\n",
              "          element.innerHTML = '';\n",
              "          dataTable['output_type'] = 'display_data';\n",
              "          await google.colab.output.renderOutput(dataTable, element);\n",
              "          const docLink = document.createElement('div');\n",
              "          docLink.innerHTML = docLinkHtml;\n",
              "          element.appendChild(docLink);\n",
              "        }\n",
              "      </script>\n",
              "    </div>\n",
              "  </div>\n",
              "  "
            ]
          },
          "metadata": {},
          "execution_count": 12
        }
      ]
    },
    {
      "cell_type": "markdown",
      "source": [
        "- 각 제품별 범주가 몇 개가 존재하는지 확인 필요"
      ],
      "metadata": {
        "id": "WPcnT6nQnK3g"
      }
    },
    {
      "cell_type": "code",
      "source": [
        "for i in [\"country\", \"store\", \"product\"]:\n",
        "    print(i, \"unique_number {}\". format(train_df[i].nunique()))"
      ],
      "metadata": {
        "id": "1ZRBF4j6m3R3",
        "colab": {
          "base_uri": "https://localhost:8080/"
        },
        "outputId": "2ee7a2e8-6837-4e0b-9130-29e5d02946db"
      },
      "execution_count": null,
      "outputs": [
        {
          "output_type": "stream",
          "name": "stdout",
          "text": [
            "country unique_number 6\n",
            "store unique_number 2\n",
            "product unique_number 4\n"
          ]
        }
      ]
    },
    {
      "cell_type": "code",
      "source": [
        "print(train_df[\"country\"].unique())\n",
        "print(train_df[\"store\"].unique())\n",
        "print(train_df[\"product\"].unique())"
      ],
      "metadata": {
        "id": "whgL97Nrn-mD",
        "colab": {
          "base_uri": "https://localhost:8080/"
        },
        "outputId": "9e8ce7e7-3e36-44cd-998e-3852bbc11b21"
      },
      "execution_count": null,
      "outputs": [
        {
          "output_type": "stream",
          "name": "stdout",
          "text": [
            "['Belgium' 'France' 'Germany' 'Italy' 'Poland' 'Spain']\n",
            "['KaggleMart' 'KaggleRama']\n",
            "['Kaggle Advanced Techniques' 'Kaggle Getting Started'\n",
            " 'Kaggle Recipe Book' 'Kaggle for Kids: One Smart Goose']\n"
          ]
        }
      ]
    },
    {
      "cell_type": "code",
      "source": [
        "grouped_by_country = train_df.groupby(\"country\")\n",
        "grouped_by_country.count()"
      ],
      "metadata": {
        "id": "lp8QBSfsoVy6",
        "colab": {
          "base_uri": "https://localhost:8080/",
          "height": 269
        },
        "outputId": "d8fe1f6d-4dfa-4f20-e1cf-7fe5122f4ae3"
      },
      "execution_count": null,
      "outputs": [
        {
          "output_type": "execute_result",
          "data": {
            "text/plain": [
              "          date  store  product  num_sold\n",
              "country                                 \n",
              "Belgium  11688  11688    11688     11688\n",
              "France   11688  11688    11688     11688\n",
              "Germany  11688  11688    11688     11688\n",
              "Italy    11688  11688    11688     11688\n",
              "Poland   11688  11688    11688     11688\n",
              "Spain    11688  11688    11688     11688"
            ],
            "text/html": [
              "\n",
              "  <div id=\"df-0958f603-f11d-4f6b-a962-38b73733f919\">\n",
              "    <div class=\"colab-df-container\">\n",
              "      <div>\n",
              "<style scoped>\n",
              "    .dataframe tbody tr th:only-of-type {\n",
              "        vertical-align: middle;\n",
              "    }\n",
              "\n",
              "    .dataframe tbody tr th {\n",
              "        vertical-align: top;\n",
              "    }\n",
              "\n",
              "    .dataframe thead th {\n",
              "        text-align: right;\n",
              "    }\n",
              "</style>\n",
              "<table border=\"1\" class=\"dataframe\">\n",
              "  <thead>\n",
              "    <tr style=\"text-align: right;\">\n",
              "      <th></th>\n",
              "      <th>date</th>\n",
              "      <th>store</th>\n",
              "      <th>product</th>\n",
              "      <th>num_sold</th>\n",
              "    </tr>\n",
              "    <tr>\n",
              "      <th>country</th>\n",
              "      <th></th>\n",
              "      <th></th>\n",
              "      <th></th>\n",
              "      <th></th>\n",
              "    </tr>\n",
              "  </thead>\n",
              "  <tbody>\n",
              "    <tr>\n",
              "      <th>Belgium</th>\n",
              "      <td>11688</td>\n",
              "      <td>11688</td>\n",
              "      <td>11688</td>\n",
              "      <td>11688</td>\n",
              "    </tr>\n",
              "    <tr>\n",
              "      <th>France</th>\n",
              "      <td>11688</td>\n",
              "      <td>11688</td>\n",
              "      <td>11688</td>\n",
              "      <td>11688</td>\n",
              "    </tr>\n",
              "    <tr>\n",
              "      <th>Germany</th>\n",
              "      <td>11688</td>\n",
              "      <td>11688</td>\n",
              "      <td>11688</td>\n",
              "      <td>11688</td>\n",
              "    </tr>\n",
              "    <tr>\n",
              "      <th>Italy</th>\n",
              "      <td>11688</td>\n",
              "      <td>11688</td>\n",
              "      <td>11688</td>\n",
              "      <td>11688</td>\n",
              "    </tr>\n",
              "    <tr>\n",
              "      <th>Poland</th>\n",
              "      <td>11688</td>\n",
              "      <td>11688</td>\n",
              "      <td>11688</td>\n",
              "      <td>11688</td>\n",
              "    </tr>\n",
              "    <tr>\n",
              "      <th>Spain</th>\n",
              "      <td>11688</td>\n",
              "      <td>11688</td>\n",
              "      <td>11688</td>\n",
              "      <td>11688</td>\n",
              "    </tr>\n",
              "  </tbody>\n",
              "</table>\n",
              "</div>\n",
              "      <button class=\"colab-df-convert\" onclick=\"convertToInteractive('df-0958f603-f11d-4f6b-a962-38b73733f919')\"\n",
              "              title=\"Convert this dataframe to an interactive table.\"\n",
              "              style=\"display:none;\">\n",
              "        \n",
              "  <svg xmlns=\"http://www.w3.org/2000/svg\" height=\"24px\"viewBox=\"0 0 24 24\"\n",
              "       width=\"24px\">\n",
              "    <path d=\"M0 0h24v24H0V0z\" fill=\"none\"/>\n",
              "    <path d=\"M18.56 5.44l.94 2.06.94-2.06 2.06-.94-2.06-.94-.94-2.06-.94 2.06-2.06.94zm-11 1L8.5 8.5l.94-2.06 2.06-.94-2.06-.94L8.5 2.5l-.94 2.06-2.06.94zm10 10l.94 2.06.94-2.06 2.06-.94-2.06-.94-.94-2.06-.94 2.06-2.06.94z\"/><path d=\"M17.41 7.96l-1.37-1.37c-.4-.4-.92-.59-1.43-.59-.52 0-1.04.2-1.43.59L10.3 9.45l-7.72 7.72c-.78.78-.78 2.05 0 2.83L4 21.41c.39.39.9.59 1.41.59.51 0 1.02-.2 1.41-.59l7.78-7.78 2.81-2.81c.8-.78.8-2.07 0-2.86zM5.41 20L4 18.59l7.72-7.72 1.47 1.35L5.41 20z\"/>\n",
              "  </svg>\n",
              "      </button>\n",
              "      \n",
              "  <style>\n",
              "    .colab-df-container {\n",
              "      display:flex;\n",
              "      flex-wrap:wrap;\n",
              "      gap: 12px;\n",
              "    }\n",
              "\n",
              "    .colab-df-convert {\n",
              "      background-color: #E8F0FE;\n",
              "      border: none;\n",
              "      border-radius: 50%;\n",
              "      cursor: pointer;\n",
              "      display: none;\n",
              "      fill: #1967D2;\n",
              "      height: 32px;\n",
              "      padding: 0 0 0 0;\n",
              "      width: 32px;\n",
              "    }\n",
              "\n",
              "    .colab-df-convert:hover {\n",
              "      background-color: #E2EBFA;\n",
              "      box-shadow: 0px 1px 2px rgba(60, 64, 67, 0.3), 0px 1px 3px 1px rgba(60, 64, 67, 0.15);\n",
              "      fill: #174EA6;\n",
              "    }\n",
              "\n",
              "    [theme=dark] .colab-df-convert {\n",
              "      background-color: #3B4455;\n",
              "      fill: #D2E3FC;\n",
              "    }\n",
              "\n",
              "    [theme=dark] .colab-df-convert:hover {\n",
              "      background-color: #434B5C;\n",
              "      box-shadow: 0px 1px 3px 1px rgba(0, 0, 0, 0.15);\n",
              "      filter: drop-shadow(0px 1px 2px rgba(0, 0, 0, 0.3));\n",
              "      fill: #FFFFFF;\n",
              "    }\n",
              "  </style>\n",
              "\n",
              "      <script>\n",
              "        const buttonEl =\n",
              "          document.querySelector('#df-0958f603-f11d-4f6b-a962-38b73733f919 button.colab-df-convert');\n",
              "        buttonEl.style.display =\n",
              "          google.colab.kernel.accessAllowed ? 'block' : 'none';\n",
              "\n",
              "        async function convertToInteractive(key) {\n",
              "          const element = document.querySelector('#df-0958f603-f11d-4f6b-a962-38b73733f919');\n",
              "          const dataTable =\n",
              "            await google.colab.kernel.invokeFunction('convertToInteractive',\n",
              "                                                     [key], {});\n",
              "          if (!dataTable) return;\n",
              "\n",
              "          const docLinkHtml = 'Like what you see? Visit the ' +\n",
              "            '<a target=\"_blank\" href=https://colab.research.google.com/notebooks/data_table.ipynb>data table notebook</a>'\n",
              "            + ' to learn more about interactive tables.';\n",
              "          element.innerHTML = '';\n",
              "          dataTable['output_type'] = 'display_data';\n",
              "          await google.colab.output.renderOutput(dataTable, element);\n",
              "          const docLink = document.createElement('div');\n",
              "          docLink.innerHTML = docLinkHtml;\n",
              "          element.appendChild(docLink);\n",
              "        }\n",
              "      </script>\n",
              "    </div>\n",
              "  </div>\n",
              "  "
            ]
          },
          "metadata": {},
          "execution_count": 15
        }
      ]
    },
    {
      "cell_type": "markdown",
      "source": [
        ">> - 국가별로 데이터의 크기가 동일함"
      ],
      "metadata": {
        "id": "kb2g2jhxySIw"
      }
    },
    {
      "cell_type": "code",
      "source": [
        "prod = ['Kaggle Advanced Techniques', 'Kaggle Getting Started', 'Kaggle Recipe Book', 'Kaggle for Kids: One Smart Goose']\n",
        "def check_item_num(df, list):\n",
        "    for i in list:\n",
        "        print(i)\n",
        "        tested = df[\"product\"] == i\n",
        "        print(len(df[tested]))\n",
        "\n",
        "check_item_num(train_df, prod)"
      ],
      "metadata": {
        "id": "pH_ST6t5t6hu",
        "colab": {
          "base_uri": "https://localhost:8080/"
        },
        "outputId": "e1a986c9-b0ff-402b-f3d8-1b550fa5c026"
      },
      "execution_count": null,
      "outputs": [
        {
          "output_type": "stream",
          "name": "stdout",
          "text": [
            "Kaggle Advanced Techniques\n",
            "17532\n",
            "Kaggle Getting Started\n",
            "17532\n",
            "Kaggle Recipe Book\n",
            "17532\n",
            "Kaggle for Kids: One Smart Goose\n",
            "17532\n"
          ]
        }
      ]
    },
    {
      "cell_type": "code",
      "source": [
        "train_df.groupby(\"product\").count()"
      ],
      "metadata": {
        "id": "LgW8NkluxM-J",
        "colab": {
          "base_uri": "https://localhost:8080/",
          "height": 206
        },
        "outputId": "b18de702-b349-4573-f881-0cad905d5bfc"
      },
      "execution_count": null,
      "outputs": [
        {
          "output_type": "execute_result",
          "data": {
            "text/plain": [
              "                                   date  country  store  num_sold\n",
              "product                                                          \n",
              "Kaggle Advanced Techniques        17532    17532  17532     17532\n",
              "Kaggle Getting Started            17532    17532  17532     17532\n",
              "Kaggle Recipe Book                17532    17532  17532     17532\n",
              "Kaggle for Kids: One Smart Goose  17532    17532  17532     17532"
            ],
            "text/html": [
              "\n",
              "  <div id=\"df-f8d1b277-202e-48f6-9d49-c24fefea6ea0\">\n",
              "    <div class=\"colab-df-container\">\n",
              "      <div>\n",
              "<style scoped>\n",
              "    .dataframe tbody tr th:only-of-type {\n",
              "        vertical-align: middle;\n",
              "    }\n",
              "\n",
              "    .dataframe tbody tr th {\n",
              "        vertical-align: top;\n",
              "    }\n",
              "\n",
              "    .dataframe thead th {\n",
              "        text-align: right;\n",
              "    }\n",
              "</style>\n",
              "<table border=\"1\" class=\"dataframe\">\n",
              "  <thead>\n",
              "    <tr style=\"text-align: right;\">\n",
              "      <th></th>\n",
              "      <th>date</th>\n",
              "      <th>country</th>\n",
              "      <th>store</th>\n",
              "      <th>num_sold</th>\n",
              "    </tr>\n",
              "    <tr>\n",
              "      <th>product</th>\n",
              "      <th></th>\n",
              "      <th></th>\n",
              "      <th></th>\n",
              "      <th></th>\n",
              "    </tr>\n",
              "  </thead>\n",
              "  <tbody>\n",
              "    <tr>\n",
              "      <th>Kaggle Advanced Techniques</th>\n",
              "      <td>17532</td>\n",
              "      <td>17532</td>\n",
              "      <td>17532</td>\n",
              "      <td>17532</td>\n",
              "    </tr>\n",
              "    <tr>\n",
              "      <th>Kaggle Getting Started</th>\n",
              "      <td>17532</td>\n",
              "      <td>17532</td>\n",
              "      <td>17532</td>\n",
              "      <td>17532</td>\n",
              "    </tr>\n",
              "    <tr>\n",
              "      <th>Kaggle Recipe Book</th>\n",
              "      <td>17532</td>\n",
              "      <td>17532</td>\n",
              "      <td>17532</td>\n",
              "      <td>17532</td>\n",
              "    </tr>\n",
              "    <tr>\n",
              "      <th>Kaggle for Kids: One Smart Goose</th>\n",
              "      <td>17532</td>\n",
              "      <td>17532</td>\n",
              "      <td>17532</td>\n",
              "      <td>17532</td>\n",
              "    </tr>\n",
              "  </tbody>\n",
              "</table>\n",
              "</div>\n",
              "      <button class=\"colab-df-convert\" onclick=\"convertToInteractive('df-f8d1b277-202e-48f6-9d49-c24fefea6ea0')\"\n",
              "              title=\"Convert this dataframe to an interactive table.\"\n",
              "              style=\"display:none;\">\n",
              "        \n",
              "  <svg xmlns=\"http://www.w3.org/2000/svg\" height=\"24px\"viewBox=\"0 0 24 24\"\n",
              "       width=\"24px\">\n",
              "    <path d=\"M0 0h24v24H0V0z\" fill=\"none\"/>\n",
              "    <path d=\"M18.56 5.44l.94 2.06.94-2.06 2.06-.94-2.06-.94-.94-2.06-.94 2.06-2.06.94zm-11 1L8.5 8.5l.94-2.06 2.06-.94-2.06-.94L8.5 2.5l-.94 2.06-2.06.94zm10 10l.94 2.06.94-2.06 2.06-.94-2.06-.94-.94-2.06-.94 2.06-2.06.94z\"/><path d=\"M17.41 7.96l-1.37-1.37c-.4-.4-.92-.59-1.43-.59-.52 0-1.04.2-1.43.59L10.3 9.45l-7.72 7.72c-.78.78-.78 2.05 0 2.83L4 21.41c.39.39.9.59 1.41.59.51 0 1.02-.2 1.41-.59l7.78-7.78 2.81-2.81c.8-.78.8-2.07 0-2.86zM5.41 20L4 18.59l7.72-7.72 1.47 1.35L5.41 20z\"/>\n",
              "  </svg>\n",
              "      </button>\n",
              "      \n",
              "  <style>\n",
              "    .colab-df-container {\n",
              "      display:flex;\n",
              "      flex-wrap:wrap;\n",
              "      gap: 12px;\n",
              "    }\n",
              "\n",
              "    .colab-df-convert {\n",
              "      background-color: #E8F0FE;\n",
              "      border: none;\n",
              "      border-radius: 50%;\n",
              "      cursor: pointer;\n",
              "      display: none;\n",
              "      fill: #1967D2;\n",
              "      height: 32px;\n",
              "      padding: 0 0 0 0;\n",
              "      width: 32px;\n",
              "    }\n",
              "\n",
              "    .colab-df-convert:hover {\n",
              "      background-color: #E2EBFA;\n",
              "      box-shadow: 0px 1px 2px rgba(60, 64, 67, 0.3), 0px 1px 3px 1px rgba(60, 64, 67, 0.15);\n",
              "      fill: #174EA6;\n",
              "    }\n",
              "\n",
              "    [theme=dark] .colab-df-convert {\n",
              "      background-color: #3B4455;\n",
              "      fill: #D2E3FC;\n",
              "    }\n",
              "\n",
              "    [theme=dark] .colab-df-convert:hover {\n",
              "      background-color: #434B5C;\n",
              "      box-shadow: 0px 1px 3px 1px rgba(0, 0, 0, 0.15);\n",
              "      filter: drop-shadow(0px 1px 2px rgba(0, 0, 0, 0.3));\n",
              "      fill: #FFFFFF;\n",
              "    }\n",
              "  </style>\n",
              "\n",
              "      <script>\n",
              "        const buttonEl =\n",
              "          document.querySelector('#df-f8d1b277-202e-48f6-9d49-c24fefea6ea0 button.colab-df-convert');\n",
              "        buttonEl.style.display =\n",
              "          google.colab.kernel.accessAllowed ? 'block' : 'none';\n",
              "\n",
              "        async function convertToInteractive(key) {\n",
              "          const element = document.querySelector('#df-f8d1b277-202e-48f6-9d49-c24fefea6ea0');\n",
              "          const dataTable =\n",
              "            await google.colab.kernel.invokeFunction('convertToInteractive',\n",
              "                                                     [key], {});\n",
              "          if (!dataTable) return;\n",
              "\n",
              "          const docLinkHtml = 'Like what you see? Visit the ' +\n",
              "            '<a target=\"_blank\" href=https://colab.research.google.com/notebooks/data_table.ipynb>data table notebook</a>'\n",
              "            + ' to learn more about interactive tables.';\n",
              "          element.innerHTML = '';\n",
              "          dataTable['output_type'] = 'display_data';\n",
              "          await google.colab.output.renderOutput(dataTable, element);\n",
              "          const docLink = document.createElement('div');\n",
              "          docLink.innerHTML = docLinkHtml;\n",
              "          element.appendChild(docLink);\n",
              "        }\n",
              "      </script>\n",
              "    </div>\n",
              "  </div>\n",
              "  "
            ]
          },
          "metadata": {},
          "execution_count": 17
        }
      ]
    },
    {
      "cell_type": "markdown",
      "source": [
        ">> - 아이템별로도 데이터의 크기가 동일함"
      ],
      "metadata": {
        "id": "B4G_f4qnzcZO"
      }
    },
    {
      "cell_type": "code",
      "source": [
        "train_df.groupby([\"country\", \"product\"]).count()"
      ],
      "metadata": {
        "id": "2qU9ULXkyv7K",
        "colab": {
          "base_uri": "https://localhost:8080/",
          "height": 833
        },
        "outputId": "9c721291-246e-49f5-a519-28178a777c76"
      },
      "execution_count": null,
      "outputs": [
        {
          "output_type": "execute_result",
          "data": {
            "text/plain": [
              "                                          date  store  num_sold\n",
              "country product                                                \n",
              "Belgium Kaggle Advanced Techniques        2922   2922      2922\n",
              "        Kaggle Getting Started            2922   2922      2922\n",
              "        Kaggle Recipe Book                2922   2922      2922\n",
              "        Kaggle for Kids: One Smart Goose  2922   2922      2922\n",
              "France  Kaggle Advanced Techniques        2922   2922      2922\n",
              "        Kaggle Getting Started            2922   2922      2922\n",
              "        Kaggle Recipe Book                2922   2922      2922\n",
              "        Kaggle for Kids: One Smart Goose  2922   2922      2922\n",
              "Germany Kaggle Advanced Techniques        2922   2922      2922\n",
              "        Kaggle Getting Started            2922   2922      2922\n",
              "        Kaggle Recipe Book                2922   2922      2922\n",
              "        Kaggle for Kids: One Smart Goose  2922   2922      2922\n",
              "Italy   Kaggle Advanced Techniques        2922   2922      2922\n",
              "        Kaggle Getting Started            2922   2922      2922\n",
              "        Kaggle Recipe Book                2922   2922      2922\n",
              "        Kaggle for Kids: One Smart Goose  2922   2922      2922\n",
              "Poland  Kaggle Advanced Techniques        2922   2922      2922\n",
              "        Kaggle Getting Started            2922   2922      2922\n",
              "        Kaggle Recipe Book                2922   2922      2922\n",
              "        Kaggle for Kids: One Smart Goose  2922   2922      2922\n",
              "Spain   Kaggle Advanced Techniques        2922   2922      2922\n",
              "        Kaggle Getting Started            2922   2922      2922\n",
              "        Kaggle Recipe Book                2922   2922      2922\n",
              "        Kaggle for Kids: One Smart Goose  2922   2922      2922"
            ],
            "text/html": [
              "\n",
              "  <div id=\"df-cf489d81-90cb-46de-8620-e21d7b12fd8e\">\n",
              "    <div class=\"colab-df-container\">\n",
              "      <div>\n",
              "<style scoped>\n",
              "    .dataframe tbody tr th:only-of-type {\n",
              "        vertical-align: middle;\n",
              "    }\n",
              "\n",
              "    .dataframe tbody tr th {\n",
              "        vertical-align: top;\n",
              "    }\n",
              "\n",
              "    .dataframe thead th {\n",
              "        text-align: right;\n",
              "    }\n",
              "</style>\n",
              "<table border=\"1\" class=\"dataframe\">\n",
              "  <thead>\n",
              "    <tr style=\"text-align: right;\">\n",
              "      <th></th>\n",
              "      <th></th>\n",
              "      <th>date</th>\n",
              "      <th>store</th>\n",
              "      <th>num_sold</th>\n",
              "    </tr>\n",
              "    <tr>\n",
              "      <th>country</th>\n",
              "      <th>product</th>\n",
              "      <th></th>\n",
              "      <th></th>\n",
              "      <th></th>\n",
              "    </tr>\n",
              "  </thead>\n",
              "  <tbody>\n",
              "    <tr>\n",
              "      <th rowspan=\"4\" valign=\"top\">Belgium</th>\n",
              "      <th>Kaggle Advanced Techniques</th>\n",
              "      <td>2922</td>\n",
              "      <td>2922</td>\n",
              "      <td>2922</td>\n",
              "    </tr>\n",
              "    <tr>\n",
              "      <th>Kaggle Getting Started</th>\n",
              "      <td>2922</td>\n",
              "      <td>2922</td>\n",
              "      <td>2922</td>\n",
              "    </tr>\n",
              "    <tr>\n",
              "      <th>Kaggle Recipe Book</th>\n",
              "      <td>2922</td>\n",
              "      <td>2922</td>\n",
              "      <td>2922</td>\n",
              "    </tr>\n",
              "    <tr>\n",
              "      <th>Kaggle for Kids: One Smart Goose</th>\n",
              "      <td>2922</td>\n",
              "      <td>2922</td>\n",
              "      <td>2922</td>\n",
              "    </tr>\n",
              "    <tr>\n",
              "      <th rowspan=\"4\" valign=\"top\">France</th>\n",
              "      <th>Kaggle Advanced Techniques</th>\n",
              "      <td>2922</td>\n",
              "      <td>2922</td>\n",
              "      <td>2922</td>\n",
              "    </tr>\n",
              "    <tr>\n",
              "      <th>Kaggle Getting Started</th>\n",
              "      <td>2922</td>\n",
              "      <td>2922</td>\n",
              "      <td>2922</td>\n",
              "    </tr>\n",
              "    <tr>\n",
              "      <th>Kaggle Recipe Book</th>\n",
              "      <td>2922</td>\n",
              "      <td>2922</td>\n",
              "      <td>2922</td>\n",
              "    </tr>\n",
              "    <tr>\n",
              "      <th>Kaggle for Kids: One Smart Goose</th>\n",
              "      <td>2922</td>\n",
              "      <td>2922</td>\n",
              "      <td>2922</td>\n",
              "    </tr>\n",
              "    <tr>\n",
              "      <th rowspan=\"4\" valign=\"top\">Germany</th>\n",
              "      <th>Kaggle Advanced Techniques</th>\n",
              "      <td>2922</td>\n",
              "      <td>2922</td>\n",
              "      <td>2922</td>\n",
              "    </tr>\n",
              "    <tr>\n",
              "      <th>Kaggle Getting Started</th>\n",
              "      <td>2922</td>\n",
              "      <td>2922</td>\n",
              "      <td>2922</td>\n",
              "    </tr>\n",
              "    <tr>\n",
              "      <th>Kaggle Recipe Book</th>\n",
              "      <td>2922</td>\n",
              "      <td>2922</td>\n",
              "      <td>2922</td>\n",
              "    </tr>\n",
              "    <tr>\n",
              "      <th>Kaggle for Kids: One Smart Goose</th>\n",
              "      <td>2922</td>\n",
              "      <td>2922</td>\n",
              "      <td>2922</td>\n",
              "    </tr>\n",
              "    <tr>\n",
              "      <th rowspan=\"4\" valign=\"top\">Italy</th>\n",
              "      <th>Kaggle Advanced Techniques</th>\n",
              "      <td>2922</td>\n",
              "      <td>2922</td>\n",
              "      <td>2922</td>\n",
              "    </tr>\n",
              "    <tr>\n",
              "      <th>Kaggle Getting Started</th>\n",
              "      <td>2922</td>\n",
              "      <td>2922</td>\n",
              "      <td>2922</td>\n",
              "    </tr>\n",
              "    <tr>\n",
              "      <th>Kaggle Recipe Book</th>\n",
              "      <td>2922</td>\n",
              "      <td>2922</td>\n",
              "      <td>2922</td>\n",
              "    </tr>\n",
              "    <tr>\n",
              "      <th>Kaggle for Kids: One Smart Goose</th>\n",
              "      <td>2922</td>\n",
              "      <td>2922</td>\n",
              "      <td>2922</td>\n",
              "    </tr>\n",
              "    <tr>\n",
              "      <th rowspan=\"4\" valign=\"top\">Poland</th>\n",
              "      <th>Kaggle Advanced Techniques</th>\n",
              "      <td>2922</td>\n",
              "      <td>2922</td>\n",
              "      <td>2922</td>\n",
              "    </tr>\n",
              "    <tr>\n",
              "      <th>Kaggle Getting Started</th>\n",
              "      <td>2922</td>\n",
              "      <td>2922</td>\n",
              "      <td>2922</td>\n",
              "    </tr>\n",
              "    <tr>\n",
              "      <th>Kaggle Recipe Book</th>\n",
              "      <td>2922</td>\n",
              "      <td>2922</td>\n",
              "      <td>2922</td>\n",
              "    </tr>\n",
              "    <tr>\n",
              "      <th>Kaggle for Kids: One Smart Goose</th>\n",
              "      <td>2922</td>\n",
              "      <td>2922</td>\n",
              "      <td>2922</td>\n",
              "    </tr>\n",
              "    <tr>\n",
              "      <th rowspan=\"4\" valign=\"top\">Spain</th>\n",
              "      <th>Kaggle Advanced Techniques</th>\n",
              "      <td>2922</td>\n",
              "      <td>2922</td>\n",
              "      <td>2922</td>\n",
              "    </tr>\n",
              "    <tr>\n",
              "      <th>Kaggle Getting Started</th>\n",
              "      <td>2922</td>\n",
              "      <td>2922</td>\n",
              "      <td>2922</td>\n",
              "    </tr>\n",
              "    <tr>\n",
              "      <th>Kaggle Recipe Book</th>\n",
              "      <td>2922</td>\n",
              "      <td>2922</td>\n",
              "      <td>2922</td>\n",
              "    </tr>\n",
              "    <tr>\n",
              "      <th>Kaggle for Kids: One Smart Goose</th>\n",
              "      <td>2922</td>\n",
              "      <td>2922</td>\n",
              "      <td>2922</td>\n",
              "    </tr>\n",
              "  </tbody>\n",
              "</table>\n",
              "</div>\n",
              "      <button class=\"colab-df-convert\" onclick=\"convertToInteractive('df-cf489d81-90cb-46de-8620-e21d7b12fd8e')\"\n",
              "              title=\"Convert this dataframe to an interactive table.\"\n",
              "              style=\"display:none;\">\n",
              "        \n",
              "  <svg xmlns=\"http://www.w3.org/2000/svg\" height=\"24px\"viewBox=\"0 0 24 24\"\n",
              "       width=\"24px\">\n",
              "    <path d=\"M0 0h24v24H0V0z\" fill=\"none\"/>\n",
              "    <path d=\"M18.56 5.44l.94 2.06.94-2.06 2.06-.94-2.06-.94-.94-2.06-.94 2.06-2.06.94zm-11 1L8.5 8.5l.94-2.06 2.06-.94-2.06-.94L8.5 2.5l-.94 2.06-2.06.94zm10 10l.94 2.06.94-2.06 2.06-.94-2.06-.94-.94-2.06-.94 2.06-2.06.94z\"/><path d=\"M17.41 7.96l-1.37-1.37c-.4-.4-.92-.59-1.43-.59-.52 0-1.04.2-1.43.59L10.3 9.45l-7.72 7.72c-.78.78-.78 2.05 0 2.83L4 21.41c.39.39.9.59 1.41.59.51 0 1.02-.2 1.41-.59l7.78-7.78 2.81-2.81c.8-.78.8-2.07 0-2.86zM5.41 20L4 18.59l7.72-7.72 1.47 1.35L5.41 20z\"/>\n",
              "  </svg>\n",
              "      </button>\n",
              "      \n",
              "  <style>\n",
              "    .colab-df-container {\n",
              "      display:flex;\n",
              "      flex-wrap:wrap;\n",
              "      gap: 12px;\n",
              "    }\n",
              "\n",
              "    .colab-df-convert {\n",
              "      background-color: #E8F0FE;\n",
              "      border: none;\n",
              "      border-radius: 50%;\n",
              "      cursor: pointer;\n",
              "      display: none;\n",
              "      fill: #1967D2;\n",
              "      height: 32px;\n",
              "      padding: 0 0 0 0;\n",
              "      width: 32px;\n",
              "    }\n",
              "\n",
              "    .colab-df-convert:hover {\n",
              "      background-color: #E2EBFA;\n",
              "      box-shadow: 0px 1px 2px rgba(60, 64, 67, 0.3), 0px 1px 3px 1px rgba(60, 64, 67, 0.15);\n",
              "      fill: #174EA6;\n",
              "    }\n",
              "\n",
              "    [theme=dark] .colab-df-convert {\n",
              "      background-color: #3B4455;\n",
              "      fill: #D2E3FC;\n",
              "    }\n",
              "\n",
              "    [theme=dark] .colab-df-convert:hover {\n",
              "      background-color: #434B5C;\n",
              "      box-shadow: 0px 1px 3px 1px rgba(0, 0, 0, 0.15);\n",
              "      filter: drop-shadow(0px 1px 2px rgba(0, 0, 0, 0.3));\n",
              "      fill: #FFFFFF;\n",
              "    }\n",
              "  </style>\n",
              "\n",
              "      <script>\n",
              "        const buttonEl =\n",
              "          document.querySelector('#df-cf489d81-90cb-46de-8620-e21d7b12fd8e button.colab-df-convert');\n",
              "        buttonEl.style.display =\n",
              "          google.colab.kernel.accessAllowed ? 'block' : 'none';\n",
              "\n",
              "        async function convertToInteractive(key) {\n",
              "          const element = document.querySelector('#df-cf489d81-90cb-46de-8620-e21d7b12fd8e');\n",
              "          const dataTable =\n",
              "            await google.colab.kernel.invokeFunction('convertToInteractive',\n",
              "                                                     [key], {});\n",
              "          if (!dataTable) return;\n",
              "\n",
              "          const docLinkHtml = 'Like what you see? Visit the ' +\n",
              "            '<a target=\"_blank\" href=https://colab.research.google.com/notebooks/data_table.ipynb>data table notebook</a>'\n",
              "            + ' to learn more about interactive tables.';\n",
              "          element.innerHTML = '';\n",
              "          dataTable['output_type'] = 'display_data';\n",
              "          await google.colab.output.renderOutput(dataTable, element);\n",
              "          const docLink = document.createElement('div');\n",
              "          docLink.innerHTML = docLinkHtml;\n",
              "          element.appendChild(docLink);\n",
              "        }\n",
              "      </script>\n",
              "    </div>\n",
              "  </div>\n",
              "  "
            ]
          },
          "metadata": {},
          "execution_count": 18
        }
      ]
    },
    {
      "cell_type": "markdown",
      "source": [
        ">> - 모든 곳에 동일한 크기의 데이터가 존재함"
      ],
      "metadata": {
        "id": "jI1Y2UESzv0o"
      }
    },
    {
      "cell_type": "markdown",
      "source": [
        "- 날짜를 object 타입에서 datetime으로 변경"
      ],
      "metadata": {
        "id": "hx20gWgC1ASt"
      }
    },
    {
      "cell_type": "code",
      "source": [
        "train_df[\"date\"] = pd.to_datetime(train_df[\"date\"])\n",
        "test_df[\"date\"] = pd.to_datetime(test_df[\"date\"])"
      ],
      "metadata": {
        "id": "UR_4WXTh1ACH"
      },
      "execution_count": null,
      "outputs": []
    },
    {
      "cell_type": "code",
      "source": [
        "train_df[\"year\"] = train_df[\"date\"].dt.year\n",
        "train_df['month'] = train_df[\"date\"].dt.month\n",
        "train_df['day'] = train_df[\"date\"].dt.day\n",
        "train_df[\"day_of_year\"] = train_df[\"date\"].dt.dayofyear\n",
        "train_df[\"quarter\"] = train_df[\"date\"].dt.quarter\n",
        "\n",
        "test_df[\"year\"] = test_df[\"date\"].dt.year\n",
        "test_df[\"month\"] = test_df[\"date\"].dt.month\n",
        "test_df[\"day\"] = test_df[\"date\"].dt.day\n",
        "test_df[\"day_of_year\"] = test_df[\"date\"].dt.dayofyear\n",
        "test_df[\"quarter\"] = test_df[\"date\"].dt.quarter"
      ],
      "metadata": {
        "id": "H0OD1PXE0jzt"
      },
      "execution_count": null,
      "outputs": []
    },
    {
      "cell_type": "code",
      "source": [
        "train_df.head(2)"
      ],
      "metadata": {
        "id": "VwLzxGtB1_oy",
        "colab": {
          "base_uri": "https://localhost:8080/",
          "height": 191
        },
        "outputId": "4b7286e0-85d8-41dd-82df-9fb3ab88ab70"
      },
      "execution_count": null,
      "outputs": [
        {
          "output_type": "execute_result",
          "data": {
            "text/plain": [
              "        date  country       store                     product  num_sold  year  \\\n",
              "0 2017-01-01  Belgium  KaggleMart  Kaggle Advanced Techniques       663  2017   \n",
              "1 2017-01-01  Belgium  KaggleMart      Kaggle Getting Started       615  2017   \n",
              "\n",
              "   month  day  day_of_year  quarter  \n",
              "0      1    1            1        1  \n",
              "1      1    1            1        1  "
            ],
            "text/html": [
              "\n",
              "  <div id=\"df-fc66ea96-9ed0-456a-ac1b-4e79028a48e2\">\n",
              "    <div class=\"colab-df-container\">\n",
              "      <div>\n",
              "<style scoped>\n",
              "    .dataframe tbody tr th:only-of-type {\n",
              "        vertical-align: middle;\n",
              "    }\n",
              "\n",
              "    .dataframe tbody tr th {\n",
              "        vertical-align: top;\n",
              "    }\n",
              "\n",
              "    .dataframe thead th {\n",
              "        text-align: right;\n",
              "    }\n",
              "</style>\n",
              "<table border=\"1\" class=\"dataframe\">\n",
              "  <thead>\n",
              "    <tr style=\"text-align: right;\">\n",
              "      <th></th>\n",
              "      <th>date</th>\n",
              "      <th>country</th>\n",
              "      <th>store</th>\n",
              "      <th>product</th>\n",
              "      <th>num_sold</th>\n",
              "      <th>year</th>\n",
              "      <th>month</th>\n",
              "      <th>day</th>\n",
              "      <th>day_of_year</th>\n",
              "      <th>quarter</th>\n",
              "    </tr>\n",
              "  </thead>\n",
              "  <tbody>\n",
              "    <tr>\n",
              "      <th>0</th>\n",
              "      <td>2017-01-01</td>\n",
              "      <td>Belgium</td>\n",
              "      <td>KaggleMart</td>\n",
              "      <td>Kaggle Advanced Techniques</td>\n",
              "      <td>663</td>\n",
              "      <td>2017</td>\n",
              "      <td>1</td>\n",
              "      <td>1</td>\n",
              "      <td>1</td>\n",
              "      <td>1</td>\n",
              "    </tr>\n",
              "    <tr>\n",
              "      <th>1</th>\n",
              "      <td>2017-01-01</td>\n",
              "      <td>Belgium</td>\n",
              "      <td>KaggleMart</td>\n",
              "      <td>Kaggle Getting Started</td>\n",
              "      <td>615</td>\n",
              "      <td>2017</td>\n",
              "      <td>1</td>\n",
              "      <td>1</td>\n",
              "      <td>1</td>\n",
              "      <td>1</td>\n",
              "    </tr>\n",
              "  </tbody>\n",
              "</table>\n",
              "</div>\n",
              "      <button class=\"colab-df-convert\" onclick=\"convertToInteractive('df-fc66ea96-9ed0-456a-ac1b-4e79028a48e2')\"\n",
              "              title=\"Convert this dataframe to an interactive table.\"\n",
              "              style=\"display:none;\">\n",
              "        \n",
              "  <svg xmlns=\"http://www.w3.org/2000/svg\" height=\"24px\"viewBox=\"0 0 24 24\"\n",
              "       width=\"24px\">\n",
              "    <path d=\"M0 0h24v24H0V0z\" fill=\"none\"/>\n",
              "    <path d=\"M18.56 5.44l.94 2.06.94-2.06 2.06-.94-2.06-.94-.94-2.06-.94 2.06-2.06.94zm-11 1L8.5 8.5l.94-2.06 2.06-.94-2.06-.94L8.5 2.5l-.94 2.06-2.06.94zm10 10l.94 2.06.94-2.06 2.06-.94-2.06-.94-.94-2.06-.94 2.06-2.06.94z\"/><path d=\"M17.41 7.96l-1.37-1.37c-.4-.4-.92-.59-1.43-.59-.52 0-1.04.2-1.43.59L10.3 9.45l-7.72 7.72c-.78.78-.78 2.05 0 2.83L4 21.41c.39.39.9.59 1.41.59.51 0 1.02-.2 1.41-.59l7.78-7.78 2.81-2.81c.8-.78.8-2.07 0-2.86zM5.41 20L4 18.59l7.72-7.72 1.47 1.35L5.41 20z\"/>\n",
              "  </svg>\n",
              "      </button>\n",
              "      \n",
              "  <style>\n",
              "    .colab-df-container {\n",
              "      display:flex;\n",
              "      flex-wrap:wrap;\n",
              "      gap: 12px;\n",
              "    }\n",
              "\n",
              "    .colab-df-convert {\n",
              "      background-color: #E8F0FE;\n",
              "      border: none;\n",
              "      border-radius: 50%;\n",
              "      cursor: pointer;\n",
              "      display: none;\n",
              "      fill: #1967D2;\n",
              "      height: 32px;\n",
              "      padding: 0 0 0 0;\n",
              "      width: 32px;\n",
              "    }\n",
              "\n",
              "    .colab-df-convert:hover {\n",
              "      background-color: #E2EBFA;\n",
              "      box-shadow: 0px 1px 2px rgba(60, 64, 67, 0.3), 0px 1px 3px 1px rgba(60, 64, 67, 0.15);\n",
              "      fill: #174EA6;\n",
              "    }\n",
              "\n",
              "    [theme=dark] .colab-df-convert {\n",
              "      background-color: #3B4455;\n",
              "      fill: #D2E3FC;\n",
              "    }\n",
              "\n",
              "    [theme=dark] .colab-df-convert:hover {\n",
              "      background-color: #434B5C;\n",
              "      box-shadow: 0px 1px 3px 1px rgba(0, 0, 0, 0.15);\n",
              "      filter: drop-shadow(0px 1px 2px rgba(0, 0, 0, 0.3));\n",
              "      fill: #FFFFFF;\n",
              "    }\n",
              "  </style>\n",
              "\n",
              "      <script>\n",
              "        const buttonEl =\n",
              "          document.querySelector('#df-fc66ea96-9ed0-456a-ac1b-4e79028a48e2 button.colab-df-convert');\n",
              "        buttonEl.style.display =\n",
              "          google.colab.kernel.accessAllowed ? 'block' : 'none';\n",
              "\n",
              "        async function convertToInteractive(key) {\n",
              "          const element = document.querySelector('#df-fc66ea96-9ed0-456a-ac1b-4e79028a48e2');\n",
              "          const dataTable =\n",
              "            await google.colab.kernel.invokeFunction('convertToInteractive',\n",
              "                                                     [key], {});\n",
              "          if (!dataTable) return;\n",
              "\n",
              "          const docLinkHtml = 'Like what you see? Visit the ' +\n",
              "            '<a target=\"_blank\" href=https://colab.research.google.com/notebooks/data_table.ipynb>data table notebook</a>'\n",
              "            + ' to learn more about interactive tables.';\n",
              "          element.innerHTML = '';\n",
              "          dataTable['output_type'] = 'display_data';\n",
              "          await google.colab.output.renderOutput(dataTable, element);\n",
              "          const docLink = document.createElement('div');\n",
              "          docLink.innerHTML = docLinkHtml;\n",
              "          element.appendChild(docLink);\n",
              "        }\n",
              "      </script>\n",
              "    </div>\n",
              "  </div>\n",
              "  "
            ]
          },
          "metadata": {},
          "execution_count": 21
        }
      ]
    },
    {
      "cell_type": "markdown",
      "source": [
        "- 아래 시각화 자료 세 개(추세 확인용)는 다음 노트북에서 사용\n",
        "https://www.kaggle.com/code/ehekatlact/tps2209-ridge-lgbm-eda-topdownapproach"
      ],
      "metadata": {
        "id": "pI-tb_JgF1rZ"
      }
    },
    {
      "cell_type": "code",
      "source": [
        "date_groupby = train_df.groupby(\"date\").sum().reset_index()\n",
        "plt.plot(date_groupby[\"date\"], date_groupby[\"num_sold\"])"
      ],
      "metadata": {
        "id": "Cme0XqL8BhZ_",
        "colab": {
          "base_uri": "https://localhost:8080/",
          "height": 283
        },
        "outputId": "db43d7c0-4dde-4329-b8e0-b7a8f6b690c3"
      },
      "execution_count": null,
      "outputs": [
        {
          "output_type": "execute_result",
          "data": {
            "text/plain": [
              "[<matplotlib.lines.Line2D at 0x7fa88af16710>]"
            ]
          },
          "metadata": {},
          "execution_count": 22
        },
        {
          "output_type": "display_data",
          "data": {
            "text/plain": [
              "<Figure size 432x288 with 1 Axes>"
            ],
            "image/png": "[encoded data removed]"
          },
          "metadata": {
            "needs_background": "light"
          }
        }
      ]
    },
    {
      "cell_type": "markdown",
      "source": [
        ">> - 2020년 1월 경 추세가 바뀌고 있음"
      ],
      "metadata": {
        "id": "Lr-IA8PKFDAC"
      }
    },
    {
      "cell_type": "code",
      "source": [
        "for country in train_df[\"country\"].unique():\n",
        "    filtered_train = train_df[train_df[\"country\"] == country]\n",
        "\n",
        "    date_groupby = filtered_train.groupby(\"date\").sum().reset_index()\n",
        "    plt.plot(date_groupby[\"date\"], date_groupby[\"num_sold\"], label = country)\n",
        "plt.legend()\n",
        "plt.show()"
      ],
      "metadata": {
        "id": "Jsj2iSHEF9-8",
        "colab": {
          "base_uri": "https://localhost:8080/",
          "height": 265
        },
        "outputId": "ea845269-2270-4e19-877d-67e8f024fd41"
      },
      "execution_count": null,
      "outputs": [
        {
          "output_type": "display_data",
          "data": {
            "text/plain": [
              "<Figure size 432x288 with 1 Axes>"
            ],
            "image/png": "[encoded data removed]"
          },
          "metadata": {
            "needs_background": "light"
          }
        }
      ]
    },
    {
      "cell_type": "markdown",
      "source": [
        ">> - 2020년 1월 이후에는 국가별 차이가 거의 존재하지 않음"
      ],
      "metadata": {
        "id": "G5dbkEV6IQLI"
      }
    },
    {
      "cell_type": "code",
      "source": [
        "for store in train_df[\"store\"].unique():\n",
        "    filtered_train = train_df[train_df[\"store\"] == store]\n",
        "    grouped_train = filtered_train.groupby(\"date\").sum().reset_index()\n",
        "    plt.plot(grouped_train[\"date\"], grouped_train[\"num_sold\"], label = store)\n",
        "plt.legend()\n",
        "plt.show()"
      ],
      "metadata": {
        "id": "7Dw4O43AQLLf",
        "colab": {
          "base_uri": "https://localhost:8080/",
          "height": 265
        },
        "outputId": "8323e7eb-9362-4785-9683-d8e1ebd824a1"
      },
      "execution_count": null,
      "outputs": [
        {
          "output_type": "display_data",
          "data": {
            "text/plain": [
              "<Figure size 432x288 with 1 Axes>"
            ],
            "image/png": "[encoded data removed]"
          },
          "metadata": {
            "needs_background": "light"
          }
        }
      ]
    },
    {
      "cell_type": "markdown",
      "source": [
        ">> - 원래는 점포별로 추세를 확인하지 않으려 했지만 비슷한 판매량을 가지고 있다면 예측에 방해가 될 것으로 판단하여 점포별로 확인해보았음\n",
        "> - Mart에 비해 Rama가 더 낮은 판매량을 기록하고 있기에 어느정도 의미가 있는 것으로 보임"
      ],
      "metadata": {
        "id": "rTYj01FlQ4Dk"
      }
    },
    {
      "cell_type": "markdown",
      "source": [
        "- 위의 국가들을 보고 각 국가별로 따로 휴일을 설정해야하나 고민했으나 인접한 국가여서 시차가 거의 나지 않는 것을 확인하였고 pandas weekday를 사용\n",
        "- 원 핫 인코딩을 통해 분리한 이후 4,5,6(금, 토, 일)의 값 확인\n",
        "- 선정이유 : 주말에는 대체적으로 사람들이 방문하는 경우가 많을 것이므로 "
      ],
      "metadata": {
        "id": "GWxS16Sd_hdj"
      }
    },
    {
      "cell_type": "code",
      "source": [
        "train_df[\"weekday\"]= train_df[\"date\"].dt.weekday\n",
        "test_df[\"weekday\"] = test_df[\"date\"].dt.weekday"
      ],
      "metadata": {
        "id": "oTk4Ou3eJMTO"
      },
      "execution_count": null,
      "outputs": []
    },
    {
      "cell_type": "code",
      "source": [
        "train_df.head(2)"
      ],
      "metadata": {
        "id": "WLzb-9jqNN1S",
        "colab": {
          "base_uri": "https://localhost:8080/",
          "height": 191
        },
        "outputId": "e1909b5e-9c68-47b9-fa30-a21bb66f2bf0"
      },
      "execution_count": null,
      "outputs": [
        {
          "output_type": "execute_result",
          "data": {
            "text/plain": [
              "        date  country       store                     product  num_sold  year  \\\n",
              "0 2017-01-01  Belgium  KaggleMart  Kaggle Advanced Techniques       663  2017   \n",
              "1 2017-01-01  Belgium  KaggleMart      Kaggle Getting Started       615  2017   \n",
              "\n",
              "   month  day  day_of_year  quarter  weekday  \n",
              "0      1    1            1        1        6  \n",
              "1      1    1            1        1        6  "
            ],
            "text/html": [
              "\n",
              "  <div id=\"df-aad39ce0-101f-4ebc-9a27-d5cbb1716f3c\">\n",
              "    <div class=\"colab-df-container\">\n",
              "      <div>\n",
              "<style scoped>\n",
              "    .dataframe tbody tr th:only-of-type {\n",
              "        vertical-align: middle;\n",
              "    }\n",
              "\n",
              "    .dataframe tbody tr th {\n",
              "        vertical-align: top;\n",
              "    }\n",
              "\n",
              "    .dataframe thead th {\n",
              "        text-align: right;\n",
              "    }\n",
              "</style>\n",
              "<table border=\"1\" class=\"dataframe\">\n",
              "  <thead>\n",
              "    <tr style=\"text-align: right;\">\n",
              "      <th></th>\n",
              "      <th>date</th>\n",
              "      <th>country</th>\n",
              "      <th>store</th>\n",
              "      <th>product</th>\n",
              "      <th>num_sold</th>\n",
              "      <th>year</th>\n",
              "      <th>month</th>\n",
              "      <th>day</th>\n",
              "      <th>day_of_year</th>\n",
              "      <th>quarter</th>\n",
              "      <th>weekday</th>\n",
              "    </tr>\n",
              "  </thead>\n",
              "  <tbody>\n",
              "    <tr>\n",
              "      <th>0</th>\n",
              "      <td>2017-01-01</td>\n",
              "      <td>Belgium</td>\n",
              "      <td>KaggleMart</td>\n",
              "      <td>Kaggle Advanced Techniques</td>\n",
              "      <td>663</td>\n",
              "      <td>2017</td>\n",
              "      <td>1</td>\n",
              "      <td>1</td>\n",
              "      <td>1</td>\n",
              "      <td>1</td>\n",
              "      <td>6</td>\n",
              "    </tr>\n",
              "    <tr>\n",
              "      <th>1</th>\n",
              "      <td>2017-01-01</td>\n",
              "      <td>Belgium</td>\n",
              "      <td>KaggleMart</td>\n",
              "      <td>Kaggle Getting Started</td>\n",
              "      <td>615</td>\n",
              "      <td>2017</td>\n",
              "      <td>1</td>\n",
              "      <td>1</td>\n",
              "      <td>1</td>\n",
              "      <td>1</td>\n",
              "      <td>6</td>\n",
              "    </tr>\n",
              "  </tbody>\n",
              "</table>\n",
              "</div>\n",
              "      <button class=\"colab-df-convert\" onclick=\"convertToInteractive('df-aad39ce0-101f-4ebc-9a27-d5cbb1716f3c')\"\n",
              "              title=\"Convert this dataframe to an interactive table.\"\n",
              "              style=\"display:none;\">\n",
              "        \n",
              "  <svg xmlns=\"http://www.w3.org/2000/svg\" height=\"24px\"viewBox=\"0 0 24 24\"\n",
              "       width=\"24px\">\n",
              "    <path d=\"M0 0h24v24H0V0z\" fill=\"none\"/>\n",
              "    <path d=\"M18.56 5.44l.94 2.06.94-2.06 2.06-.94-2.06-.94-.94-2.06-.94 2.06-2.06.94zm-11 1L8.5 8.5l.94-2.06 2.06-.94-2.06-.94L8.5 2.5l-.94 2.06-2.06.94zm10 10l.94 2.06.94-2.06 2.06-.94-2.06-.94-.94-2.06-.94 2.06-2.06.94z\"/><path d=\"M17.41 7.96l-1.37-1.37c-.4-.4-.92-.59-1.43-.59-.52 0-1.04.2-1.43.59L10.3 9.45l-7.72 7.72c-.78.78-.78 2.05 0 2.83L4 21.41c.39.39.9.59 1.41.59.51 0 1.02-.2 1.41-.59l7.78-7.78 2.81-2.81c.8-.78.8-2.07 0-2.86zM5.41 20L4 18.59l7.72-7.72 1.47 1.35L5.41 20z\"/>\n",
              "  </svg>\n",
              "      </button>\n",
              "      \n",
              "  <style>\n",
              "    .colab-df-container {\n",
              "      display:flex;\n",
              "      flex-wrap:wrap;\n",
              "      gap: 12px;\n",
              "    }\n",
              "\n",
              "    .colab-df-convert {\n",
              "      background-color: #E8F0FE;\n",
              "      border: none;\n",
              "      border-radius: 50%;\n",
              "      cursor: pointer;\n",
              "      display: none;\n",
              "      fill: #1967D2;\n",
              "      height: 32px;\n",
              "      padding: 0 0 0 0;\n",
              "      width: 32px;\n",
              "    }\n",
              "\n",
              "    .colab-df-convert:hover {\n",
              "      background-color: #E2EBFA;\n",
              "      box-shadow: 0px 1px 2px rgba(60, 64, 67, 0.3), 0px 1px 3px 1px rgba(60, 64, 67, 0.15);\n",
              "      fill: #174EA6;\n",
              "    }\n",
              "\n",
              "    [theme=dark] .colab-df-convert {\n",
              "      background-color: #3B4455;\n",
              "      fill: #D2E3FC;\n",
              "    }\n",
              "\n",
              "    [theme=dark] .colab-df-convert:hover {\n",
              "      background-color: #434B5C;\n",
              "      box-shadow: 0px 1px 3px 1px rgba(0, 0, 0, 0.15);\n",
              "      filter: drop-shadow(0px 1px 2px rgba(0, 0, 0, 0.3));\n",
              "      fill: #FFFFFF;\n",
              "    }\n",
              "  </style>\n",
              "\n",
              "      <script>\n",
              "        const buttonEl =\n",
              "          document.querySelector('#df-aad39ce0-101f-4ebc-9a27-d5cbb1716f3c button.colab-df-convert');\n",
              "        buttonEl.style.display =\n",
              "          google.colab.kernel.accessAllowed ? 'block' : 'none';\n",
              "\n",
              "        async function convertToInteractive(key) {\n",
              "          const element = document.querySelector('#df-aad39ce0-101f-4ebc-9a27-d5cbb1716f3c');\n",
              "          const dataTable =\n",
              "            await google.colab.kernel.invokeFunction('convertToInteractive',\n",
              "                                                     [key], {});\n",
              "          if (!dataTable) return;\n",
              "\n",
              "          const docLinkHtml = 'Like what you see? Visit the ' +\n",
              "            '<a target=\"_blank\" href=https://colab.research.google.com/notebooks/data_table.ipynb>data table notebook</a>'\n",
              "            + ' to learn more about interactive tables.';\n",
              "          element.innerHTML = '';\n",
              "          dataTable['output_type'] = 'display_data';\n",
              "          await google.colab.output.renderOutput(dataTable, element);\n",
              "          const docLink = document.createElement('div');\n",
              "          docLink.innerHTML = docLinkHtml;\n",
              "          element.appendChild(docLink);\n",
              "        }\n",
              "      </script>\n",
              "    </div>\n",
              "  </div>\n",
              "  "
            ]
          },
          "metadata": {},
          "execution_count": 26
        }
      ]
    },
    {
      "cell_type": "markdown",
      "source": [
        "- 위의 판매량을 보았을 때 7 ~ 10월은 판매량이 감소하고 11 ~ 6월은 증가하거나 유지하는 모습을 보임\n",
        "- 7~10월을 0, 11월 ~6월을 1로 설정할 것임\n",
        "- columns name은 is_nov_to_june"
      ],
      "metadata": {
        "id": "r9nowMbfYeI7"
      }
    },
    {
      "cell_type": "code",
      "source": [
        "train_df[\"is_nov_to_june\"] = np.where((train_df[\"month\"] == 11) | (train_df[\"month\"] == 12) | (train_df[\"month\"] == 1) | (train_df[\"month\"] == 2) | (train_df[\"month\"] == 3) | \\\n",
        "                                      (train_df[\"month\"] == 4) | (train_df[\"month\"] == 5) | (train_df[\"month\"] == 6), 1, 0)\n",
        "test_df[\"is_nov_to_june\"] = np.where((test_df[\"month\"] == 11) | (test_df[\"month\"] == 12) | (test_df[\"month\"] == 1) | (test_df[\"month\"] == 2) | (test_df[\"month\"] == 3) | \\\n",
        "                                      (test_df[\"month\"] == 4) | (test_df[\"month\"] == 5) | (test_df[\"month\"] == 6), 1, 0)"
      ],
      "metadata": {
        "id": "5h_Yc9F9Y5ej"
      },
      "execution_count": null,
      "outputs": []
    },
    {
      "cell_type": "markdown",
      "source": [
        "- 요일별 판매량 확인"
      ],
      "metadata": {
        "id": "4DfvM5kFY7PD"
      }
    },
    {
      "cell_type": "code",
      "source": [
        "check_days_sold = []\n",
        "for i in range(7):\n",
        "    temp_count = train_df[\"weekday\"] == i\n",
        "    temp_train = train_df[temp_count]\n",
        "    sum_y = temp_train[\"num_sold\"].sum()\n",
        "    check_days_sold.append(sum_y)"
      ],
      "metadata": {
        "id": "tH6YvVFrJf33"
      },
      "execution_count": null,
      "outputs": []
    },
    {
      "cell_type": "code",
      "source": [
        "check_days_sold"
      ],
      "metadata": {
        "id": "MfitqGFALmAR",
        "colab": {
          "base_uri": "https://localhost:8080/"
        },
        "outputId": "b9ada93c-5b97-4548-fd80-fceea8f11cf2"
      },
      "execution_count": null,
      "outputs": [
        {
          "output_type": "execute_result",
          "data": {
            "text/plain": [
              "[1846552, 1844408, 1839299, 1841588, 1923195, 2111944, 2218673]"
            ]
          },
          "metadata": {},
          "execution_count": 29
        }
      ]
    },
    {
      "cell_type": "code",
      "source": [
        "sns.barplot([0,1,2,3,4,5,6], check_days_sold)"
      ],
      "metadata": {
        "id": "wig6ufShLfsK",
        "colab": {
          "base_uri": "https://localhost:8080/",
          "height": 351
        },
        "outputId": "4285b984-7ee0-4e7c-9eda-bb0654bcdc66"
      },
      "execution_count": null,
      "outputs": [
        {
          "output_type": "stream",
          "name": "stderr",
          "text": [
            "/usr/local/lib/python3.7/dist-packages/seaborn/_decorators.py:43: FutureWarning: Pass the following variables as keyword args: x, y. From version 0.12, the only valid positional argument will be `data`, and passing other arguments without an explicit keyword will result in an error or misinterpretation.\n",
            "  FutureWarning\n"
          ]
        },
        {
          "output_type": "execute_result",
          "data": {
            "text/plain": [
              "<matplotlib.axes._subplots.AxesSubplot at 0x7fa88a8bdd90>"
            ]
          },
          "metadata": {},
          "execution_count": 30
        },
        {
          "output_type": "display_data",
          "data": {
            "text/plain": [
              "<Figure size 432x288 with 1 Axes>"
            ],
            "image/png": "[encoded data removed]"
          },
          "metadata": {
            "needs_background": "light"
          }
        }
      ]
    },
    {
      "cell_type": "markdown",
      "source": [
        ">> - 예상과 달리 금요일은 다른 평일과 비교했을 때 매출 금액이 크게 차이가 나지 않음\n",
        "- 원인은 다음날이 휴무이지만 여전히 근무를 하는 것이 영향을 미치는 것으로 보임\n",
        "- 토, 일요일에는 예상대로 평일보다 더 높은 매출이 발생함\n",
        ">> - pandas weekday를 통해 주말에 더 높은 판매횟수를 보이므로 이 역시 중요한 변수로 판단"
      ],
      "metadata": {
        "id": "hyEQs1I1MBRJ"
      }
    },
    {
      "cell_type": "markdown",
      "source": [
        "- 이를 인식할 수 있도록 주말인지 아닌지를 나타내는 is_holiday 컬럼 추가"
      ],
      "metadata": {
        "id": "KG7PGMMGNLU5"
      }
    },
    {
      "cell_type": "code",
      "source": [
        "# np.where (조건문, 조건문이 맞았을 때, 틀렸을 때)\n",
        "train_df[\"is_holiday\"] = np.where((train_df[\"weekday\"] == 5) | (train_df[\"weekday\"] == 6), 1, 0)\n",
        "test_df[\"is_holiday\"] = np.where((test_df[\"weekday\"] == 5) | (test_df[\"weekday\"] == 6), 1, 0)"
      ],
      "metadata": {
        "id": "41inKi54DKhC"
      },
      "execution_count": null,
      "outputs": []
    },
    {
      "cell_type": "code",
      "source": [
        "train_df.head(2)"
      ],
      "metadata": {
        "id": "UZWeoCBWHYUL",
        "colab": {
          "base_uri": "https://localhost:8080/",
          "height": 246
        },
        "outputId": "801f7487-0802-4339-c184-681160a56f19"
      },
      "execution_count": null,
      "outputs": [
        {
          "output_type": "execute_result",
          "data": {
            "text/plain": [
              "        date  country       store                     product  num_sold  year  \\\n",
              "0 2017-01-01  Belgium  KaggleMart  Kaggle Advanced Techniques       663  2017   \n",
              "1 2017-01-01  Belgium  KaggleMart      Kaggle Getting Started       615  2017   \n",
              "\n",
              "   month  day  day_of_year  quarter  weekday  is_nov_to_june  is_holiday  \n",
              "0      1    1            1        1        6               1           1  \n",
              "1      1    1            1        1        6               1           1  "
            ],
            "text/html": [
              "\n",
              "  <div id=\"df-72c20d42-f655-4656-9527-79463c906452\">\n",
              "    <div class=\"colab-df-container\">\n",
              "      <div>\n",
              "<style scoped>\n",
              "    .dataframe tbody tr th:only-of-type {\n",
              "        vertical-align: middle;\n",
              "    }\n",
              "\n",
              "    .dataframe tbody tr th {\n",
              "        vertical-align: top;\n",
              "    }\n",
              "\n",
              "    .dataframe thead th {\n",
              "        text-align: right;\n",
              "    }\n",
              "</style>\n",
              "<table border=\"1\" class=\"dataframe\">\n",
              "  <thead>\n",
              "    <tr style=\"text-align: right;\">\n",
              "      <th></th>\n",
              "      <th>date</th>\n",
              "      <th>country</th>\n",
              "      <th>store</th>\n",
              "      <th>product</th>\n",
              "      <th>num_sold</th>\n",
              "      <th>year</th>\n",
              "      <th>month</th>\n",
              "      <th>day</th>\n",
              "      <th>day_of_year</th>\n",
              "      <th>quarter</th>\n",
              "      <th>weekday</th>\n",
              "      <th>is_nov_to_june</th>\n",
              "      <th>is_holiday</th>\n",
              "    </tr>\n",
              "  </thead>\n",
              "  <tbody>\n",
              "    <tr>\n",
              "      <th>0</th>\n",
              "      <td>2017-01-01</td>\n",
              "      <td>Belgium</td>\n",
              "      <td>KaggleMart</td>\n",
              "      <td>Kaggle Advanced Techniques</td>\n",
              "      <td>663</td>\n",
              "      <td>2017</td>\n",
              "      <td>1</td>\n",
              "      <td>1</td>\n",
              "      <td>1</td>\n",
              "      <td>1</td>\n",
              "      <td>6</td>\n",
              "      <td>1</td>\n",
              "      <td>1</td>\n",
              "    </tr>\n",
              "    <tr>\n",
              "      <th>1</th>\n",
              "      <td>2017-01-01</td>\n",
              "      <td>Belgium</td>\n",
              "      <td>KaggleMart</td>\n",
              "      <td>Kaggle Getting Started</td>\n",
              "      <td>615</td>\n",
              "      <td>2017</td>\n",
              "      <td>1</td>\n",
              "      <td>1</td>\n",
              "      <td>1</td>\n",
              "      <td>1</td>\n",
              "      <td>6</td>\n",
              "      <td>1</td>\n",
              "      <td>1</td>\n",
              "    </tr>\n",
              "  </tbody>\n",
              "</table>\n",
              "</div>\n",
              "      <button class=\"colab-df-convert\" onclick=\"convertToInteractive('df-72c20d42-f655-4656-9527-79463c906452')\"\n",
              "              title=\"Convert this dataframe to an interactive table.\"\n",
              "              style=\"display:none;\">\n",
              "        \n",
              "  <svg xmlns=\"http://www.w3.org/2000/svg\" height=\"24px\"viewBox=\"0 0 24 24\"\n",
              "       width=\"24px\">\n",
              "    <path d=\"M0 0h24v24H0V0z\" fill=\"none\"/>\n",
              "    <path d=\"M18.56 5.44l.94 2.06.94-2.06 2.06-.94-2.06-.94-.94-2.06-.94 2.06-2.06.94zm-11 1L8.5 8.5l.94-2.06 2.06-.94-2.06-.94L8.5 2.5l-.94 2.06-2.06.94zm10 10l.94 2.06.94-2.06 2.06-.94-2.06-.94-.94-2.06-.94 2.06-2.06.94z\"/><path d=\"M17.41 7.96l-1.37-1.37c-.4-.4-.92-.59-1.43-.59-.52 0-1.04.2-1.43.59L10.3 9.45l-7.72 7.72c-.78.78-.78 2.05 0 2.83L4 21.41c.39.39.9.59 1.41.59.51 0 1.02-.2 1.41-.59l7.78-7.78 2.81-2.81c.8-.78.8-2.07 0-2.86zM5.41 20L4 18.59l7.72-7.72 1.47 1.35L5.41 20z\"/>\n",
              "  </svg>\n",
              "      </button>\n",
              "      \n",
              "  <style>\n",
              "    .colab-df-container {\n",
              "      display:flex;\n",
              "      flex-wrap:wrap;\n",
              "      gap: 12px;\n",
              "    }\n",
              "\n",
              "    .colab-df-convert {\n",
              "      background-color: #E8F0FE;\n",
              "      border: none;\n",
              "      border-radius: 50%;\n",
              "      cursor: pointer;\n",
              "      display: none;\n",
              "      fill: #1967D2;\n",
              "      height: 32px;\n",
              "      padding: 0 0 0 0;\n",
              "      width: 32px;\n",
              "    }\n",
              "\n",
              "    .colab-df-convert:hover {\n",
              "      background-color: #E2EBFA;\n",
              "      box-shadow: 0px 1px 2px rgba(60, 64, 67, 0.3), 0px 1px 3px 1px rgba(60, 64, 67, 0.15);\n",
              "      fill: #174EA6;\n",
              "    }\n",
              "\n",
              "    [theme=dark] .colab-df-convert {\n",
              "      background-color: #3B4455;\n",
              "      fill: #D2E3FC;\n",
              "    }\n",
              "\n",
              "    [theme=dark] .colab-df-convert:hover {\n",
              "      background-color: #434B5C;\n",
              "      box-shadow: 0px 1px 3px 1px rgba(0, 0, 0, 0.15);\n",
              "      filter: drop-shadow(0px 1px 2px rgba(0, 0, 0, 0.3));\n",
              "      fill: #FFFFFF;\n",
              "    }\n",
              "  </style>\n",
              "\n",
              "      <script>\n",
              "        const buttonEl =\n",
              "          document.querySelector('#df-72c20d42-f655-4656-9527-79463c906452 button.colab-df-convert');\n",
              "        buttonEl.style.display =\n",
              "          google.colab.kernel.accessAllowed ? 'block' : 'none';\n",
              "\n",
              "        async function convertToInteractive(key) {\n",
              "          const element = document.querySelector('#df-72c20d42-f655-4656-9527-79463c906452');\n",
              "          const dataTable =\n",
              "            await google.colab.kernel.invokeFunction('convertToInteractive',\n",
              "                                                     [key], {});\n",
              "          if (!dataTable) return;\n",
              "\n",
              "          const docLinkHtml = 'Like what you see? Visit the ' +\n",
              "            '<a target=\"_blank\" href=https://colab.research.google.com/notebooks/data_table.ipynb>data table notebook</a>'\n",
              "            + ' to learn more about interactive tables.';\n",
              "          element.innerHTML = '';\n",
              "          dataTable['output_type'] = 'display_data';\n",
              "          await google.colab.output.renderOutput(dataTable, element);\n",
              "          const docLink = document.createElement('div');\n",
              "          docLink.innerHTML = docLinkHtml;\n",
              "          element.appendChild(docLink);\n",
              "        }\n",
              "      </script>\n",
              "    </div>\n",
              "  </div>\n",
              "  "
            ]
          },
          "metadata": {},
          "execution_count": 32
        }
      ]
    },
    {
      "cell_type": "markdown",
      "source": [
        "- 2020년 이후로 추세가 바뀌고 있으므로 is_after_2020_01 컬럼을 추가"
      ],
      "metadata": {
        "id": "Xl1Ih5KtcwMH"
      }
    },
    {
      "cell_type": "code",
      "source": [
        "train_df[\"is_after_2020_01\"] = np.where((train_df[\"year\"] >=2020), 1, 0)\n",
        "test_df[\"is_after_2020_01\"] = np.where((test_df[\"year\"] >=2020), 1, 0)"
      ],
      "metadata": {
        "id": "55CESUx7c6aX"
      },
      "execution_count": null,
      "outputs": []
    },
    {
      "cell_type": "code",
      "source": [
        "train_df.tail(2)"
      ],
      "metadata": {
        "id": "cm1DWO4Pdb6T",
        "colab": {
          "base_uri": "https://localhost:8080/",
          "height": 280
        },
        "outputId": "dd7aa5eb-e46a-419f-e88b-7db476ced948"
      },
      "execution_count": null,
      "outputs": [
        {
          "output_type": "execute_result",
          "data": {
            "text/plain": [
              "            date country       store                           product  \\\n",
              "70126 2020-12-31   Spain  KaggleRama                Kaggle Recipe Book   \n",
              "70127 2020-12-31   Spain  KaggleRama  Kaggle for Kids: One Smart Goose   \n",
              "\n",
              "       num_sold  year  month  day  day_of_year  quarter  weekday  \\\n",
              "70126       135  2020     12   31          366        4        3   \n",
              "70127       202  2020     12   31          366        4        3   \n",
              "\n",
              "       is_nov_to_june  is_holiday  is_after_2020_01  \n",
              "70126               1           0                 1  \n",
              "70127               1           0                 1  "
            ],
            "text/html": [
              "\n",
              "  <div id=\"df-6aa504e5-9fdd-4de0-a6bc-b69d92fbf468\">\n",
              "    <div class=\"colab-df-container\">\n",
              "      <div>\n",
              "<style scoped>\n",
              "    .dataframe tbody tr th:only-of-type {\n",
              "        vertical-align: middle;\n",
              "    }\n",
              "\n",
              "    .dataframe tbody tr th {\n",
              "        vertical-align: top;\n",
              "    }\n",
              "\n",
              "    .dataframe thead th {\n",
              "        text-align: right;\n",
              "    }\n",
              "</style>\n",
              "<table border=\"1\" class=\"dataframe\">\n",
              "  <thead>\n",
              "    <tr style=\"text-align: right;\">\n",
              "      <th></th>\n",
              "      <th>date</th>\n",
              "      <th>country</th>\n",
              "      <th>store</th>\n",
              "      <th>product</th>\n",
              "      <th>num_sold</th>\n",
              "      <th>year</th>\n",
              "      <th>month</th>\n",
              "      <th>day</th>\n",
              "      <th>day_of_year</th>\n",
              "      <th>quarter</th>\n",
              "      <th>weekday</th>\n",
              "      <th>is_nov_to_june</th>\n",
              "      <th>is_holiday</th>\n",
              "      <th>is_after_2020_01</th>\n",
              "    </tr>\n",
              "  </thead>\n",
              "  <tbody>\n",
              "    <tr>\n",
              "      <th>70126</th>\n",
              "      <td>2020-12-31</td>\n",
              "      <td>Spain</td>\n",
              "      <td>KaggleRama</td>\n",
              "      <td>Kaggle Recipe Book</td>\n",
              "      <td>135</td>\n",
              "      <td>2020</td>\n",
              "      <td>12</td>\n",
              "      <td>31</td>\n",
              "      <td>366</td>\n",
              "      <td>4</td>\n",
              "      <td>3</td>\n",
              "      <td>1</td>\n",
              "      <td>0</td>\n",
              "      <td>1</td>\n",
              "    </tr>\n",
              "    <tr>\n",
              "      <th>70127</th>\n",
              "      <td>2020-12-31</td>\n",
              "      <td>Spain</td>\n",
              "      <td>KaggleRama</td>\n",
              "      <td>Kaggle for Kids: One Smart Goose</td>\n",
              "      <td>202</td>\n",
              "      <td>2020</td>\n",
              "      <td>12</td>\n",
              "      <td>31</td>\n",
              "      <td>366</td>\n",
              "      <td>4</td>\n",
              "      <td>3</td>\n",
              "      <td>1</td>\n",
              "      <td>0</td>\n",
              "      <td>1</td>\n",
              "    </tr>\n",
              "  </tbody>\n",
              "</table>\n",
              "</div>\n",
              "      <button class=\"colab-df-convert\" onclick=\"convertToInteractive('df-6aa504e5-9fdd-4de0-a6bc-b69d92fbf468')\"\n",
              "              title=\"Convert this dataframe to an interactive table.\"\n",
              "              style=\"display:none;\">\n",
              "        \n",
              "  <svg xmlns=\"http://www.w3.org/2000/svg\" height=\"24px\"viewBox=\"0 0 24 24\"\n",
              "       width=\"24px\">\n",
              "    <path d=\"M0 0h24v24H0V0z\" fill=\"none\"/>\n",
              "    <path d=\"M18.56 5.44l.94 2.06.94-2.06 2.06-.94-2.06-.94-.94-2.06-.94 2.06-2.06.94zm-11 1L8.5 8.5l.94-2.06 2.06-.94-2.06-.94L8.5 2.5l-.94 2.06-2.06.94zm10 10l.94 2.06.94-2.06 2.06-.94-2.06-.94-.94-2.06-.94 2.06-2.06.94z\"/><path d=\"M17.41 7.96l-1.37-1.37c-.4-.4-.92-.59-1.43-.59-.52 0-1.04.2-1.43.59L10.3 9.45l-7.72 7.72c-.78.78-.78 2.05 0 2.83L4 21.41c.39.39.9.59 1.41.59.51 0 1.02-.2 1.41-.59l7.78-7.78 2.81-2.81c.8-.78.8-2.07 0-2.86zM5.41 20L4 18.59l7.72-7.72 1.47 1.35L5.41 20z\"/>\n",
              "  </svg>\n",
              "      </button>\n",
              "      \n",
              "  <style>\n",
              "    .colab-df-container {\n",
              "      display:flex;\n",
              "      flex-wrap:wrap;\n",
              "      gap: 12px;\n",
              "    }\n",
              "\n",
              "    .colab-df-convert {\n",
              "      background-color: #E8F0FE;\n",
              "      border: none;\n",
              "      border-radius: 50%;\n",
              "      cursor: pointer;\n",
              "      display: none;\n",
              "      fill: #1967D2;\n",
              "      height: 32px;\n",
              "      padding: 0 0 0 0;\n",
              "      width: 32px;\n",
              "    }\n",
              "\n",
              "    .colab-df-convert:hover {\n",
              "      background-color: #E2EBFA;\n",
              "      box-shadow: 0px 1px 2px rgba(60, 64, 67, 0.3), 0px 1px 3px 1px rgba(60, 64, 67, 0.15);\n",
              "      fill: #174EA6;\n",
              "    }\n",
              "\n",
              "    [theme=dark] .colab-df-convert {\n",
              "      background-color: #3B4455;\n",
              "      fill: #D2E3FC;\n",
              "    }\n",
              "\n",
              "    [theme=dark] .colab-df-convert:hover {\n",
              "      background-color: #434B5C;\n",
              "      box-shadow: 0px 1px 3px 1px rgba(0, 0, 0, 0.15);\n",
              "      filter: drop-shadow(0px 1px 2px rgba(0, 0, 0, 0.3));\n",
              "      fill: #FFFFFF;\n",
              "    }\n",
              "  </style>\n",
              "\n",
              "      <script>\n",
              "        const buttonEl =\n",
              "          document.querySelector('#df-6aa504e5-9fdd-4de0-a6bc-b69d92fbf468 button.colab-df-convert');\n",
              "        buttonEl.style.display =\n",
              "          google.colab.kernel.accessAllowed ? 'block' : 'none';\n",
              "\n",
              "        async function convertToInteractive(key) {\n",
              "          const element = document.querySelector('#df-6aa504e5-9fdd-4de0-a6bc-b69d92fbf468');\n",
              "          const dataTable =\n",
              "            await google.colab.kernel.invokeFunction('convertToInteractive',\n",
              "                                                     [key], {});\n",
              "          if (!dataTable) return;\n",
              "\n",
              "          const docLinkHtml = 'Like what you see? Visit the ' +\n",
              "            '<a target=\"_blank\" href=https://colab.research.google.com/notebooks/data_table.ipynb>data table notebook</a>'\n",
              "            + ' to learn more about interactive tables.';\n",
              "          element.innerHTML = '';\n",
              "          dataTable['output_type'] = 'display_data';\n",
              "          await google.colab.output.renderOutput(dataTable, element);\n",
              "          const docLink = document.createElement('div');\n",
              "          docLink.innerHTML = docLinkHtml;\n",
              "          element.appendChild(docLink);\n",
              "        }\n",
              "      </script>\n",
              "    </div>\n",
              "  </div>\n",
              "  "
            ]
          },
          "metadata": {},
          "execution_count": 34
        }
      ]
    },
    {
      "cell_type": "markdown",
      "source": [
        "- 공휴일을 제외하고 판매량이 많은 날이 토, 일요일이 아니어도 존재할 것임(연초, 연말)\n",
        "- 다른 날과 판매량의 차이가 심하다면( or 토, 일요일과 판매량이 유사하다면) 특별일로 판단하여도 될 것임\n",
        "- month, day를 기준으로 묶어보기"
      ],
      "metadata": {
        "id": "_chvKQwShmSo"
      }
    },
    {
      "cell_type": "code",
      "source": [
        "special_day_sum = pd.DataFrame(train_df.groupby([\"month\", \"day\"])[\"num_sold\"].sum())\n",
        "special_day_sum"
      ],
      "metadata": {
        "id": "7F59oldTiM0-",
        "colab": {
          "base_uri": "https://localhost:8080/",
          "height": 455
        },
        "outputId": "443ecfff-1611-4cf9-9f0d-5506e9b6344f"
      },
      "execution_count": null,
      "outputs": [
        {
          "output_type": "execute_result",
          "data": {
            "text/plain": [
              "           num_sold\n",
              "month day          \n",
              "1     1       51466\n",
              "      2       46393\n",
              "      3       43669\n",
              "      4       43482\n",
              "      5       45914\n",
              "...             ...\n",
              "12    27      52424\n",
              "      28      60401\n",
              "      29      71004\n",
              "      30      70258\n",
              "      31      61797\n",
              "\n",
              "[366 rows x 1 columns]"
            ],
            "text/html": [
              "\n",
              "  <div id=\"df-99812d7d-8976-468a-b876-d82455bf6197\">\n",
              "    <div class=\"colab-df-container\">\n",
              "      <div>\n",
              "<style scoped>\n",
              "    .dataframe tbody tr th:only-of-type {\n",
              "        vertical-align: middle;\n",
              "    }\n",
              "\n",
              "    .dataframe tbody tr th {\n",
              "        vertical-align: top;\n",
              "    }\n",
              "\n",
              "    .dataframe thead th {\n",
              "        text-align: right;\n",
              "    }\n",
              "</style>\n",
              "<table border=\"1\" class=\"dataframe\">\n",
              "  <thead>\n",
              "    <tr style=\"text-align: right;\">\n",
              "      <th></th>\n",
              "      <th></th>\n",
              "      <th>num_sold</th>\n",
              "    </tr>\n",
              "    <tr>\n",
              "      <th>month</th>\n",
              "      <th>day</th>\n",
              "      <th></th>\n",
              "    </tr>\n",
              "  </thead>\n",
              "  <tbody>\n",
              "    <tr>\n",
              "      <th rowspan=\"5\" valign=\"top\">1</th>\n",
              "      <th>1</th>\n",
              "      <td>51466</td>\n",
              "    </tr>\n",
              "    <tr>\n",
              "      <th>2</th>\n",
              "      <td>46393</td>\n",
              "    </tr>\n",
              "    <tr>\n",
              "      <th>3</th>\n",
              "      <td>43669</td>\n",
              "    </tr>\n",
              "    <tr>\n",
              "      <th>4</th>\n",
              "      <td>43482</td>\n",
              "    </tr>\n",
              "    <tr>\n",
              "      <th>5</th>\n",
              "      <td>45914</td>\n",
              "    </tr>\n",
              "    <tr>\n",
              "      <th>...</th>\n",
              "      <th>...</th>\n",
              "      <td>...</td>\n",
              "    </tr>\n",
              "    <tr>\n",
              "      <th rowspan=\"5\" valign=\"top\">12</th>\n",
              "      <th>27</th>\n",
              "      <td>52424</td>\n",
              "    </tr>\n",
              "    <tr>\n",
              "      <th>28</th>\n",
              "      <td>60401</td>\n",
              "    </tr>\n",
              "    <tr>\n",
              "      <th>29</th>\n",
              "      <td>71004</td>\n",
              "    </tr>\n",
              "    <tr>\n",
              "      <th>30</th>\n",
              "      <td>70258</td>\n",
              "    </tr>\n",
              "    <tr>\n",
              "      <th>31</th>\n",
              "      <td>61797</td>\n",
              "    </tr>\n",
              "  </tbody>\n",
              "</table>\n",
              "<p>366 rows × 1 columns</p>\n",
              "</div>\n",
              "      <button class=\"colab-df-convert\" onclick=\"convertToInteractive('df-99812d7d-8976-468a-b876-d82455bf6197')\"\n",
              "              title=\"Convert this dataframe to an interactive table.\"\n",
              "              style=\"display:none;\">\n",
              "        \n",
              "  <svg xmlns=\"http://www.w3.org/2000/svg\" height=\"24px\"viewBox=\"0 0 24 24\"\n",
              "       width=\"24px\">\n",
              "    <path d=\"M0 0h24v24H0V0z\" fill=\"none\"/>\n",
              "    <path d=\"M18.56 5.44l.94 2.06.94-2.06 2.06-.94-2.06-.94-.94-2.06-.94 2.06-2.06.94zm-11 1L8.5 8.5l.94-2.06 2.06-.94-2.06-.94L8.5 2.5l-.94 2.06-2.06.94zm10 10l.94 2.06.94-2.06 2.06-.94-2.06-.94-.94-2.06-.94 2.06-2.06.94z\"/><path d=\"M17.41 7.96l-1.37-1.37c-.4-.4-.92-.59-1.43-.59-.52 0-1.04.2-1.43.59L10.3 9.45l-7.72 7.72c-.78.78-.78 2.05 0 2.83L4 21.41c.39.39.9.59 1.41.59.51 0 1.02-.2 1.41-.59l7.78-7.78 2.81-2.81c.8-.78.8-2.07 0-2.86zM5.41 20L4 18.59l7.72-7.72 1.47 1.35L5.41 20z\"/>\n",
              "  </svg>\n",
              "      </button>\n",
              "      \n",
              "  <style>\n",
              "    .colab-df-container {\n",
              "      display:flex;\n",
              "      flex-wrap:wrap;\n",
              "      gap: 12px;\n",
              "    }\n",
              "\n",
              "    .colab-df-convert {\n",
              "      background-color: #E8F0FE;\n",
              "      border: none;\n",
              "      border-radius: 50%;\n",
              "      cursor: pointer;\n",
              "      display: none;\n",
              "      fill: #1967D2;\n",
              "      height: 32px;\n",
              "      padding: 0 0 0 0;\n",
              "      width: 32px;\n",
              "    }\n",
              "\n",
              "    .colab-df-convert:hover {\n",
              "      background-color: #E2EBFA;\n",
              "      box-shadow: 0px 1px 2px rgba(60, 64, 67, 0.3), 0px 1px 3px 1px rgba(60, 64, 67, 0.15);\n",
              "      fill: #174EA6;\n",
              "    }\n",
              "\n",
              "    [theme=dark] .colab-df-convert {\n",
              "      background-color: #3B4455;\n",
              "      fill: #D2E3FC;\n",
              "    }\n",
              "\n",
              "    [theme=dark] .colab-df-convert:hover {\n",
              "      background-color: #434B5C;\n",
              "      box-shadow: 0px 1px 3px 1px rgba(0, 0, 0, 0.15);\n",
              "      filter: drop-shadow(0px 1px 2px rgba(0, 0, 0, 0.3));\n",
              "      fill: #FFFFFF;\n",
              "    }\n",
              "  </style>\n",
              "\n",
              "      <script>\n",
              "        const buttonEl =\n",
              "          document.querySelector('#df-99812d7d-8976-468a-b876-d82455bf6197 button.colab-df-convert');\n",
              "        buttonEl.style.display =\n",
              "          google.colab.kernel.accessAllowed ? 'block' : 'none';\n",
              "\n",
              "        async function convertToInteractive(key) {\n",
              "          const element = document.querySelector('#df-99812d7d-8976-468a-b876-d82455bf6197');\n",
              "          const dataTable =\n",
              "            await google.colab.kernel.invokeFunction('convertToInteractive',\n",
              "                                                     [key], {});\n",
              "          if (!dataTable) return;\n",
              "\n",
              "          const docLinkHtml = 'Like what you see? Visit the ' +\n",
              "            '<a target=\"_blank\" href=https://colab.research.google.com/notebooks/data_table.ipynb>data table notebook</a>'\n",
              "            + ' to learn more about interactive tables.';\n",
              "          element.innerHTML = '';\n",
              "          dataTable['output_type'] = 'display_data';\n",
              "          await google.colab.output.renderOutput(dataTable, element);\n",
              "          const docLink = document.createElement('div');\n",
              "          docLink.innerHTML = docLinkHtml;\n",
              "          element.appendChild(docLink);\n",
              "        }\n",
              "      </script>\n",
              "    </div>\n",
              "  </div>\n",
              "  "
            ]
          },
          "metadata": {},
          "execution_count": 35
        }
      ]
    },
    {
      "cell_type": "code",
      "source": [
        "special_day_df = special_day_sum.sort_values(\"num_sold\", ascending = False)\n",
        "special_day_df"
      ],
      "metadata": {
        "id": "ukQnB1wcjE3a",
        "colab": {
          "base_uri": "https://localhost:8080/",
          "height": 455
        },
        "outputId": "d6f76aab-ad36-4309-dc07-e78f63f484ba"
      },
      "execution_count": null,
      "outputs": [
        {
          "output_type": "execute_result",
          "data": {
            "text/plain": [
              "           num_sold\n",
              "month day          \n",
              "12    29      71004\n",
              "      30      70258\n",
              "      31      61797\n",
              "      28      60401\n",
              "      27      52424\n",
              "...             ...\n",
              "10    2       33960\n",
              "4     3       33928\n",
              "7     31      33913\n",
              "4     10      33558\n",
              "2     29      12754\n",
              "\n",
              "[366 rows x 1 columns]"
            ],
            "text/html": [
              "\n",
              "  <div id=\"df-c5e9597b-39c3-4d3c-9b89-508eb2cc892c\">\n",
              "    <div class=\"colab-df-container\">\n",
              "      <div>\n",
              "<style scoped>\n",
              "    .dataframe tbody tr th:only-of-type {\n",
              "        vertical-align: middle;\n",
              "    }\n",
              "\n",
              "    .dataframe tbody tr th {\n",
              "        vertical-align: top;\n",
              "    }\n",
              "\n",
              "    .dataframe thead th {\n",
              "        text-align: right;\n",
              "    }\n",
              "</style>\n",
              "<table border=\"1\" class=\"dataframe\">\n",
              "  <thead>\n",
              "    <tr style=\"text-align: right;\">\n",
              "      <th></th>\n",
              "      <th></th>\n",
              "      <th>num_sold</th>\n",
              "    </tr>\n",
              "    <tr>\n",
              "      <th>month</th>\n",
              "      <th>day</th>\n",
              "      <th></th>\n",
              "    </tr>\n",
              "  </thead>\n",
              "  <tbody>\n",
              "    <tr>\n",
              "      <th rowspan=\"5\" valign=\"top\">12</th>\n",
              "      <th>29</th>\n",
              "      <td>71004</td>\n",
              "    </tr>\n",
              "    <tr>\n",
              "      <th>30</th>\n",
              "      <td>70258</td>\n",
              "    </tr>\n",
              "    <tr>\n",
              "      <th>31</th>\n",
              "      <td>61797</td>\n",
              "    </tr>\n",
              "    <tr>\n",
              "      <th>28</th>\n",
              "      <td>60401</td>\n",
              "    </tr>\n",
              "    <tr>\n",
              "      <th>27</th>\n",
              "      <td>52424</td>\n",
              "    </tr>\n",
              "    <tr>\n",
              "      <th>...</th>\n",
              "      <th>...</th>\n",
              "      <td>...</td>\n",
              "    </tr>\n",
              "    <tr>\n",
              "      <th>10</th>\n",
              "      <th>2</th>\n",
              "      <td>33960</td>\n",
              "    </tr>\n",
              "    <tr>\n",
              "      <th>4</th>\n",
              "      <th>3</th>\n",
              "      <td>33928</td>\n",
              "    </tr>\n",
              "    <tr>\n",
              "      <th>7</th>\n",
              "      <th>31</th>\n",
              "      <td>33913</td>\n",
              "    </tr>\n",
              "    <tr>\n",
              "      <th>4</th>\n",
              "      <th>10</th>\n",
              "      <td>33558</td>\n",
              "    </tr>\n",
              "    <tr>\n",
              "      <th>2</th>\n",
              "      <th>29</th>\n",
              "      <td>12754</td>\n",
              "    </tr>\n",
              "  </tbody>\n",
              "</table>\n",
              "<p>366 rows × 1 columns</p>\n",
              "</div>\n",
              "      <button class=\"colab-df-convert\" onclick=\"convertToInteractive('df-c5e9597b-39c3-4d3c-9b89-508eb2cc892c')\"\n",
              "              title=\"Convert this dataframe to an interactive table.\"\n",
              "              style=\"display:none;\">\n",
              "        \n",
              "  <svg xmlns=\"http://www.w3.org/2000/svg\" height=\"24px\"viewBox=\"0 0 24 24\"\n",
              "       width=\"24px\">\n",
              "    <path d=\"M0 0h24v24H0V0z\" fill=\"none\"/>\n",
              "    <path d=\"M18.56 5.44l.94 2.06.94-2.06 2.06-.94-2.06-.94-.94-2.06-.94 2.06-2.06.94zm-11 1L8.5 8.5l.94-2.06 2.06-.94-2.06-.94L8.5 2.5l-.94 2.06-2.06.94zm10 10l.94 2.06.94-2.06 2.06-.94-2.06-.94-.94-2.06-.94 2.06-2.06.94z\"/><path d=\"M17.41 7.96l-1.37-1.37c-.4-.4-.92-.59-1.43-.59-.52 0-1.04.2-1.43.59L10.3 9.45l-7.72 7.72c-.78.78-.78 2.05 0 2.83L4 21.41c.39.39.9.59 1.41.59.51 0 1.02-.2 1.41-.59l7.78-7.78 2.81-2.81c.8-.78.8-2.07 0-2.86zM5.41 20L4 18.59l7.72-7.72 1.47 1.35L5.41 20z\"/>\n",
              "  </svg>\n",
              "      </button>\n",
              "      \n",
              "  <style>\n",
              "    .colab-df-container {\n",
              "      display:flex;\n",
              "      flex-wrap:wrap;\n",
              "      gap: 12px;\n",
              "    }\n",
              "\n",
              "    .colab-df-convert {\n",
              "      background-color: #E8F0FE;\n",
              "      border: none;\n",
              "      border-radius: 50%;\n",
              "      cursor: pointer;\n",
              "      display: none;\n",
              "      fill: #1967D2;\n",
              "      height: 32px;\n",
              "      padding: 0 0 0 0;\n",
              "      width: 32px;\n",
              "    }\n",
              "\n",
              "    .colab-df-convert:hover {\n",
              "      background-color: #E2EBFA;\n",
              "      box-shadow: 0px 1px 2px rgba(60, 64, 67, 0.3), 0px 1px 3px 1px rgba(60, 64, 67, 0.15);\n",
              "      fill: #174EA6;\n",
              "    }\n",
              "\n",
              "    [theme=dark] .colab-df-convert {\n",
              "      background-color: #3B4455;\n",
              "      fill: #D2E3FC;\n",
              "    }\n",
              "\n",
              "    [theme=dark] .colab-df-convert:hover {\n",
              "      background-color: #434B5C;\n",
              "      box-shadow: 0px 1px 3px 1px rgba(0, 0, 0, 0.15);\n",
              "      filter: drop-shadow(0px 1px 2px rgba(0, 0, 0, 0.3));\n",
              "      fill: #FFFFFF;\n",
              "    }\n",
              "  </style>\n",
              "\n",
              "      <script>\n",
              "        const buttonEl =\n",
              "          document.querySelector('#df-c5e9597b-39c3-4d3c-9b89-508eb2cc892c button.colab-df-convert');\n",
              "        buttonEl.style.display =\n",
              "          google.colab.kernel.accessAllowed ? 'block' : 'none';\n",
              "\n",
              "        async function convertToInteractive(key) {\n",
              "          const element = document.querySelector('#df-c5e9597b-39c3-4d3c-9b89-508eb2cc892c');\n",
              "          const dataTable =\n",
              "            await google.colab.kernel.invokeFunction('convertToInteractive',\n",
              "                                                     [key], {});\n",
              "          if (!dataTable) return;\n",
              "\n",
              "          const docLinkHtml = 'Like what you see? Visit the ' +\n",
              "            '<a target=\"_blank\" href=https://colab.research.google.com/notebooks/data_table.ipynb>data table notebook</a>'\n",
              "            + ' to learn more about interactive tables.';\n",
              "          element.innerHTML = '';\n",
              "          dataTable['output_type'] = 'display_data';\n",
              "          await google.colab.output.renderOutput(dataTable, element);\n",
              "          const docLink = document.createElement('div');\n",
              "          docLink.innerHTML = docLinkHtml;\n",
              "          element.appendChild(docLink);\n",
              "        }\n",
              "      </script>\n",
              "    </div>\n",
              "  </div>\n",
              "  "
            ]
          },
          "metadata": {},
          "execution_count": 36
        }
      ]
    },
    {
      "cell_type": "markdown",
      "source": [
        ">> - 12월 말에 주말을 포함하고도(이틀이 주말이라는 가정 하에) 가장 높은 판매량을 달성하였다\n",
        "- 추가적으로 탐색하기 위해 히스토그램 그려보기"
      ],
      "metadata": {
        "id": "h08EhFDQlF-f"
      }
    },
    {
      "cell_type": "code",
      "source": [
        "sns.distplot(special_day_df)"
      ],
      "metadata": {
        "id": "kGprdTOXl3oS",
        "colab": {
          "base_uri": "https://localhost:8080/",
          "height": 340
        },
        "outputId": "4fa26cb2-ef62-4397-d0ce-050ea9f98767"
      },
      "execution_count": null,
      "outputs": [
        {
          "output_type": "stream",
          "name": "stderr",
          "text": [
            "/usr/local/lib/python3.7/dist-packages/seaborn/distributions.py:2619: FutureWarning: `distplot` is a deprecated function and will be removed in a future version. Please adapt your code to use either `displot` (a figure-level function with similar flexibility) or `histplot` (an axes-level function for histograms).\n",
            "  warnings.warn(msg, FutureWarning)\n"
          ]
        },
        {
          "output_type": "execute_result",
          "data": {
            "text/plain": [
              "<matplotlib.axes._subplots.AxesSubplot at 0x7fa88a7dd090>"
            ]
          },
          "metadata": {},
          "execution_count": 37
        },
        {
          "output_type": "display_data",
          "data": {
            "text/plain": [
              "<Figure size 432x288 with 1 Axes>"
            ],
            "image/png": "[encoded data removed]"
          },
          "metadata": {
            "needs_background": "light"
          }
        }
      ]
    },
    {
      "cell_type": "code",
      "source": [
        "special_day_df.describe()"
      ],
      "metadata": {
        "id": "GEozTEcJnl4u",
        "colab": {
          "base_uri": "https://localhost:8080/",
          "height": 300
        },
        "outputId": "6d61b007-c682-4a84-9c64-ba5c118e9f05"
      },
      "execution_count": null,
      "outputs": [
        {
          "output_type": "execute_result",
          "data": {
            "text/plain": [
              "           num_sold\n",
              "count    366.000000\n",
              "mean   37228.576503\n",
              "std     3960.229675\n",
              "min    12754.000000\n",
              "25%    35590.250000\n",
              "50%    36588.000000\n",
              "75%    37952.500000\n",
              "max    71004.000000"
            ],
            "text/html": [
              "\n",
              "  <div id=\"df-1fb5b470-0610-49d6-9812-2f2ff56df86d\">\n",
              "    <div class=\"colab-df-container\">\n",
              "      <div>\n",
              "<style scoped>\n",
              "    .dataframe tbody tr th:only-of-type {\n",
              "        vertical-align: middle;\n",
              "    }\n",
              "\n",
              "    .dataframe tbody tr th {\n",
              "        vertical-align: top;\n",
              "    }\n",
              "\n",
              "    .dataframe thead th {\n",
              "        text-align: right;\n",
              "    }\n",
              "</style>\n",
              "<table border=\"1\" class=\"dataframe\">\n",
              "  <thead>\n",
              "    <tr style=\"text-align: right;\">\n",
              "      <th></th>\n",
              "      <th>num_sold</th>\n",
              "    </tr>\n",
              "  </thead>\n",
              "  <tbody>\n",
              "    <tr>\n",
              "      <th>count</th>\n",
              "      <td>366.000000</td>\n",
              "    </tr>\n",
              "    <tr>\n",
              "      <th>mean</th>\n",
              "      <td>37228.576503</td>\n",
              "    </tr>\n",
              "    <tr>\n",
              "      <th>std</th>\n",
              "      <td>3960.229675</td>\n",
              "    </tr>\n",
              "    <tr>\n",
              "      <th>min</th>\n",
              "      <td>12754.000000</td>\n",
              "    </tr>\n",
              "    <tr>\n",
              "      <th>25%</th>\n",
              "      <td>35590.250000</td>\n",
              "    </tr>\n",
              "    <tr>\n",
              "      <th>50%</th>\n",
              "      <td>36588.000000</td>\n",
              "    </tr>\n",
              "    <tr>\n",
              "      <th>75%</th>\n",
              "      <td>37952.500000</td>\n",
              "    </tr>\n",
              "    <tr>\n",
              "      <th>max</th>\n",
              "      <td>71004.000000</td>\n",
              "    </tr>\n",
              "  </tbody>\n",
              "</table>\n",
              "</div>\n",
              "      <button class=\"colab-df-convert\" onclick=\"convertToInteractive('df-1fb5b470-0610-49d6-9812-2f2ff56df86d')\"\n",
              "              title=\"Convert this dataframe to an interactive table.\"\n",
              "              style=\"display:none;\">\n",
              "        \n",
              "  <svg xmlns=\"http://www.w3.org/2000/svg\" height=\"24px\"viewBox=\"0 0 24 24\"\n",
              "       width=\"24px\">\n",
              "    <path d=\"M0 0h24v24H0V0z\" fill=\"none\"/>\n",
              "    <path d=\"M18.56 5.44l.94 2.06.94-2.06 2.06-.94-2.06-.94-.94-2.06-.94 2.06-2.06.94zm-11 1L8.5 8.5l.94-2.06 2.06-.94-2.06-.94L8.5 2.5l-.94 2.06-2.06.94zm10 10l.94 2.06.94-2.06 2.06-.94-2.06-.94-.94-2.06-.94 2.06-2.06.94z\"/><path d=\"M17.41 7.96l-1.37-1.37c-.4-.4-.92-.59-1.43-.59-.52 0-1.04.2-1.43.59L10.3 9.45l-7.72 7.72c-.78.78-.78 2.05 0 2.83L4 21.41c.39.39.9.59 1.41.59.51 0 1.02-.2 1.41-.59l7.78-7.78 2.81-2.81c.8-.78.8-2.07 0-2.86zM5.41 20L4 18.59l7.72-7.72 1.47 1.35L5.41 20z\"/>\n",
              "  </svg>\n",
              "      </button>\n",
              "      \n",
              "  <style>\n",
              "    .colab-df-container {\n",
              "      display:flex;\n",
              "      flex-wrap:wrap;\n",
              "      gap: 12px;\n",
              "    }\n",
              "\n",
              "    .colab-df-convert {\n",
              "      background-color: #E8F0FE;\n",
              "      border: none;\n",
              "      border-radius: 50%;\n",
              "      cursor: pointer;\n",
              "      display: none;\n",
              "      fill: #1967D2;\n",
              "      height: 32px;\n",
              "      padding: 0 0 0 0;\n",
              "      width: 32px;\n",
              "    }\n",
              "\n",
              "    .colab-df-convert:hover {\n",
              "      background-color: #E2EBFA;\n",
              "      box-shadow: 0px 1px 2px rgba(60, 64, 67, 0.3), 0px 1px 3px 1px rgba(60, 64, 67, 0.15);\n",
              "      fill: #174EA6;\n",
              "    }\n",
              "\n",
              "    [theme=dark] .colab-df-convert {\n",
              "      background-color: #3B4455;\n",
              "      fill: #D2E3FC;\n",
              "    }\n",
              "\n",
              "    [theme=dark] .colab-df-convert:hover {\n",
              "      background-color: #434B5C;\n",
              "      box-shadow: 0px 1px 3px 1px rgba(0, 0, 0, 0.15);\n",
              "      filter: drop-shadow(0px 1px 2px rgba(0, 0, 0, 0.3));\n",
              "      fill: #FFFFFF;\n",
              "    }\n",
              "  </style>\n",
              "\n",
              "      <script>\n",
              "        const buttonEl =\n",
              "          document.querySelector('#df-1fb5b470-0610-49d6-9812-2f2ff56df86d button.colab-df-convert');\n",
              "        buttonEl.style.display =\n",
              "          google.colab.kernel.accessAllowed ? 'block' : 'none';\n",
              "\n",
              "        async function convertToInteractive(key) {\n",
              "          const element = document.querySelector('#df-1fb5b470-0610-49d6-9812-2f2ff56df86d');\n",
              "          const dataTable =\n",
              "            await google.colab.kernel.invokeFunction('convertToInteractive',\n",
              "                                                     [key], {});\n",
              "          if (!dataTable) return;\n",
              "\n",
              "          const docLinkHtml = 'Like what you see? Visit the ' +\n",
              "            '<a target=\"_blank\" href=https://colab.research.google.com/notebooks/data_table.ipynb>data table notebook</a>'\n",
              "            + ' to learn more about interactive tables.';\n",
              "          element.innerHTML = '';\n",
              "          dataTable['output_type'] = 'display_data';\n",
              "          await google.colab.output.renderOutput(dataTable, element);\n",
              "          const docLink = document.createElement('div');\n",
              "          docLink.innerHTML = docLinkHtml;\n",
              "          element.appendChild(docLink);\n",
              "        }\n",
              "      </script>\n",
              "    </div>\n",
              "  </div>\n",
              "  "
            ]
          },
          "metadata": {},
          "execution_count": 38
        }
      ]
    },
    {
      "cell_type": "markdown",
      "source": [
        "### 많이 팔린 것 분류 -> 평균 + 1std"
      ],
      "metadata": {
        "id": "MyqeuGIM4HBR"
      }
    },
    {
      "cell_type": "markdown",
      "source": [
        "평균 +- 1표준편차 = 68.3%범위 33268 ~ 41188 -> 41189 이상 값 확인"
      ],
      "metadata": {
        "id": "GZZx4xJm4NoR"
      }
    },
    {
      "cell_type": "code",
      "source": [
        "sspecial = special_day_df[special_day_df[\"num_sold\"]>=41189]\n",
        "len(sspecial)"
      ],
      "metadata": {
        "id": "8wi65SAL4MzI",
        "colab": {
          "base_uri": "https://localhost:8080/"
        },
        "outputId": "1fe65bbb-a45b-4761-b41b-33ddeeb3cf79"
      },
      "execution_count": null,
      "outputs": [
        {
          "output_type": "execute_result",
          "data": {
            "text/plain": [
              "16"
            ]
          },
          "metadata": {},
          "execution_count": 39
        }
      ]
    },
    {
      "cell_type": "code",
      "source": [
        "sspecial"
      ],
      "metadata": {
        "id": "NnfNRq7r479J",
        "colab": {
          "base_uri": "https://localhost:8080/",
          "height": 582
        },
        "outputId": "22529024-48f3-4d8e-f68b-e27e24a0ef0e"
      },
      "execution_count": null,
      "outputs": [
        {
          "output_type": "execute_result",
          "data": {
            "text/plain": [
              "           num_sold\n",
              "month day          \n",
              "12    29      71004\n",
              "      30      70258\n",
              "      31      61797\n",
              "      28      60401\n",
              "      27      52424\n",
              "1     1       51466\n",
              "      2       46393\n",
              "      5       45914\n",
              "      6       45069\n",
              "      3       43669\n",
              "      4       43482\n",
              "12    26      43391\n",
              "1     7       43330\n",
              "5     5       42389\n",
              "      6       41811\n",
              "1     12      41785"
            ],
            "text/html": [
              "\n",
              "  <div id=\"df-f1768158-17e1-4429-916b-47669f51c191\">\n",
              "    <div class=\"colab-df-container\">\n",
              "      <div>\n",
              "<style scoped>\n",
              "    .dataframe tbody tr th:only-of-type {\n",
              "        vertical-align: middle;\n",
              "    }\n",
              "\n",
              "    .dataframe tbody tr th {\n",
              "        vertical-align: top;\n",
              "    }\n",
              "\n",
              "    .dataframe thead th {\n",
              "        text-align: right;\n",
              "    }\n",
              "</style>\n",
              "<table border=\"1\" class=\"dataframe\">\n",
              "  <thead>\n",
              "    <tr style=\"text-align: right;\">\n",
              "      <th></th>\n",
              "      <th></th>\n",
              "      <th>num_sold</th>\n",
              "    </tr>\n",
              "    <tr>\n",
              "      <th>month</th>\n",
              "      <th>day</th>\n",
              "      <th></th>\n",
              "    </tr>\n",
              "  </thead>\n",
              "  <tbody>\n",
              "    <tr>\n",
              "      <th rowspan=\"5\" valign=\"top\">12</th>\n",
              "      <th>29</th>\n",
              "      <td>71004</td>\n",
              "    </tr>\n",
              "    <tr>\n",
              "      <th>30</th>\n",
              "      <td>70258</td>\n",
              "    </tr>\n",
              "    <tr>\n",
              "      <th>31</th>\n",
              "      <td>61797</td>\n",
              "    </tr>\n",
              "    <tr>\n",
              "      <th>28</th>\n",
              "      <td>60401</td>\n",
              "    </tr>\n",
              "    <tr>\n",
              "      <th>27</th>\n",
              "      <td>52424</td>\n",
              "    </tr>\n",
              "    <tr>\n",
              "      <th rowspan=\"6\" valign=\"top\">1</th>\n",
              "      <th>1</th>\n",
              "      <td>51466</td>\n",
              "    </tr>\n",
              "    <tr>\n",
              "      <th>2</th>\n",
              "      <td>46393</td>\n",
              "    </tr>\n",
              "    <tr>\n",
              "      <th>5</th>\n",
              "      <td>45914</td>\n",
              "    </tr>\n",
              "    <tr>\n",
              "      <th>6</th>\n",
              "      <td>45069</td>\n",
              "    </tr>\n",
              "    <tr>\n",
              "      <th>3</th>\n",
              "      <td>43669</td>\n",
              "    </tr>\n",
              "    <tr>\n",
              "      <th>4</th>\n",
              "      <td>43482</td>\n",
              "    </tr>\n",
              "    <tr>\n",
              "      <th>12</th>\n",
              "      <th>26</th>\n",
              "      <td>43391</td>\n",
              "    </tr>\n",
              "    <tr>\n",
              "      <th>1</th>\n",
              "      <th>7</th>\n",
              "      <td>43330</td>\n",
              "    </tr>\n",
              "    <tr>\n",
              "      <th rowspan=\"2\" valign=\"top\">5</th>\n",
              "      <th>5</th>\n",
              "      <td>42389</td>\n",
              "    </tr>\n",
              "    <tr>\n",
              "      <th>6</th>\n",
              "      <td>41811</td>\n",
              "    </tr>\n",
              "    <tr>\n",
              "      <th>1</th>\n",
              "      <th>12</th>\n",
              "      <td>41785</td>\n",
              "    </tr>\n",
              "  </tbody>\n",
              "</table>\n",
              "</div>\n",
              "      <button class=\"colab-df-convert\" onclick=\"convertToInteractive('df-f1768158-17e1-4429-916b-47669f51c191')\"\n",
              "              title=\"Convert this dataframe to an interactive table.\"\n",
              "              style=\"display:none;\">\n",
              "        \n",
              "  <svg xmlns=\"http://www.w3.org/2000/svg\" height=\"24px\"viewBox=\"0 0 24 24\"\n",
              "       width=\"24px\">\n",
              "    <path d=\"M0 0h24v24H0V0z\" fill=\"none\"/>\n",
              "    <path d=\"M18.56 5.44l.94 2.06.94-2.06 2.06-.94-2.06-.94-.94-2.06-.94 2.06-2.06.94zm-11 1L8.5 8.5l.94-2.06 2.06-.94-2.06-.94L8.5 2.5l-.94 2.06-2.06.94zm10 10l.94 2.06.94-2.06 2.06-.94-2.06-.94-.94-2.06-.94 2.06-2.06.94z\"/><path d=\"M17.41 7.96l-1.37-1.37c-.4-.4-.92-.59-1.43-.59-.52 0-1.04.2-1.43.59L10.3 9.45l-7.72 7.72c-.78.78-.78 2.05 0 2.83L4 21.41c.39.39.9.59 1.41.59.51 0 1.02-.2 1.41-.59l7.78-7.78 2.81-2.81c.8-.78.8-2.07 0-2.86zM5.41 20L4 18.59l7.72-7.72 1.47 1.35L5.41 20z\"/>\n",
              "  </svg>\n",
              "      </button>\n",
              "      \n",
              "  <style>\n",
              "    .colab-df-container {\n",
              "      display:flex;\n",
              "      flex-wrap:wrap;\n",
              "      gap: 12px;\n",
              "    }\n",
              "\n",
              "    .colab-df-convert {\n",
              "      background-color: #E8F0FE;\n",
              "      border: none;\n",
              "      border-radius: 50%;\n",
              "      cursor: pointer;\n",
              "      display: none;\n",
              "      fill: #1967D2;\n",
              "      height: 32px;\n",
              "      padding: 0 0 0 0;\n",
              "      width: 32px;\n",
              "    }\n",
              "\n",
              "    .colab-df-convert:hover {\n",
              "      background-color: #E2EBFA;\n",
              "      box-shadow: 0px 1px 2px rgba(60, 64, 67, 0.3), 0px 1px 3px 1px rgba(60, 64, 67, 0.15);\n",
              "      fill: #174EA6;\n",
              "    }\n",
              "\n",
              "    [theme=dark] .colab-df-convert {\n",
              "      background-color: #3B4455;\n",
              "      fill: #D2E3FC;\n",
              "    }\n",
              "\n",
              "    [theme=dark] .colab-df-convert:hover {\n",
              "      background-color: #434B5C;\n",
              "      box-shadow: 0px 1px 3px 1px rgba(0, 0, 0, 0.15);\n",
              "      filter: drop-shadow(0px 1px 2px rgba(0, 0, 0, 0.3));\n",
              "      fill: #FFFFFF;\n",
              "    }\n",
              "  </style>\n",
              "\n",
              "      <script>\n",
              "        const buttonEl =\n",
              "          document.querySelector('#df-f1768158-17e1-4429-916b-47669f51c191 button.colab-df-convert');\n",
              "        buttonEl.style.display =\n",
              "          google.colab.kernel.accessAllowed ? 'block' : 'none';\n",
              "\n",
              "        async function convertToInteractive(key) {\n",
              "          const element = document.querySelector('#df-f1768158-17e1-4429-916b-47669f51c191');\n",
              "          const dataTable =\n",
              "            await google.colab.kernel.invokeFunction('convertToInteractive',\n",
              "                                                     [key], {});\n",
              "          if (!dataTable) return;\n",
              "\n",
              "          const docLinkHtml = 'Like what you see? Visit the ' +\n",
              "            '<a target=\"_blank\" href=https://colab.research.google.com/notebooks/data_table.ipynb>data table notebook</a>'\n",
              "            + ' to learn more about interactive tables.';\n",
              "          element.innerHTML = '';\n",
              "          dataTable['output_type'] = 'display_data';\n",
              "          await google.colab.output.renderOutput(dataTable, element);\n",
              "          const docLink = document.createElement('div');\n",
              "          docLink.innerHTML = docLinkHtml;\n",
              "          element.appendChild(docLink);\n",
              "        }\n",
              "      </script>\n",
              "    </div>\n",
              "  </div>\n",
              "  "
            ]
          },
          "metadata": {},
          "execution_count": 40
        }
      ]
    },
    {
      "cell_type": "code",
      "source": [
        "temp_train = train_df[(train_df[\"month\"]==5) & (train_df[\"day\"]==5)]\n",
        "temp_train.head(1)"
      ],
      "metadata": {
        "id": "w9U7FIPD5lxF",
        "colab": {
          "base_uri": "https://localhost:8080/",
          "height": 179
        },
        "outputId": "8a753cf7-11c4-4dc5-db84-45bbc1e0bc3c"
      },
      "execution_count": null,
      "outputs": [
        {
          "output_type": "execute_result",
          "data": {
            "text/plain": [
              "           date  country       store                     product  num_sold  \\\n",
              "5952 2017-05-05  Belgium  KaggleMart  Kaggle Advanced Techniques       560   \n",
              "\n",
              "      year  month  day  day_of_year  quarter  weekday  is_nov_to_june  \\\n",
              "5952  2017      5    5          125        2        4               1   \n",
              "\n",
              "      is_holiday  is_after_2020_01  \n",
              "5952           0                 0  "
            ],
            "text/html": [
              "\n",
              "  <div id=\"df-07eda94c-e6c3-493a-b9ea-4c82841a824e\">\n",
              "    <div class=\"colab-df-container\">\n",
              "      <div>\n",
              "<style scoped>\n",
              "    .dataframe tbody tr th:only-of-type {\n",
              "        vertical-align: middle;\n",
              "    }\n",
              "\n",
              "    .dataframe tbody tr th {\n",
              "        vertical-align: top;\n",
              "    }\n",
              "\n",
              "    .dataframe thead th {\n",
              "        text-align: right;\n",
              "    }\n",
              "</style>\n",
              "<table border=\"1\" class=\"dataframe\">\n",
              "  <thead>\n",
              "    <tr style=\"text-align: right;\">\n",
              "      <th></th>\n",
              "      <th>date</th>\n",
              "      <th>country</th>\n",
              "      <th>store</th>\n",
              "      <th>product</th>\n",
              "      <th>num_sold</th>\n",
              "      <th>year</th>\n",
              "      <th>month</th>\n",
              "      <th>day</th>\n",
              "      <th>day_of_year</th>\n",
              "      <th>quarter</th>\n",
              "      <th>weekday</th>\n",
              "      <th>is_nov_to_june</th>\n",
              "      <th>is_holiday</th>\n",
              "      <th>is_after_2020_01</th>\n",
              "    </tr>\n",
              "  </thead>\n",
              "  <tbody>\n",
              "    <tr>\n",
              "      <th>5952</th>\n",
              "      <td>2017-05-05</td>\n",
              "      <td>Belgium</td>\n",
              "      <td>KaggleMart</td>\n",
              "      <td>Kaggle Advanced Techniques</td>\n",
              "      <td>560</td>\n",
              "      <td>2017</td>\n",
              "      <td>5</td>\n",
              "      <td>5</td>\n",
              "      <td>125</td>\n",
              "      <td>2</td>\n",
              "      <td>4</td>\n",
              "      <td>1</td>\n",
              "      <td>0</td>\n",
              "      <td>0</td>\n",
              "    </tr>\n",
              "  </tbody>\n",
              "</table>\n",
              "</div>\n",
              "      <button class=\"colab-df-convert\" onclick=\"convertToInteractive('df-07eda94c-e6c3-493a-b9ea-4c82841a824e')\"\n",
              "              title=\"Convert this dataframe to an interactive table.\"\n",
              "              style=\"display:none;\">\n",
              "        \n",
              "  <svg xmlns=\"http://www.w3.org/2000/svg\" height=\"24px\"viewBox=\"0 0 24 24\"\n",
              "       width=\"24px\">\n",
              "    <path d=\"M0 0h24v24H0V0z\" fill=\"none\"/>\n",
              "    <path d=\"M18.56 5.44l.94 2.06.94-2.06 2.06-.94-2.06-.94-.94-2.06-.94 2.06-2.06.94zm-11 1L8.5 8.5l.94-2.06 2.06-.94-2.06-.94L8.5 2.5l-.94 2.06-2.06.94zm10 10l.94 2.06.94-2.06 2.06-.94-2.06-.94-.94-2.06-.94 2.06-2.06.94z\"/><path d=\"M17.41 7.96l-1.37-1.37c-.4-.4-.92-.59-1.43-.59-.52 0-1.04.2-1.43.59L10.3 9.45l-7.72 7.72c-.78.78-.78 2.05 0 2.83L4 21.41c.39.39.9.59 1.41.59.51 0 1.02-.2 1.41-.59l7.78-7.78 2.81-2.81c.8-.78.8-2.07 0-2.86zM5.41 20L4 18.59l7.72-7.72 1.47 1.35L5.41 20z\"/>\n",
              "  </svg>\n",
              "      </button>\n",
              "      \n",
              "  <style>\n",
              "    .colab-df-container {\n",
              "      display:flex;\n",
              "      flex-wrap:wrap;\n",
              "      gap: 12px;\n",
              "    }\n",
              "\n",
              "    .colab-df-convert {\n",
              "      background-color: #E8F0FE;\n",
              "      border: none;\n",
              "      border-radius: 50%;\n",
              "      cursor: pointer;\n",
              "      display: none;\n",
              "      fill: #1967D2;\n",
              "      height: 32px;\n",
              "      padding: 0 0 0 0;\n",
              "      width: 32px;\n",
              "    }\n",
              "\n",
              "    .colab-df-convert:hover {\n",
              "      background-color: #E2EBFA;\n",
              "      box-shadow: 0px 1px 2px rgba(60, 64, 67, 0.3), 0px 1px 3px 1px rgba(60, 64, 67, 0.15);\n",
              "      fill: #174EA6;\n",
              "    }\n",
              "\n",
              "    [theme=dark] .colab-df-convert {\n",
              "      background-color: #3B4455;\n",
              "      fill: #D2E3FC;\n",
              "    }\n",
              "\n",
              "    [theme=dark] .colab-df-convert:hover {\n",
              "      background-color: #434B5C;\n",
              "      box-shadow: 0px 1px 3px 1px rgba(0, 0, 0, 0.15);\n",
              "      filter: drop-shadow(0px 1px 2px rgba(0, 0, 0, 0.3));\n",
              "      fill: #FFFFFF;\n",
              "    }\n",
              "  </style>\n",
              "\n",
              "      <script>\n",
              "        const buttonEl =\n",
              "          document.querySelector('#df-07eda94c-e6c3-493a-b9ea-4c82841a824e button.colab-df-convert');\n",
              "        buttonEl.style.display =\n",
              "          google.colab.kernel.accessAllowed ? 'block' : 'none';\n",
              "\n",
              "        async function convertToInteractive(key) {\n",
              "          const element = document.querySelector('#df-07eda94c-e6c3-493a-b9ea-4c82841a824e');\n",
              "          const dataTable =\n",
              "            await google.colab.kernel.invokeFunction('convertToInteractive',\n",
              "                                                     [key], {});\n",
              "          if (!dataTable) return;\n",
              "\n",
              "          const docLinkHtml = 'Like what you see? Visit the ' +\n",
              "            '<a target=\"_blank\" href=https://colab.research.google.com/notebooks/data_table.ipynb>data table notebook</a>'\n",
              "            + ' to learn more about interactive tables.';\n",
              "          element.innerHTML = '';\n",
              "          dataTable['output_type'] = 'display_data';\n",
              "          await google.colab.output.renderOutput(dataTable, element);\n",
              "          const docLink = document.createElement('div');\n",
              "          docLink.innerHTML = docLinkHtml;\n",
              "          element.appendChild(docLink);\n",
              "        }\n",
              "      </script>\n",
              "    </div>\n",
              "  </div>\n",
              "  "
            ]
          },
          "metadata": {},
          "execution_count": 41
        }
      ]
    },
    {
      "cell_type": "markdown",
      "source": [
        "day_of_year 기준\n",
        "- 1월 1~7일, 12일 (1 2 3 4 5 6 7 12)\n",
        "- 5월 5일 6일(125 126)\n",
        "- 12월 26 27 28 29 30 31 (361 362 363 364 365 366)"
      ],
      "metadata": {
        "id": "IrzhQteX5II8"
      }
    },
    {
      "cell_type": "code",
      "source": [
        "train_df[\"is_special_day_1std\"] = np.where((train_df[\"day_of_year\"] == 1) | (train_df[\"day_of_year\"] == 2) | (train_df[\"day_of_year\"] == 3) | (train_df[\"day_of_year\"] == 4) | (train_df[\"day_of_year\"] == 5) | \\\n",
        "                                      (train_df[\"day_of_year\"] == 6) | (train_df[\"day_of_year\"] == 7) | (train_df[\"day_of_year\"] == 12) \\\n",
        "                                       | (train_df[\"day_of_year\"] == 125) | (train_df[\"day_of_year\"] == 126) | \\\n",
        "                                      (train_df[\"day_of_year\"] == 361) | (train_df[\"day_of_year\"] == 362) | (train_df[\"day_of_year\"] == 363) | (train_df[\"day_of_year\"] == 364) | (train_df[\"day_of_year\"] == 365) | (train_df[\"day_of_year\"] == 366), 1, 0)\n",
        "\n",
        "test_df[\"is_special_day_1std\"] = np.where((test_df[\"day_of_year\"] == 1) | (test_df[\"day_of_year\"] == 2) | (test_df[\"day_of_year\"] == 3) | (test_df[\"day_of_year\"] == 4) | (test_df[\"day_of_year\"] == 5) | \\\n",
        "                                      (test_df[\"day_of_year\"] == 6) | (test_df[\"day_of_year\"] == 7) | (test_df[\"day_of_year\"] == 12) \\\n",
        "                                       | (test_df[\"day_of_year\"] == 125) | (test_df[\"day_of_year\"] == 126) | \\\n",
        "                                      (test_df[\"day_of_year\"] == 361) | (test_df[\"day_of_year\"] == 362) | (test_df[\"day_of_year\"] == 363) | (test_df[\"day_of_year\"] == 364) | (test_df[\"day_of_year\"] == 365) | (test_df[\"day_of_year\"] == 366), 1, 0)"
      ],
      "metadata": {
        "id": "rTMgXmbH5CxU"
      },
      "execution_count": null,
      "outputs": []
    },
    {
      "cell_type": "markdown",
      "source": [
        "### 많이 팔린 것 분류 -> 평균 + 2std"
      ],
      "metadata": {
        "id": "DkmU4m904r77"
      }
    },
    {
      "cell_type": "markdown",
      "source": [
        "- 첨도가 크지만 95% 신뢰구간 기준 -> 평균 +- 2표준편차 ->  29,308 ~ 45,148의 값을 가짐\n",
        "- 이 이상 매출에 영향을 끼친 달을 확인하기 위해 45,149 이상 값들만 출력"
      ],
      "metadata": {
        "id": "N1JCKKsYncsn"
      }
    },
    {
      "cell_type": "code",
      "source": [
        "sspecial = special_day_df[special_day_df[\"num_sold\"]>=45149]\n",
        "len(sspecial)"
      ],
      "metadata": {
        "id": "1fYDuV88nb4f",
        "colab": {
          "base_uri": "https://localhost:8080/"
        },
        "outputId": "0cc1e30c-44ae-44dc-dd61-f0ec9c7d3dd8"
      },
      "execution_count": null,
      "outputs": [
        {
          "output_type": "execute_result",
          "data": {
            "text/plain": [
              "8"
            ]
          },
          "metadata": {},
          "execution_count": 43
        }
      ]
    },
    {
      "cell_type": "code",
      "source": [
        "sspecial"
      ],
      "metadata": {
        "id": "KRkkjYllpw8f",
        "colab": {
          "base_uri": "https://localhost:8080/",
          "height": 332
        },
        "outputId": "830fb5c7-3373-43f0-a469-da352ba857c5"
      },
      "execution_count": null,
      "outputs": [
        {
          "output_type": "execute_result",
          "data": {
            "text/plain": [
              "           num_sold\n",
              "month day          \n",
              "12    29      71004\n",
              "      30      70258\n",
              "      31      61797\n",
              "      28      60401\n",
              "      27      52424\n",
              "1     1       51466\n",
              "      2       46393\n",
              "      5       45914"
            ],
            "text/html": [
              "\n",
              "  <div id=\"df-74e83579-2689-4029-8d3f-c20a41eda844\">\n",
              "    <div class=\"colab-df-container\">\n",
              "      <div>\n",
              "<style scoped>\n",
              "    .dataframe tbody tr th:only-of-type {\n",
              "        vertical-align: middle;\n",
              "    }\n",
              "\n",
              "    .dataframe tbody tr th {\n",
              "        vertical-align: top;\n",
              "    }\n",
              "\n",
              "    .dataframe thead th {\n",
              "        text-align: right;\n",
              "    }\n",
              "</style>\n",
              "<table border=\"1\" class=\"dataframe\">\n",
              "  <thead>\n",
              "    <tr style=\"text-align: right;\">\n",
              "      <th></th>\n",
              "      <th></th>\n",
              "      <th>num_sold</th>\n",
              "    </tr>\n",
              "    <tr>\n",
              "      <th>month</th>\n",
              "      <th>day</th>\n",
              "      <th></th>\n",
              "    </tr>\n",
              "  </thead>\n",
              "  <tbody>\n",
              "    <tr>\n",
              "      <th rowspan=\"5\" valign=\"top\">12</th>\n",
              "      <th>29</th>\n",
              "      <td>71004</td>\n",
              "    </tr>\n",
              "    <tr>\n",
              "      <th>30</th>\n",
              "      <td>70258</td>\n",
              "    </tr>\n",
              "    <tr>\n",
              "      <th>31</th>\n",
              "      <td>61797</td>\n",
              "    </tr>\n",
              "    <tr>\n",
              "      <th>28</th>\n",
              "      <td>60401</td>\n",
              "    </tr>\n",
              "    <tr>\n",
              "      <th>27</th>\n",
              "      <td>52424</td>\n",
              "    </tr>\n",
              "    <tr>\n",
              "      <th rowspan=\"3\" valign=\"top\">1</th>\n",
              "      <th>1</th>\n",
              "      <td>51466</td>\n",
              "    </tr>\n",
              "    <tr>\n",
              "      <th>2</th>\n",
              "      <td>46393</td>\n",
              "    </tr>\n",
              "    <tr>\n",
              "      <th>5</th>\n",
              "      <td>45914</td>\n",
              "    </tr>\n",
              "  </tbody>\n",
              "</table>\n",
              "</div>\n",
              "      <button class=\"colab-df-convert\" onclick=\"convertToInteractive('df-74e83579-2689-4029-8d3f-c20a41eda844')\"\n",
              "              title=\"Convert this dataframe to an interactive table.\"\n",
              "              style=\"display:none;\">\n",
              "        \n",
              "  <svg xmlns=\"http://www.w3.org/2000/svg\" height=\"24px\"viewBox=\"0 0 24 24\"\n",
              "       width=\"24px\">\n",
              "    <path d=\"M0 0h24v24H0V0z\" fill=\"none\"/>\n",
              "    <path d=\"M18.56 5.44l.94 2.06.94-2.06 2.06-.94-2.06-.94-.94-2.06-.94 2.06-2.06.94zm-11 1L8.5 8.5l.94-2.06 2.06-.94-2.06-.94L8.5 2.5l-.94 2.06-2.06.94zm10 10l.94 2.06.94-2.06 2.06-.94-2.06-.94-.94-2.06-.94 2.06-2.06.94z\"/><path d=\"M17.41 7.96l-1.37-1.37c-.4-.4-.92-.59-1.43-.59-.52 0-1.04.2-1.43.59L10.3 9.45l-7.72 7.72c-.78.78-.78 2.05 0 2.83L4 21.41c.39.39.9.59 1.41.59.51 0 1.02-.2 1.41-.59l7.78-7.78 2.81-2.81c.8-.78.8-2.07 0-2.86zM5.41 20L4 18.59l7.72-7.72 1.47 1.35L5.41 20z\"/>\n",
              "  </svg>\n",
              "      </button>\n",
              "      \n",
              "  <style>\n",
              "    .colab-df-container {\n",
              "      display:flex;\n",
              "      flex-wrap:wrap;\n",
              "      gap: 12px;\n",
              "    }\n",
              "\n",
              "    .colab-df-convert {\n",
              "      background-color: #E8F0FE;\n",
              "      border: none;\n",
              "      border-radius: 50%;\n",
              "      cursor: pointer;\n",
              "      display: none;\n",
              "      fill: #1967D2;\n",
              "      height: 32px;\n",
              "      padding: 0 0 0 0;\n",
              "      width: 32px;\n",
              "    }\n",
              "\n",
              "    .colab-df-convert:hover {\n",
              "      background-color: #E2EBFA;\n",
              "      box-shadow: 0px 1px 2px rgba(60, 64, 67, 0.3), 0px 1px 3px 1px rgba(60, 64, 67, 0.15);\n",
              "      fill: #174EA6;\n",
              "    }\n",
              "\n",
              "    [theme=dark] .colab-df-convert {\n",
              "      background-color: #3B4455;\n",
              "      fill: #D2E3FC;\n",
              "    }\n",
              "\n",
              "    [theme=dark] .colab-df-convert:hover {\n",
              "      background-color: #434B5C;\n",
              "      box-shadow: 0px 1px 3px 1px rgba(0, 0, 0, 0.15);\n",
              "      filter: drop-shadow(0px 1px 2px rgba(0, 0, 0, 0.3));\n",
              "      fill: #FFFFFF;\n",
              "    }\n",
              "  </style>\n",
              "\n",
              "      <script>\n",
              "        const buttonEl =\n",
              "          document.querySelector('#df-74e83579-2689-4029-8d3f-c20a41eda844 button.colab-df-convert');\n",
              "        buttonEl.style.display =\n",
              "          google.colab.kernel.accessAllowed ? 'block' : 'none';\n",
              "\n",
              "        async function convertToInteractive(key) {\n",
              "          const element = document.querySelector('#df-74e83579-2689-4029-8d3f-c20a41eda844');\n",
              "          const dataTable =\n",
              "            await google.colab.kernel.invokeFunction('convertToInteractive',\n",
              "                                                     [key], {});\n",
              "          if (!dataTable) return;\n",
              "\n",
              "          const docLinkHtml = 'Like what you see? Visit the ' +\n",
              "            '<a target=\"_blank\" href=https://colab.research.google.com/notebooks/data_table.ipynb>data table notebook</a>'\n",
              "            + ' to learn more about interactive tables.';\n",
              "          element.innerHTML = '';\n",
              "          dataTable['output_type'] = 'display_data';\n",
              "          await google.colab.output.renderOutput(dataTable, element);\n",
              "          const docLink = document.createElement('div');\n",
              "          docLink.innerHTML = docLinkHtml;\n",
              "          element.appendChild(docLink);\n",
              "        }\n",
              "      </script>\n",
              "    </div>\n",
              "  </div>\n",
              "  "
            ]
          },
          "metadata": {},
          "execution_count": 44
        }
      ]
    },
    {
      "cell_type": "markdown",
      "source": [
        "- 1월 1, 2, 5일(1 2 5)// 12월 27, 28, 29, 30, 31(362 363 364 365 366) 일에 가장 많은 판매량이 보임\n",
        "- is_special_day_2std 컬럼 추가"
      ],
      "metadata": {
        "id": "8cZfX7NZp6vV"
      }
    },
    {
      "cell_type": "code",
      "source": [
        "train_df[\"is_special_day_2std\"] = np.where((train_df[\"day_of_year\"] == 1) | (train_df[\"day_of_year\"] == 2) | (train_df[\"day_of_year\"] == 5) | \\\n",
        "                                      (train_df[\"day_of_year\"] == 362) | (train_df[\"day_of_year\"] == 363) | (train_df[\"day_of_year\"] == 364) | \\\n",
        "                                      (train_df[\"day_of_year\"] == 365) | (train_df[\"day_of_year\"] == 366), 1, 0)\n",
        "\n",
        "test_df[\"is_special_day_2std\"] = np.where((test_df[\"day_of_year\"] == 1) | (test_df[\"day_of_year\"] == 2) | (test_df[\"day_of_year\"] == 5) | \\\n",
        "                                      (test_df[\"day_of_year\"] == 362) | (test_df[\"day_of_year\"] == 363) | (test_df[\"day_of_year\"] == 364) | \\\n",
        "                                      (test_df[\"day_of_year\"] == 365) | (test_df[\"day_of_year\"] == 366), 1, 0)"
      ],
      "metadata": {
        "id": "35tQim7zqERn"
      },
      "execution_count": null,
      "outputs": []
    },
    {
      "cell_type": "code",
      "source": [
        "train_df.head(2)"
      ],
      "metadata": {
        "id": "3VxXILKYtz_f",
        "colab": {
          "base_uri": "https://localhost:8080/",
          "height": 246
        },
        "outputId": "bc451c0f-c11a-4f65-aa82-f623ac579adf"
      },
      "execution_count": null,
      "outputs": [
        {
          "output_type": "execute_result",
          "data": {
            "text/plain": [
              "        date  country       store                     product  num_sold  year  \\\n",
              "0 2017-01-01  Belgium  KaggleMart  Kaggle Advanced Techniques       663  2017   \n",
              "1 2017-01-01  Belgium  KaggleMart      Kaggle Getting Started       615  2017   \n",
              "\n",
              "   month  day  day_of_year  quarter  weekday  is_nov_to_june  is_holiday  \\\n",
              "0      1    1            1        1        6               1           1   \n",
              "1      1    1            1        1        6               1           1   \n",
              "\n",
              "   is_after_2020_01  is_special_day_1std  is_special_day_2std  \n",
              "0                 0                    1                    1  \n",
              "1                 0                    1                    1  "
            ],
            "text/html": [
              "\n",
              "  <div id=\"df-bc4cb384-abc0-4b62-99e6-dd25525db516\">\n",
              "    <div class=\"colab-df-container\">\n",
              "      <div>\n",
              "<style scoped>\n",
              "    .dataframe tbody tr th:only-of-type {\n",
              "        vertical-align: middle;\n",
              "    }\n",
              "\n",
              "    .dataframe tbody tr th {\n",
              "        vertical-align: top;\n",
              "    }\n",
              "\n",
              "    .dataframe thead th {\n",
              "        text-align: right;\n",
              "    }\n",
              "</style>\n",
              "<table border=\"1\" class=\"dataframe\">\n",
              "  <thead>\n",
              "    <tr style=\"text-align: right;\">\n",
              "      <th></th>\n",
              "      <th>date</th>\n",
              "      <th>country</th>\n",
              "      <th>store</th>\n",
              "      <th>product</th>\n",
              "      <th>num_sold</th>\n",
              "      <th>year</th>\n",
              "      <th>month</th>\n",
              "      <th>day</th>\n",
              "      <th>day_of_year</th>\n",
              "      <th>quarter</th>\n",
              "      <th>weekday</th>\n",
              "      <th>is_nov_to_june</th>\n",
              "      <th>is_holiday</th>\n",
              "      <th>is_after_2020_01</th>\n",
              "      <th>is_special_day_1std</th>\n",
              "      <th>is_special_day_2std</th>\n",
              "    </tr>\n",
              "  </thead>\n",
              "  <tbody>\n",
              "    <tr>\n",
              "      <th>0</th>\n",
              "      <td>2017-01-01</td>\n",
              "      <td>Belgium</td>\n",
              "      <td>KaggleMart</td>\n",
              "      <td>Kaggle Advanced Techniques</td>\n",
              "      <td>663</td>\n",
              "      <td>2017</td>\n",
              "      <td>1</td>\n",
              "      <td>1</td>\n",
              "      <td>1</td>\n",
              "      <td>1</td>\n",
              "      <td>6</td>\n",
              "      <td>1</td>\n",
              "      <td>1</td>\n",
              "      <td>0</td>\n",
              "      <td>1</td>\n",
              "      <td>1</td>\n",
              "    </tr>\n",
              "    <tr>\n",
              "      <th>1</th>\n",
              "      <td>2017-01-01</td>\n",
              "      <td>Belgium</td>\n",
              "      <td>KaggleMart</td>\n",
              "      <td>Kaggle Getting Started</td>\n",
              "      <td>615</td>\n",
              "      <td>2017</td>\n",
              "      <td>1</td>\n",
              "      <td>1</td>\n",
              "      <td>1</td>\n",
              "      <td>1</td>\n",
              "      <td>6</td>\n",
              "      <td>1</td>\n",
              "      <td>1</td>\n",
              "      <td>0</td>\n",
              "      <td>1</td>\n",
              "      <td>1</td>\n",
              "    </tr>\n",
              "  </tbody>\n",
              "</table>\n",
              "</div>\n",
              "      <button class=\"colab-df-convert\" onclick=\"convertToInteractive('df-bc4cb384-abc0-4b62-99e6-dd25525db516')\"\n",
              "              title=\"Convert this dataframe to an interactive table.\"\n",
              "              style=\"display:none;\">\n",
              "        \n",
              "  <svg xmlns=\"http://www.w3.org/2000/svg\" height=\"24px\"viewBox=\"0 0 24 24\"\n",
              "       width=\"24px\">\n",
              "    <path d=\"M0 0h24v24H0V0z\" fill=\"none\"/>\n",
              "    <path d=\"M18.56 5.44l.94 2.06.94-2.06 2.06-.94-2.06-.94-.94-2.06-.94 2.06-2.06.94zm-11 1L8.5 8.5l.94-2.06 2.06-.94-2.06-.94L8.5 2.5l-.94 2.06-2.06.94zm10 10l.94 2.06.94-2.06 2.06-.94-2.06-.94-.94-2.06-.94 2.06-2.06.94z\"/><path d=\"M17.41 7.96l-1.37-1.37c-.4-.4-.92-.59-1.43-.59-.52 0-1.04.2-1.43.59L10.3 9.45l-7.72 7.72c-.78.78-.78 2.05 0 2.83L4 21.41c.39.39.9.59 1.41.59.51 0 1.02-.2 1.41-.59l7.78-7.78 2.81-2.81c.8-.78.8-2.07 0-2.86zM5.41 20L4 18.59l7.72-7.72 1.47 1.35L5.41 20z\"/>\n",
              "  </svg>\n",
              "      </button>\n",
              "      \n",
              "  <style>\n",
              "    .colab-df-container {\n",
              "      display:flex;\n",
              "      flex-wrap:wrap;\n",
              "      gap: 12px;\n",
              "    }\n",
              "\n",
              "    .colab-df-convert {\n",
              "      background-color: #E8F0FE;\n",
              "      border: none;\n",
              "      border-radius: 50%;\n",
              "      cursor: pointer;\n",
              "      display: none;\n",
              "      fill: #1967D2;\n",
              "      height: 32px;\n",
              "      padding: 0 0 0 0;\n",
              "      width: 32px;\n",
              "    }\n",
              "\n",
              "    .colab-df-convert:hover {\n",
              "      background-color: #E2EBFA;\n",
              "      box-shadow: 0px 1px 2px rgba(60, 64, 67, 0.3), 0px 1px 3px 1px rgba(60, 64, 67, 0.15);\n",
              "      fill: #174EA6;\n",
              "    }\n",
              "\n",
              "    [theme=dark] .colab-df-convert {\n",
              "      background-color: #3B4455;\n",
              "      fill: #D2E3FC;\n",
              "    }\n",
              "\n",
              "    [theme=dark] .colab-df-convert:hover {\n",
              "      background-color: #434B5C;\n",
              "      box-shadow: 0px 1px 3px 1px rgba(0, 0, 0, 0.15);\n",
              "      filter: drop-shadow(0px 1px 2px rgba(0, 0, 0, 0.3));\n",
              "      fill: #FFFFFF;\n",
              "    }\n",
              "  </style>\n",
              "\n",
              "      <script>\n",
              "        const buttonEl =\n",
              "          document.querySelector('#df-bc4cb384-abc0-4b62-99e6-dd25525db516 button.colab-df-convert');\n",
              "        buttonEl.style.display =\n",
              "          google.colab.kernel.accessAllowed ? 'block' : 'none';\n",
              "\n",
              "        async function convertToInteractive(key) {\n",
              "          const element = document.querySelector('#df-bc4cb384-abc0-4b62-99e6-dd25525db516');\n",
              "          const dataTable =\n",
              "            await google.colab.kernel.invokeFunction('convertToInteractive',\n",
              "                                                     [key], {});\n",
              "          if (!dataTable) return;\n",
              "\n",
              "          const docLinkHtml = 'Like what you see? Visit the ' +\n",
              "            '<a target=\"_blank\" href=https://colab.research.google.com/notebooks/data_table.ipynb>data table notebook</a>'\n",
              "            + ' to learn more about interactive tables.';\n",
              "          element.innerHTML = '';\n",
              "          dataTable['output_type'] = 'display_data';\n",
              "          await google.colab.output.renderOutput(dataTable, element);\n",
              "          const docLink = document.createElement('div');\n",
              "          docLink.innerHTML = docLinkHtml;\n",
              "          element.appendChild(docLink);\n",
              "        }\n",
              "      </script>\n",
              "    </div>\n",
              "  </div>\n",
              "  "
            ]
          },
          "metadata": {},
          "execution_count": 46
        }
      ]
    },
    {
      "cell_type": "markdown",
      "source": [
        "### 적게 팔린 것 분류 -> 평균 - 1std"
      ],
      "metadata": {
        "id": "vmohtu1HwcKa"
      }
    },
    {
      "cell_type": "code",
      "source": [
        "sspecial = special_day_df[special_day_df[\"num_sold\"]<=33267]\n",
        "print(len(sspecial))\n",
        "sspecial"
      ],
      "metadata": {
        "id": "7JIwZcXKwsOh",
        "colab": {
          "base_uri": "https://localhost:8080/",
          "height": 130
        },
        "outputId": "1842f906-3bb8-4fb9-aa4f-9c66b635f0d6"
      },
      "execution_count": null,
      "outputs": [
        {
          "output_type": "stream",
          "name": "stdout",
          "text": [
            "1\n"
          ]
        },
        {
          "output_type": "execute_result",
          "data": {
            "text/plain": [
              "           num_sold\n",
              "month day          \n",
              "2     29      12754"
            ],
            "text/html": [
              "\n",
              "  <div id=\"df-73c302b8-8fc4-4bf3-b485-24fe9832ca6d\">\n",
              "    <div class=\"colab-df-container\">\n",
              "      <div>\n",
              "<style scoped>\n",
              "    .dataframe tbody tr th:only-of-type {\n",
              "        vertical-align: middle;\n",
              "    }\n",
              "\n",
              "    .dataframe tbody tr th {\n",
              "        vertical-align: top;\n",
              "    }\n",
              "\n",
              "    .dataframe thead th {\n",
              "        text-align: right;\n",
              "    }\n",
              "</style>\n",
              "<table border=\"1\" class=\"dataframe\">\n",
              "  <thead>\n",
              "    <tr style=\"text-align: right;\">\n",
              "      <th></th>\n",
              "      <th></th>\n",
              "      <th>num_sold</th>\n",
              "    </tr>\n",
              "    <tr>\n",
              "      <th>month</th>\n",
              "      <th>day</th>\n",
              "      <th></th>\n",
              "    </tr>\n",
              "  </thead>\n",
              "  <tbody>\n",
              "    <tr>\n",
              "      <th>2</th>\n",
              "      <th>29</th>\n",
              "      <td>12754</td>\n",
              "    </tr>\n",
              "  </tbody>\n",
              "</table>\n",
              "</div>\n",
              "      <button class=\"colab-df-convert\" onclick=\"convertToInteractive('df-73c302b8-8fc4-4bf3-b485-24fe9832ca6d')\"\n",
              "              title=\"Convert this dataframe to an interactive table.\"\n",
              "              style=\"display:none;\">\n",
              "        \n",
              "  <svg xmlns=\"http://www.w3.org/2000/svg\" height=\"24px\"viewBox=\"0 0 24 24\"\n",
              "       width=\"24px\">\n",
              "    <path d=\"M0 0h24v24H0V0z\" fill=\"none\"/>\n",
              "    <path d=\"M18.56 5.44l.94 2.06.94-2.06 2.06-.94-2.06-.94-.94-2.06-.94 2.06-2.06.94zm-11 1L8.5 8.5l.94-2.06 2.06-.94-2.06-.94L8.5 2.5l-.94 2.06-2.06.94zm10 10l.94 2.06.94-2.06 2.06-.94-2.06-.94-.94-2.06-.94 2.06-2.06.94z\"/><path d=\"M17.41 7.96l-1.37-1.37c-.4-.4-.92-.59-1.43-.59-.52 0-1.04.2-1.43.59L10.3 9.45l-7.72 7.72c-.78.78-.78 2.05 0 2.83L4 21.41c.39.39.9.59 1.41.59.51 0 1.02-.2 1.41-.59l7.78-7.78 2.81-2.81c.8-.78.8-2.07 0-2.86zM5.41 20L4 18.59l7.72-7.72 1.47 1.35L5.41 20z\"/>\n",
              "  </svg>\n",
              "      </button>\n",
              "      \n",
              "  <style>\n",
              "    .colab-df-container {\n",
              "      display:flex;\n",
              "      flex-wrap:wrap;\n",
              "      gap: 12px;\n",
              "    }\n",
              "\n",
              "    .colab-df-convert {\n",
              "      background-color: #E8F0FE;\n",
              "      border: none;\n",
              "      border-radius: 50%;\n",
              "      cursor: pointer;\n",
              "      display: none;\n",
              "      fill: #1967D2;\n",
              "      height: 32px;\n",
              "      padding: 0 0 0 0;\n",
              "      width: 32px;\n",
              "    }\n",
              "\n",
              "    .colab-df-convert:hover {\n",
              "      background-color: #E2EBFA;\n",
              "      box-shadow: 0px 1px 2px rgba(60, 64, 67, 0.3), 0px 1px 3px 1px rgba(60, 64, 67, 0.15);\n",
              "      fill: #174EA6;\n",
              "    }\n",
              "\n",
              "    [theme=dark] .colab-df-convert {\n",
              "      background-color: #3B4455;\n",
              "      fill: #D2E3FC;\n",
              "    }\n",
              "\n",
              "    [theme=dark] .colab-df-convert:hover {\n",
              "      background-color: #434B5C;\n",
              "      box-shadow: 0px 1px 3px 1px rgba(0, 0, 0, 0.15);\n",
              "      filter: drop-shadow(0px 1px 2px rgba(0, 0, 0, 0.3));\n",
              "      fill: #FFFFFF;\n",
              "    }\n",
              "  </style>\n",
              "\n",
              "      <script>\n",
              "        const buttonEl =\n",
              "          document.querySelector('#df-73c302b8-8fc4-4bf3-b485-24fe9832ca6d button.colab-df-convert');\n",
              "        buttonEl.style.display =\n",
              "          google.colab.kernel.accessAllowed ? 'block' : 'none';\n",
              "\n",
              "        async function convertToInteractive(key) {\n",
              "          const element = document.querySelector('#df-73c302b8-8fc4-4bf3-b485-24fe9832ca6d');\n",
              "          const dataTable =\n",
              "            await google.colab.kernel.invokeFunction('convertToInteractive',\n",
              "                                                     [key], {});\n",
              "          if (!dataTable) return;\n",
              "\n",
              "          const docLinkHtml = 'Like what you see? Visit the ' +\n",
              "            '<a target=\"_blank\" href=https://colab.research.google.com/notebooks/data_table.ipynb>data table notebook</a>'\n",
              "            + ' to learn more about interactive tables.';\n",
              "          element.innerHTML = '';\n",
              "          dataTable['output_type'] = 'display_data';\n",
              "          await google.colab.output.renderOutput(dataTable, element);\n",
              "          const docLink = document.createElement('div');\n",
              "          docLink.innerHTML = docLinkHtml;\n",
              "          element.appendChild(docLink);\n",
              "        }\n",
              "      </script>\n",
              "    </div>\n",
              "  </div>\n",
              "  "
            ]
          },
          "metadata": {},
          "execution_count": 47
        }
      ]
    },
    {
      "cell_type": "markdown",
      "source": [
        ">> - 2월 29일은 4년에 한 번이므로 판매량이 적은 것은 당연한 현상\n",
        "- 낮은 판매량 중에서 이상치라고 할만한 것이 2월 29일만 해당함\n",
        "- 대부분의 값은 0으로 채워질 것이기에 의미없는 변수가 될 것이 예상됨\n",
        "- 컬럼을 추가하지 않는 방향으로 진행"
      ],
      "metadata": {
        "id": "XnEmkjtbxUjx"
      }
    },
    {
      "cell_type": "markdown",
      "source": [
        "- year, month, day로 할당했으므로 \"date\" column은  삭제 "
      ],
      "metadata": {
        "id": "CA1vKi7bBbOE"
      }
    },
    {
      "cell_type": "markdown",
      "source": [
        "### drop columns"
      ],
      "metadata": {
        "id": "KvljGo77BvvK"
      }
    },
    {
      "cell_type": "code",
      "source": [
        "train_df.drop(\"date\", axis = 1, inplace = True)\n",
        "test_df.drop(\"date\", axis = 1, inplace = True)"
      ],
      "metadata": {
        "id": "j9oID3wF8VBF"
      },
      "execution_count": null,
      "outputs": []
    },
    {
      "cell_type": "markdown",
      "source": [
        "- 예측해야 하는 값인 num_sold 를 y로 할당해서 제거"
      ],
      "metadata": {
        "id": "hvB7CQ268DBi"
      }
    },
    {
      "cell_type": "code",
      "source": [
        "y = train_df[\"num_sold\"]\n",
        "train_df.drop([\"num_sold\"], axis = 1, inplace = True)"
      ],
      "metadata": {
        "id": "azm8H3kr8I3N"
      },
      "execution_count": null,
      "outputs": []
    },
    {
      "cell_type": "markdown",
      "source": [
        "- object를 학습시킬 때 넣을 수 없으므로 원-핫 인코딩으로 변환"
      ],
      "metadata": {
        "id": "iuuqZIWb3HnL"
      }
    },
    {
      "cell_type": "markdown",
      "source": [
        "### one-hot encoding"
      ],
      "metadata": {
        "id": "1Kftwx3ZB0Dj"
      }
    },
    {
      "cell_type": "code",
      "source": [
        "train_df = pd.get_dummies(train_df)\n",
        "test_df = pd.get_dummies(test_df)\n",
        "train_df.head(2)"
      ],
      "metadata": {
        "id": "Fah5Z3gh2JuV",
        "colab": {
          "base_uri": "https://localhost:8080/",
          "height": 240
        },
        "outputId": "25a802b7-a4e1-4a90-a8af-84a03d7ac68c"
      },
      "execution_count": null,
      "outputs": [
        {
          "output_type": "execute_result",
          "data": {
            "text/plain": [
              "   year  month  day  day_of_year  quarter  weekday  is_nov_to_june  \\\n",
              "0  2017      1    1            1        1        6               1   \n",
              "1  2017      1    1            1        1        6               1   \n",
              "\n",
              "   is_holiday  is_after_2020_01  is_special_day_1std  ...  country_Germany  \\\n",
              "0           1                 0                    1  ...                0   \n",
              "1           1                 0                    1  ...                0   \n",
              "\n",
              "   country_Italy  country_Poland  country_Spain  store_KaggleMart  \\\n",
              "0              0               0              0                 1   \n",
              "1              0               0              0                 1   \n",
              "\n",
              "   store_KaggleRama  product_Kaggle Advanced Techniques  \\\n",
              "0                 0                                   1   \n",
              "1                 0                                   0   \n",
              "\n",
              "   product_Kaggle Getting Started  product_Kaggle Recipe Book  \\\n",
              "0                               0                           0   \n",
              "1                               1                           0   \n",
              "\n",
              "   product_Kaggle for Kids: One Smart Goose  \n",
              "0                                         0  \n",
              "1                                         0  \n",
              "\n",
              "[2 rows x 23 columns]"
            ],
            "text/html": [
              "\n",
              "  <div id=\"df-8115a2e7-68bf-4cc0-8dd5-fac6bb291613\">\n",
              "    <div class=\"colab-df-container\">\n",
              "      <div>\n",
              "<style scoped>\n",
              "    .dataframe tbody tr th:only-of-type {\n",
              "        vertical-align: middle;\n",
              "    }\n",
              "\n",
              "    .dataframe tbody tr th {\n",
              "        vertical-align: top;\n",
              "    }\n",
              "\n",
              "    .dataframe thead th {\n",
              "        text-align: right;\n",
              "    }\n",
              "</style>\n",
              "<table border=\"1\" class=\"dataframe\">\n",
              "  <thead>\n",
              "    <tr style=\"text-align: right;\">\n",
              "      <th></th>\n",
              "      <th>year</th>\n",
              "      <th>month</th>\n",
              "      <th>day</th>\n",
              "      <th>day_of_year</th>\n",
              "      <th>quarter</th>\n",
              "      <th>weekday</th>\n",
              "      <th>is_nov_to_june</th>\n",
              "      <th>is_holiday</th>\n",
              "      <th>is_after_2020_01</th>\n",
              "      <th>is_special_day_1std</th>\n",
              "      <th>...</th>\n",
              "      <th>country_Germany</th>\n",
              "      <th>country_Italy</th>\n",
              "      <th>country_Poland</th>\n",
              "      <th>country_Spain</th>\n",
              "      <th>store_KaggleMart</th>\n",
              "      <th>store_KaggleRama</th>\n",
              "      <th>product_Kaggle Advanced Techniques</th>\n",
              "      <th>product_Kaggle Getting Started</th>\n",
              "      <th>product_Kaggle Recipe Book</th>\n",
              "      <th>product_Kaggle for Kids: One Smart Goose</th>\n",
              "    </tr>\n",
              "  </thead>\n",
              "  <tbody>\n",
              "    <tr>\n",
              "      <th>0</th>\n",
              "      <td>2017</td>\n",
              "      <td>1</td>\n",
              "      <td>1</td>\n",
              "      <td>1</td>\n",
              "      <td>1</td>\n",
              "      <td>6</td>\n",
              "      <td>1</td>\n",
              "      <td>1</td>\n",
              "      <td>0</td>\n",
              "      <td>1</td>\n",
              "      <td>...</td>\n",
              "      <td>0</td>\n",
              "      <td>0</td>\n",
              "      <td>0</td>\n",
              "      <td>0</td>\n",
              "      <td>1</td>\n",
              "      <td>0</td>\n",
              "      <td>1</td>\n",
              "      <td>0</td>\n",
              "      <td>0</td>\n",
              "      <td>0</td>\n",
              "    </tr>\n",
              "    <tr>\n",
              "      <th>1</th>\n",
              "      <td>2017</td>\n",
              "      <td>1</td>\n",
              "      <td>1</td>\n",
              "      <td>1</td>\n",
              "      <td>1</td>\n",
              "      <td>6</td>\n",
              "      <td>1</td>\n",
              "      <td>1</td>\n",
              "      <td>0</td>\n",
              "      <td>1</td>\n",
              "      <td>...</td>\n",
              "      <td>0</td>\n",
              "      <td>0</td>\n",
              "      <td>0</td>\n",
              "      <td>0</td>\n",
              "      <td>1</td>\n",
              "      <td>0</td>\n",
              "      <td>0</td>\n",
              "      <td>1</td>\n",
              "      <td>0</td>\n",
              "      <td>0</td>\n",
              "    </tr>\n",
              "  </tbody>\n",
              "</table>\n",
              "<p>2 rows × 23 columns</p>\n",
              "</div>\n",
              "      <button class=\"colab-df-convert\" onclick=\"convertToInteractive('df-8115a2e7-68bf-4cc0-8dd5-fac6bb291613')\"\n",
              "              title=\"Convert this dataframe to an interactive table.\"\n",
              "              style=\"display:none;\">\n",
              "        \n",
              "  <svg xmlns=\"http://www.w3.org/2000/svg\" height=\"24px\"viewBox=\"0 0 24 24\"\n",
              "       width=\"24px\">\n",
              "    <path d=\"M0 0h24v24H0V0z\" fill=\"none\"/>\n",
              "    <path d=\"M18.56 5.44l.94 2.06.94-2.06 2.06-.94-2.06-.94-.94-2.06-.94 2.06-2.06.94zm-11 1L8.5 8.5l.94-2.06 2.06-.94-2.06-.94L8.5 2.5l-.94 2.06-2.06.94zm10 10l.94 2.06.94-2.06 2.06-.94-2.06-.94-.94-2.06-.94 2.06-2.06.94z\"/><path d=\"M17.41 7.96l-1.37-1.37c-.4-.4-.92-.59-1.43-.59-.52 0-1.04.2-1.43.59L10.3 9.45l-7.72 7.72c-.78.78-.78 2.05 0 2.83L4 21.41c.39.39.9.59 1.41.59.51 0 1.02-.2 1.41-.59l7.78-7.78 2.81-2.81c.8-.78.8-2.07 0-2.86zM5.41 20L4 18.59l7.72-7.72 1.47 1.35L5.41 20z\"/>\n",
              "  </svg>\n",
              "      </button>\n",
              "      \n",
              "  <style>\n",
              "    .colab-df-container {\n",
              "      display:flex;\n",
              "      flex-wrap:wrap;\n",
              "      gap: 12px;\n",
              "    }\n",
              "\n",
              "    .colab-df-convert {\n",
              "      background-color: #E8F0FE;\n",
              "      border: none;\n",
              "      border-radius: 50%;\n",
              "      cursor: pointer;\n",
              "      display: none;\n",
              "      fill: #1967D2;\n",
              "      height: 32px;\n",
              "      padding: 0 0 0 0;\n",
              "      width: 32px;\n",
              "    }\n",
              "\n",
              "    .colab-df-convert:hover {\n",
              "      background-color: #E2EBFA;\n",
              "      box-shadow: 0px 1px 2px rgba(60, 64, 67, 0.3), 0px 1px 3px 1px rgba(60, 64, 67, 0.15);\n",
              "      fill: #174EA6;\n",
              "    }\n",
              "\n",
              "    [theme=dark] .colab-df-convert {\n",
              "      background-color: #3B4455;\n",
              "      fill: #D2E3FC;\n",
              "    }\n",
              "\n",
              "    [theme=dark] .colab-df-convert:hover {\n",
              "      background-color: #434B5C;\n",
              "      box-shadow: 0px 1px 3px 1px rgba(0, 0, 0, 0.15);\n",
              "      filter: drop-shadow(0px 1px 2px rgba(0, 0, 0, 0.3));\n",
              "      fill: #FFFFFF;\n",
              "    }\n",
              "  </style>\n",
              "\n",
              "      <script>\n",
              "        const buttonEl =\n",
              "          document.querySelector('#df-8115a2e7-68bf-4cc0-8dd5-fac6bb291613 button.colab-df-convert');\n",
              "        buttonEl.style.display =\n",
              "          google.colab.kernel.accessAllowed ? 'block' : 'none';\n",
              "\n",
              "        async function convertToInteractive(key) {\n",
              "          const element = document.querySelector('#df-8115a2e7-68bf-4cc0-8dd5-fac6bb291613');\n",
              "          const dataTable =\n",
              "            await google.colab.kernel.invokeFunction('convertToInteractive',\n",
              "                                                     [key], {});\n",
              "          if (!dataTable) return;\n",
              "\n",
              "          const docLinkHtml = 'Like what you see? Visit the ' +\n",
              "            '<a target=\"_blank\" href=https://colab.research.google.com/notebooks/data_table.ipynb>data table notebook</a>'\n",
              "            + ' to learn more about interactive tables.';\n",
              "          element.innerHTML = '';\n",
              "          dataTable['output_type'] = 'display_data';\n",
              "          await google.colab.output.renderOutput(dataTable, element);\n",
              "          const docLink = document.createElement('div');\n",
              "          docLink.innerHTML = docLinkHtml;\n",
              "          element.appendChild(docLink);\n",
              "        }\n",
              "      </script>\n",
              "    </div>\n",
              "  </div>\n",
              "  "
            ]
          },
          "metadata": {},
          "execution_count": 50
        }
      ]
    },
    {
      "cell_type": "markdown",
      "source": [
        "- weekday, quarter가 변환되지 않아서 타입 확인"
      ],
      "metadata": {
        "id": "Ejgcq47EvaQr"
      }
    },
    {
      "cell_type": "code",
      "source": [
        "train_df[\"weekday\"].dtype, train_df[\"quarter\"].dtype"
      ],
      "metadata": {
        "id": "Npvc9Y-Gu-jy",
        "colab": {
          "base_uri": "https://localhost:8080/"
        },
        "outputId": "ef36653b-30a0-4680-dc15-505ab68ae516"
      },
      "execution_count": null,
      "outputs": [
        {
          "output_type": "execute_result",
          "data": {
            "text/plain": [
              "(dtype('int64'), dtype('int64'))"
            ]
          },
          "metadata": {},
          "execution_count": 51
        }
      ]
    },
    {
      "cell_type": "markdown",
      "source": [
        ">> - int형으로 지정되어있어서 변환이 되지 않은 것으로 보임. 문자열로 치환한 후 get_dummies를 사용"
      ],
      "metadata": {
        "id": "aVhz2QDRveDe"
      }
    },
    {
      "cell_type": "code",
      "source": [
        "train_df[\"weekday\"] = train_df[\"weekday\"].astype(object)\n",
        "test_df[\"weekday\"] = test_df[\"weekday\"].astype(object)\n",
        "\n",
        "train_df[\"quarter\"] = train_df[\"quarter\"].astype(object)\n",
        "test_df[\"quarter\"] = test_df[\"quarter\"].astype(object)\n",
        "\n",
        "print(train_df[\"weekday\"].dtype, train_df[\"quarter\"].dtype)"
      ],
      "metadata": {
        "id": "d5elRjd1vnYp",
        "colab": {
          "base_uri": "https://localhost:8080/"
        },
        "outputId": "0ab5c391-f3cd-42db-f03b-c3f80b574480"
      },
      "execution_count": null,
      "outputs": [
        {
          "output_type": "stream",
          "name": "stdout",
          "text": [
            "object object\n"
          ]
        }
      ]
    },
    {
      "cell_type": "markdown",
      "source": [
        ">> - 변형 완료됨. 다시 원 핫 인코딩 수행"
      ],
      "metadata": {
        "id": "K7f_Mxf-wOfq"
      }
    },
    {
      "cell_type": "code",
      "source": [
        "train_df = pd.get_dummies(train_df)\n",
        "test_df = pd.get_dummies(test_df)\n",
        "train_df.head(2)"
      ],
      "metadata": {
        "id": "tfxAnUXNwRUb",
        "colab": {
          "base_uri": "https://localhost:8080/",
          "height": 205
        },
        "outputId": "2f868b22-168d-40ae-83f0-0390a071d87d"
      },
      "execution_count": null,
      "outputs": [
        {
          "output_type": "execute_result",
          "data": {
            "text/plain": [
              "   year  month  day  day_of_year  is_nov_to_june  is_holiday  \\\n",
              "0  2017      1    1            1               1           1   \n",
              "1  2017      1    1            1               1           1   \n",
              "\n",
              "   is_after_2020_01  is_special_day_1std  is_special_day_2std  \\\n",
              "0                 0                    1                    1   \n",
              "1                 0                    1                    1   \n",
              "\n",
              "   country_Belgium  ...  quarter_2  quarter_3  quarter_4  weekday_0  \\\n",
              "0                1  ...          0          0          0          0   \n",
              "1                1  ...          0          0          0          0   \n",
              "\n",
              "   weekday_1  weekday_2  weekday_3  weekday_4  weekday_5  weekday_6  \n",
              "0          0          0          0          0          0          1  \n",
              "1          0          0          0          0          0          1  \n",
              "\n",
              "[2 rows x 32 columns]"
            ],
            "text/html": [
              "\n",
              "  <div id=\"df-c9d22181-be9d-4dfc-a313-845b881e714e\">\n",
              "    <div class=\"colab-df-container\">\n",
              "      <div>\n",
              "<style scoped>\n",
              "    .dataframe tbody tr th:only-of-type {\n",
              "        vertical-align: middle;\n",
              "    }\n",
              "\n",
              "    .dataframe tbody tr th {\n",
              "        vertical-align: top;\n",
              "    }\n",
              "\n",
              "    .dataframe thead th {\n",
              "        text-align: right;\n",
              "    }\n",
              "</style>\n",
              "<table border=\"1\" class=\"dataframe\">\n",
              "  <thead>\n",
              "    <tr style=\"text-align: right;\">\n",
              "      <th></th>\n",
              "      <th>year</th>\n",
              "      <th>month</th>\n",
              "      <th>day</th>\n",
              "      <th>day_of_year</th>\n",
              "      <th>is_nov_to_june</th>\n",
              "      <th>is_holiday</th>\n",
              "      <th>is_after_2020_01</th>\n",
              "      <th>is_special_day_1std</th>\n",
              "      <th>is_special_day_2std</th>\n",
              "      <th>country_Belgium</th>\n",
              "      <th>...</th>\n",
              "      <th>quarter_2</th>\n",
              "      <th>quarter_3</th>\n",
              "      <th>quarter_4</th>\n",
              "      <th>weekday_0</th>\n",
              "      <th>weekday_1</th>\n",
              "      <th>weekday_2</th>\n",
              "      <th>weekday_3</th>\n",
              "      <th>weekday_4</th>\n",
              "      <th>weekday_5</th>\n",
              "      <th>weekday_6</th>\n",
              "    </tr>\n",
              "  </thead>\n",
              "  <tbody>\n",
              "    <tr>\n",
              "      <th>0</th>\n",
              "      <td>2017</td>\n",
              "      <td>1</td>\n",
              "      <td>1</td>\n",
              "      <td>1</td>\n",
              "      <td>1</td>\n",
              "      <td>1</td>\n",
              "      <td>0</td>\n",
              "      <td>1</td>\n",
              "      <td>1</td>\n",
              "      <td>1</td>\n",
              "      <td>...</td>\n",
              "      <td>0</td>\n",
              "      <td>0</td>\n",
              "      <td>0</td>\n",
              "      <td>0</td>\n",
              "      <td>0</td>\n",
              "      <td>0</td>\n",
              "      <td>0</td>\n",
              "      <td>0</td>\n",
              "      <td>0</td>\n",
              "      <td>1</td>\n",
              "    </tr>\n",
              "    <tr>\n",
              "      <th>1</th>\n",
              "      <td>2017</td>\n",
              "      <td>1</td>\n",
              "      <td>1</td>\n",
              "      <td>1</td>\n",
              "      <td>1</td>\n",
              "      <td>1</td>\n",
              "      <td>0</td>\n",
              "      <td>1</td>\n",
              "      <td>1</td>\n",
              "      <td>1</td>\n",
              "      <td>...</td>\n",
              "      <td>0</td>\n",
              "      <td>0</td>\n",
              "      <td>0</td>\n",
              "      <td>0</td>\n",
              "      <td>0</td>\n",
              "      <td>0</td>\n",
              "      <td>0</td>\n",
              "      <td>0</td>\n",
              "      <td>0</td>\n",
              "      <td>1</td>\n",
              "    </tr>\n",
              "  </tbody>\n",
              "</table>\n",
              "<p>2 rows × 32 columns</p>\n",
              "</div>\n",
              "      <button class=\"colab-df-convert\" onclick=\"convertToInteractive('df-c9d22181-be9d-4dfc-a313-845b881e714e')\"\n",
              "              title=\"Convert this dataframe to an interactive table.\"\n",
              "              style=\"display:none;\">\n",
              "        \n",
              "  <svg xmlns=\"http://www.w3.org/2000/svg\" height=\"24px\"viewBox=\"0 0 24 24\"\n",
              "       width=\"24px\">\n",
              "    <path d=\"M0 0h24v24H0V0z\" fill=\"none\"/>\n",
              "    <path d=\"M18.56 5.44l.94 2.06.94-2.06 2.06-.94-2.06-.94-.94-2.06-.94 2.06-2.06.94zm-11 1L8.5 8.5l.94-2.06 2.06-.94-2.06-.94L8.5 2.5l-.94 2.06-2.06.94zm10 10l.94 2.06.94-2.06 2.06-.94-2.06-.94-.94-2.06-.94 2.06-2.06.94z\"/><path d=\"M17.41 7.96l-1.37-1.37c-.4-.4-.92-.59-1.43-.59-.52 0-1.04.2-1.43.59L10.3 9.45l-7.72 7.72c-.78.78-.78 2.05 0 2.83L4 21.41c.39.39.9.59 1.41.59.51 0 1.02-.2 1.41-.59l7.78-7.78 2.81-2.81c.8-.78.8-2.07 0-2.86zM5.41 20L4 18.59l7.72-7.72 1.47 1.35L5.41 20z\"/>\n",
              "  </svg>\n",
              "      </button>\n",
              "      \n",
              "  <style>\n",
              "    .colab-df-container {\n",
              "      display:flex;\n",
              "      flex-wrap:wrap;\n",
              "      gap: 12px;\n",
              "    }\n",
              "\n",
              "    .colab-df-convert {\n",
              "      background-color: #E8F0FE;\n",
              "      border: none;\n",
              "      border-radius: 50%;\n",
              "      cursor: pointer;\n",
              "      display: none;\n",
              "      fill: #1967D2;\n",
              "      height: 32px;\n",
              "      padding: 0 0 0 0;\n",
              "      width: 32px;\n",
              "    }\n",
              "\n",
              "    .colab-df-convert:hover {\n",
              "      background-color: #E2EBFA;\n",
              "      box-shadow: 0px 1px 2px rgba(60, 64, 67, 0.3), 0px 1px 3px 1px rgba(60, 64, 67, 0.15);\n",
              "      fill: #174EA6;\n",
              "    }\n",
              "\n",
              "    [theme=dark] .colab-df-convert {\n",
              "      background-color: #3B4455;\n",
              "      fill: #D2E3FC;\n",
              "    }\n",
              "\n",
              "    [theme=dark] .colab-df-convert:hover {\n",
              "      background-color: #434B5C;\n",
              "      box-shadow: 0px 1px 3px 1px rgba(0, 0, 0, 0.15);\n",
              "      filter: drop-shadow(0px 1px 2px rgba(0, 0, 0, 0.3));\n",
              "      fill: #FFFFFF;\n",
              "    }\n",
              "  </style>\n",
              "\n",
              "      <script>\n",
              "        const buttonEl =\n",
              "          document.querySelector('#df-c9d22181-be9d-4dfc-a313-845b881e714e button.colab-df-convert');\n",
              "        buttonEl.style.display =\n",
              "          google.colab.kernel.accessAllowed ? 'block' : 'none';\n",
              "\n",
              "        async function convertToInteractive(key) {\n",
              "          const element = document.querySelector('#df-c9d22181-be9d-4dfc-a313-845b881e714e');\n",
              "          const dataTable =\n",
              "            await google.colab.kernel.invokeFunction('convertToInteractive',\n",
              "                                                     [key], {});\n",
              "          if (!dataTable) return;\n",
              "\n",
              "          const docLinkHtml = 'Like what you see? Visit the ' +\n",
              "            '<a target=\"_blank\" href=https://colab.research.google.com/notebooks/data_table.ipynb>data table notebook</a>'\n",
              "            + ' to learn more about interactive tables.';\n",
              "          element.innerHTML = '';\n",
              "          dataTable['output_type'] = 'display_data';\n",
              "          await google.colab.output.renderOutput(dataTable, element);\n",
              "          const docLink = document.createElement('div');\n",
              "          docLink.innerHTML = docLinkHtml;\n",
              "          element.appendChild(docLink);\n",
              "        }\n",
              "      </script>\n",
              "    </div>\n",
              "  </div>\n",
              "  "
            ]
          },
          "metadata": {},
          "execution_count": 53
        }
      ]
    },
    {
      "cell_type": "markdown",
      "source": [
        "> - 정상적으로 원 핫 인코딩이 수행되었음"
      ],
      "metadata": {
        "id": "k0oNb060wnlP"
      }
    },
    {
      "cell_type": "markdown",
      "source": [
        "### 목적변수 분포 확인"
      ],
      "metadata": {
        "id": "XDrRbBSGBoIH"
      }
    },
    {
      "cell_type": "code",
      "source": [
        "sns.distplot(y)"
      ],
      "metadata": {
        "id": "5nnERrJzyzAn",
        "colab": {
          "base_uri": "https://localhost:8080/",
          "height": 355
        },
        "outputId": "9bf7823d-ab37-41f2-f152-cbf3fc0833bd"
      },
      "execution_count": null,
      "outputs": [
        {
          "output_type": "stream",
          "name": "stderr",
          "text": [
            "/usr/local/lib/python3.7/dist-packages/seaborn/distributions.py:2619: FutureWarning: `distplot` is a deprecated function and will be removed in a future version. Please adapt your code to use either `displot` (a figure-level function with similar flexibility) or `histplot` (an axes-level function for histograms).\n",
            "  warnings.warn(msg, FutureWarning)\n"
          ]
        },
        {
          "output_type": "execute_result",
          "data": {
            "text/plain": [
              "<matplotlib.axes._subplots.AxesSubplot at 0x7fa88a66ce90>"
            ]
          },
          "metadata": {},
          "execution_count": 54
        },
        {
          "output_type": "display_data",
          "data": {
            "text/plain": [
              "<Figure size 432x288 with 1 Axes>"
            ],
            "image/png": "[encoded data removed]"
          },
          "metadata": {
            "needs_background": "light"
          }
        }
      ]
    },
    {
      "cell_type": "markdown",
      "source": [
        ">> - 대체로 값이 150을 전후로 분포되어 있으나, 정규분포와 거리가 먼 모습을 보임. log를 씌워줌으로써 해결"
      ],
      "metadata": {
        "id": "0mxEhARSy3qY"
      }
    },
    {
      "cell_type": "code",
      "source": [
        "log_y = np.log1p(y)"
      ],
      "metadata": {
        "id": "kpdNTI_dzHQ7"
      },
      "execution_count": null,
      "outputs": []
    },
    {
      "cell_type": "code",
      "source": [
        "sns.distplot(log_y)"
      ],
      "metadata": {
        "id": "VOEbhhOgzKhV",
        "colab": {
          "base_uri": "https://localhost:8080/",
          "height": 355
        },
        "outputId": "60534016-0c7d-498d-9adc-7bff3029e02d"
      },
      "execution_count": null,
      "outputs": [
        {
          "output_type": "stream",
          "name": "stderr",
          "text": [
            "/usr/local/lib/python3.7/dist-packages/seaborn/distributions.py:2619: FutureWarning: `distplot` is a deprecated function and will be removed in a future version. Please adapt your code to use either `displot` (a figure-level function with similar flexibility) or `histplot` (an axes-level function for histograms).\n",
            "  warnings.warn(msg, FutureWarning)\n"
          ]
        },
        {
          "output_type": "execute_result",
          "data": {
            "text/plain": [
              "<matplotlib.axes._subplots.AxesSubplot at 0x7fa88b82bdd0>"
            ]
          },
          "metadata": {},
          "execution_count": 56
        },
        {
          "output_type": "display_data",
          "data": {
            "text/plain": [
              "<Figure size 432x288 with 1 Axes>"
            ],
            "image/png": "[encoded data removed]"
          },
          "metadata": {
            "needs_background": "light"
          }
        }
      ]
    },
    {
      "cell_type": "markdown",
      "source": [
        ">> - 바라던 모양은 아니지만 이전보다 훨씬 나은 모습을 보임\n",
        "- 나중에 예측값을 다시 np.expm1로 변형해주어야함"
      ],
      "metadata": {
        "id": "eKGJq7BRzRcy"
      }
    },
    {
      "cell_type": "markdown",
      "source": [
        "# 학습"
      ],
      "metadata": {
        "id": "ND4n3vEU4FO7"
      }
    },
    {
      "cell_type": "code",
      "source": [
        "!pip install catboost"
      ],
      "metadata": {
        "id": "ILBZ_SMP0JZQ",
        "colab": {
          "base_uri": "https://localhost:8080/"
        },
        "outputId": "b923b2d0-5d9f-4865-e3d8-ddb2fedfa329"
      },
      "execution_count": null,
      "outputs": [
        {
          "output_type": "stream",
          "name": "stdout",
          "text": [
            "Looking in indexes: https://pypi.org/simple, https://us-python.pkg.dev/colab-wheels/public/simple/\n",
            "Collecting catboost\n",
            "  Downloading catboost-1.1-cp37-none-manylinux1_x86_64.whl (76.8 MB)\n",
            "\u001b[K     |████████████████████████████████| 76.8 MB 1.3 MB/s \n",
            "\u001b[?25hRequirement already satisfied: graphviz in /usr/local/lib/python3.7/dist-packages (from catboost) (0.10.1)\n",
            "Requirement already satisfied: numpy>=1.16.0 in /usr/local/lib/python3.7/dist-packages (from catboost) (1.21.6)\n",
            "Requirement already satisfied: pandas>=0.24.0 in /usr/local/lib/python3.7/dist-packages (from catboost) (1.3.5)\n",
            "Requirement already satisfied: plotly in /usr/local/lib/python3.7/dist-packages (from catboost) (5.5.0)\n",
            "Requirement already satisfied: scipy in /usr/local/lib/python3.7/dist-packages (from catboost) (1.7.3)\n",
            "Requirement already satisfied: matplotlib in /usr/local/lib/python3.7/dist-packages (from catboost) (3.2.2)\n",
            "Requirement already satisfied: six in /usr/local/lib/python3.7/dist-packages (from catboost) (1.15.0)\n",
            "Requirement already satisfied: pytz>=2017.3 in /usr/local/lib/python3.7/dist-packages (from pandas>=0.24.0->catboost) (2022.2.1)\n",
            "Requirement already satisfied: python-dateutil>=2.7.3 in /usr/local/lib/python3.7/dist-packages (from pandas>=0.24.0->catboost) (2.8.2)\n",
            "Requirement already satisfied: kiwisolver>=1.0.1 in /usr/local/lib/python3.7/dist-packages (from matplotlib->catboost) (1.4.4)\n",
            "Requirement already satisfied: cycler>=0.10 in /usr/local/lib/python3.7/dist-packages (from matplotlib->catboost) (0.11.0)\n",
            "Requirement already satisfied: pyparsing!=2.0.4,!=2.1.2,!=2.1.6,>=2.0.1 in /usr/local/lib/python3.7/dist-packages (from matplotlib->catboost) (3.0.9)\n",
            "Requirement already satisfied: typing-extensions in /usr/local/lib/python3.7/dist-packages (from kiwisolver>=1.0.1->matplotlib->catboost) (4.1.1)\n",
            "Requirement already satisfied: tenacity>=6.2.0 in /usr/local/lib/python3.7/dist-packages (from plotly->catboost) (8.0.1)\n",
            "Installing collected packages: catboost\n",
            "Successfully installed catboost-1.1\n"
          ]
        }
      ]
    },
    {
      "cell_type": "code",
      "source": [
        "from lightgbm import LGBMRegressor as lgbm\n",
        "from catboost import CatBoostRegressor as cat\n",
        "from sklearn.ensemble import RandomForestRegressor\n",
        "import xgboost as xgb\n",
        "\n",
        "# # 랜덤 그리드 서치를 하지 않는다면 실행시킬 필요가 없는 코드\n",
        "# 실행시키고 싶으시면 주석을 해제해주세요\n",
        "# LGBM = lgbm(n_estimators = 801)\n",
        "# CATEGORI = cat(n_estimators = 801, metric_period=800)\n",
        "# RF = RandomForestRegressor(n_estimators = 801)\n",
        "# XGB = xgb.XGBRegressor(n_estimators = 801, objective=\"reg:squarederror\")"
      ],
      "metadata": {
        "id": "vPBd1FrZ2-8l"
      },
      "execution_count": null,
      "outputs": []
    },
    {
      "cell_type": "code",
      "source": [
        "# # RandomizedSearchCV -> catboost, xgboost는 시간이 매우 오래 걸리므로 주의 (2시간 30분 정도)\n",
        "\n",
        "# # 사용하지 않을 경우 LGBM2, CATEGORI2, RF2, XGB2 선언하는 셀로 넘어갈 것\n",
        "\n",
        "# from sklearn.model_selection import RandomizedSearchCV\n",
        "\n",
        "# lgbm_distribution = {\n",
        "#     \"max_depth\" : range(5,16),\n",
        "#     \"num_leaves\" : range(8,25)}\n",
        "\n",
        "# cat_distribution = {\"max_depth\" : range(5,16),\n",
        "#                     \"learning_rate\" : [0.001, 0.005, 0.01]}\n",
        "\n",
        "# rf_distribution = {\"bootstrap\" : [True, False],\n",
        "#                    \"max_depth\" : range(5,16),\n",
        "#                    \"max_features\" : range(4, 8)}\n",
        "\n",
        "# xgb_distribution = {\"max_depth\" : range(5,16),\n",
        "#                     \"alpha\" : [0, 0.1, 0.01] }\n",
        "\n",
        "\n",
        "# rs_lgbm = RandomizedSearchCV(LGBM, lgbm_distribution)\n",
        "# rs_cat = RandomizedSearchCV(CATEGORI, cat_distribution)\n",
        "# rs_rf = RandomizedSearchCV(RF, rf_distribution)\n",
        "# rs_xgb = RandomizedSearchCV(XGB, xgb_distribution)\n",
        "\n",
        "# rs_lgbm.fit(train_df, log_y)\n",
        "# rs_cat.fit(train_df, log_y)\n",
        "# rs_rf.fit(train_df, log_y)\n",
        "# rs_xgb.fit(train_df, log_y)\n",
        "\n",
        "# print(\"lgbm 최적 : \", rs_lgbm.best_params_)\n",
        "# print(\"cat 최적 : \", rs_cat.best_params_)\n",
        "# print(\"rf 최적 : \", rs_rf.best_params_)\n",
        "# print(\"xgb 최적 : \", rs_xgb.best_params_)"
      ],
      "metadata": {
        "id": "qC654QyZ2c6C"
      },
      "execution_count": null,
      "outputs": []
    },
    {
      "cell_type": "markdown",
      "source": [
        "### 그리드서치를 통해 얻은 최적 하이퍼 파라미터"
      ],
      "metadata": {
        "id": "6c18eDwgX4wH"
      }
    },
    {
      "cell_type": "markdown",
      "source": [
        "![image.png](data:image/png;base64,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)"
      ],
      "metadata": {
        "id": "6snLpBGIk0BF"
      }
    },
    {
      "cell_type": "markdown",
      "source": [
        "- 랜덤서치를 통해 얻은 최적 하이퍼 파라미터로 바로 예측이 가능함"
      ],
      "metadata": {
        "id": "VS9Nx547ZbKz"
      }
    },
    {
      "cell_type": "code",
      "source": [
        "# 랜덤 서치를 이용했을 때 바로 예측값을 뽑아내고 싶은 경우에 사용\n",
        "# 사용하지 않을 경우 다음 코드셀로 넘어갈 것\n",
        "\n",
        "# 위의 랜덤서치를 사용했을 때 아래의 코드로 predict 추출 가능\n",
        "# pred1 = np.expm1(rs_lgbm.best_estimator_.predict(test_df))\n",
        "# pred2 = np.expm1(rs_cat.best_estimator_.predict(test_df))\n",
        "# pred3 = np.expm1(rs_rf.best_estimator_.predict(test_df))\n",
        "# pred4 = np.expm1(rs_rf.best_estimator_.predict(test_df))\n",
        "\n",
        "# all_pred = pred1 + pred2 + pred3 + pred4\n",
        "# final_pred = all_pred/4\n",
        "\n",
        "# submission['num_sold']= final_pred\n",
        "# submission=submission.round({\"num_sold\":0})\n",
        "# display(submission)\n",
        "# submission.to_csv('/all_801_7.csv', index=False)"
      ],
      "metadata": {
        "id": "DCsfn2dMgFNo"
      },
      "execution_count": null,
      "outputs": []
    },
    {
      "cell_type": "markdown",
      "source": [
        "- 아래 코드에서 하이퍼파라미터 재설정"
      ],
      "metadata": {
        "id": "OwPs_p_ik3vS"
      }
    },
    {
      "cell_type": "code",
      "source": [
        "# RandomsearchCV 사용하지 않을 때 사용하는 코드\n",
        "\n",
        "LGBM2 = lgbm(n_estimators = 801, num_leaves = 24, max_depth = 6)\n",
        "\n",
        "CATEGORI2 = cat(n_estimators = 801, metric_period=800, max_depth = 5, learning_rate = 0.005)\n",
        "\n",
        "RF2 = RandomForestRegressor(n_estimators = 801, max_features = 6, max_depth = 13, bootstrap = False)\n",
        "\n",
        "XGB2 = xgb.XGBRegressor(n_estimators = 801, objective=\"reg:squarederror\", max_depth = 5, alpha = 0.1)\n",
        "\n",
        "\n",
        "LGBM2.fit(train_df, log_y)\n",
        "CATEGORI2.fit(train_df, log_y)\n",
        "RF2.fit(train_df, log_y)\n",
        "XGB2.fit(train_df, log_y)\n",
        "\n",
        "\n",
        "# 교차검증 필요할 경우 아래 주석 해제\n",
        "\n",
        "from sklearn.model_selection import cross_val_score as cs\n",
        "\n",
        "lgbm_cs = cs(LGBM2, train_df, log_y, cv = 4)\n",
        "categori_cs = cs(CATEGORI2, train_df, log_y, cv = 4)\n",
        "rf_cs = cs(RF2, train_df, log_y, cv = 4)\n",
        "xgb_cs = cs(XGB2, train_df, log_y, cv = 4)\n",
        "\n",
        "print(lgbm_cs.mean())\n",
        "print(categori_cs.mean())\n",
        "print(rf_cs.mean())\n",
        "print(xgb_cs.mean())"
      ],
      "metadata": {
        "id": "xnuGqO461hKx",
        "colab": {
          "base_uri": "https://localhost:8080/"
        },
        "outputId": "9b0a2080-ca37-49f8-a301-801e290a0f88"
      },
      "execution_count": null,
      "outputs": [
        {
          "output_type": "stream",
          "name": "stdout",
          "text": [
            "0:\tlearn: 0.6869562\ttotal: 64.9ms\tremaining: 51.9s\n",
            "800:\tlearn: 0.1285233\ttotal: 18.6s\tremaining: 0us\n",
            "0:\tlearn: 0.6755396\ttotal: 7.6ms\tremaining: 6.08s\n",
            "800:\tlearn: 0.1257497\ttotal: 4.86s\tremaining: 0us\n",
            "0:\tlearn: 0.6801283\ttotal: 7.01ms\tremaining: 5.61s\n",
            "800:\tlearn: 0.1251100\ttotal: 4.9s\tremaining: 0us\n",
            "0:\tlearn: 0.6838375\ttotal: 6.48ms\tremaining: 5.18s\n",
            "800:\tlearn: 0.1292726\ttotal: 4.94s\tremaining: 0us\n",
            "0:\tlearn: 0.7045476\ttotal: 8.19ms\tremaining: 6.55s\n",
            "800:\tlearn: 0.1145184\ttotal: 5.16s\tremaining: 0us\n",
            "0.8408853864035535\n",
            "0.8276798787202524\n",
            "0.8444481894403179\n",
            "0.7499886262509493\n"
          ]
        }
      ]
    },
    {
      "cell_type": "markdown",
      "source": [
        "### 교차검증 결과"
      ],
      "metadata": {
        "id": "2bJ87A1PX14x"
      }
    },
    {
      "cell_type": "markdown",
      "source": [
        ">> - 검증 결과 네 가지의 모델 모두 일정한 성능(74%이상)을 가지고 있음\n",
        "- 네 가지의 모델을 앙상블하여 결과 예측"
      ],
      "metadata": {
        "id": "_KDnoE7aEZh8"
      }
    },
    {
      "cell_type": "markdown",
      "source": [
        "# additional_process"
      ],
      "metadata": {
        "id": "qfK2OJMD6cgC"
      }
    },
    {
      "cell_type": "markdown",
      "source": [
        "- 위의 시각화 자료를 봤을 때 2020년 1월부터 추세가 바뀌는 것을 확인 가능함\n",
        "- 2020-01-01 의 전후를 기준으로 평균이 얼마나 달라졌는지 확인"
      ],
      "metadata": {
        "id": "TZxmOlbjS_uA"
      }
    },
    {
      "cell_type": "code",
      "source": [
        "# 2020-01-01의 첫 인덱스가 어디인지?\n",
        "train_df[(train_df[\"year\"] == 2020) & (train_df[\"month\"] == 1) & (train_df[\"day\"] == 1)].head()"
      ],
      "metadata": {
        "id": "n5qPffPETM7t",
        "colab": {
          "base_uri": "https://localhost:8080/",
          "height": 300
        },
        "outputId": "bb6732fe-9e96-4e8e-df05-15311d11d190"
      },
      "execution_count": null,
      "outputs": [
        {
          "output_type": "execute_result",
          "data": {
            "text/plain": [
              "       year  month  day  day_of_year  is_nov_to_june  is_holiday  \\\n",
              "52560  2020      1    1            1               1           0   \n",
              "52561  2020      1    1            1               1           0   \n",
              "52562  2020      1    1            1               1           0   \n",
              "52563  2020      1    1            1               1           0   \n",
              "52564  2020      1    1            1               1           0   \n",
              "\n",
              "       is_after_2020_01  is_special_day_1std  is_special_day_2std  \\\n",
              "52560                 1                    1                    1   \n",
              "52561                 1                    1                    1   \n",
              "52562                 1                    1                    1   \n",
              "52563                 1                    1                    1   \n",
              "52564                 1                    1                    1   \n",
              "\n",
              "       country_Belgium  ...  quarter_2  quarter_3  quarter_4  weekday_0  \\\n",
              "52560                1  ...          0          0          0          0   \n",
              "52561                1  ...          0          0          0          0   \n",
              "52562                1  ...          0          0          0          0   \n",
              "52563                1  ...          0          0          0          0   \n",
              "52564                1  ...          0          0          0          0   \n",
              "\n",
              "       weekday_1  weekday_2  weekday_3  weekday_4  weekday_5  weekday_6  \n",
              "52560          0          1          0          0          0          0  \n",
              "52561          0          1          0          0          0          0  \n",
              "52562          0          1          0          0          0          0  \n",
              "52563          0          1          0          0          0          0  \n",
              "52564          0          1          0          0          0          0  \n",
              "\n",
              "[5 rows x 32 columns]"
            ],
            "text/html": [
              "\n",
              "  <div id=\"df-48948350-29a3-40a0-aaa3-44fae3806422\">\n",
              "    <div class=\"colab-df-container\">\n",
              "      <div>\n",
              "<style scoped>\n",
              "    .dataframe tbody tr th:only-of-type {\n",
              "        vertical-align: middle;\n",
              "    }\n",
              "\n",
              "    .dataframe tbody tr th {\n",
              "        vertical-align: top;\n",
              "    }\n",
              "\n",
              "    .dataframe thead th {\n",
              "        text-align: right;\n",
              "    }\n",
              "</style>\n",
              "<table border=\"1\" class=\"dataframe\">\n",
              "  <thead>\n",
              "    <tr style=\"text-align: right;\">\n",
              "      <th></th>\n",
              "      <th>year</th>\n",
              "      <th>month</th>\n",
              "      <th>day</th>\n",
              "      <th>day_of_year</th>\n",
              "      <th>is_nov_to_june</th>\n",
              "      <th>is_holiday</th>\n",
              "      <th>is_after_2020_01</th>\n",
              "      <th>is_special_day_1std</th>\n",
              "      <th>is_special_day_2std</th>\n",
              "      <th>country_Belgium</th>\n",
              "      <th>...</th>\n",
              "      <th>quarter_2</th>\n",
              "      <th>quarter_3</th>\n",
              "      <th>quarter_4</th>\n",
              "      <th>weekday_0</th>\n",
              "      <th>weekday_1</th>\n",
              "      <th>weekday_2</th>\n",
              "      <th>weekday_3</th>\n",
              "      <th>weekday_4</th>\n",
              "      <th>weekday_5</th>\n",
              "      <th>weekday_6</th>\n",
              "    </tr>\n",
              "  </thead>\n",
              "  <tbody>\n",
              "    <tr>\n",
              "      <th>52560</th>\n",
              "      <td>2020</td>\n",
              "      <td>1</td>\n",
              "      <td>1</td>\n",
              "      <td>1</td>\n",
              "      <td>1</td>\n",
              "      <td>0</td>\n",
              "      <td>1</td>\n",
              "      <td>1</td>\n",
              "      <td>1</td>\n",
              "      <td>1</td>\n",
              "      <td>...</td>\n",
              "      <td>0</td>\n",
              "      <td>0</td>\n",
              "      <td>0</td>\n",
              "      <td>0</td>\n",
              "      <td>0</td>\n",
              "      <td>1</td>\n",
              "      <td>0</td>\n",
              "      <td>0</td>\n",
              "      <td>0</td>\n",
              "      <td>0</td>\n",
              "    </tr>\n",
              "    <tr>\n",
              "      <th>52561</th>\n",
              "      <td>2020</td>\n",
              "      <td>1</td>\n",
              "      <td>1</td>\n",
              "      <td>1</td>\n",
              "      <td>1</td>\n",
              "      <td>0</td>\n",
              "      <td>1</td>\n",
              "      <td>1</td>\n",
              "      <td>1</td>\n",
              "      <td>1</td>\n",
              "      <td>...</td>\n",
              "      <td>0</td>\n",
              "      <td>0</td>\n",
              "      <td>0</td>\n",
              "      <td>0</td>\n",
              "      <td>0</td>\n",
              "      <td>1</td>\n",
              "      <td>0</td>\n",
              "      <td>0</td>\n",
              "      <td>0</td>\n",
              "      <td>0</td>\n",
              "    </tr>\n",
              "    <tr>\n",
              "      <th>52562</th>\n",
              "      <td>2020</td>\n",
              "      <td>1</td>\n",
              "      <td>1</td>\n",
              "      <td>1</td>\n",
              "      <td>1</td>\n",
              "      <td>0</td>\n",
              "      <td>1</td>\n",
              "      <td>1</td>\n",
              "      <td>1</td>\n",
              "      <td>1</td>\n",
              "      <td>...</td>\n",
              "      <td>0</td>\n",
              "      <td>0</td>\n",
              "      <td>0</td>\n",
              "      <td>0</td>\n",
              "      <td>0</td>\n",
              "      <td>1</td>\n",
              "      <td>0</td>\n",
              "      <td>0</td>\n",
              "      <td>0</td>\n",
              "      <td>0</td>\n",
              "    </tr>\n",
              "    <tr>\n",
              "      <th>52563</th>\n",
              "      <td>2020</td>\n",
              "      <td>1</td>\n",
              "      <td>1</td>\n",
              "      <td>1</td>\n",
              "      <td>1</td>\n",
              "      <td>0</td>\n",
              "      <td>1</td>\n",
              "      <td>1</td>\n",
              "      <td>1</td>\n",
              "      <td>1</td>\n",
              "      <td>...</td>\n",
              "      <td>0</td>\n",
              "      <td>0</td>\n",
              "      <td>0</td>\n",
              "      <td>0</td>\n",
              "      <td>0</td>\n",
              "      <td>1</td>\n",
              "      <td>0</td>\n",
              "      <td>0</td>\n",
              "      <td>0</td>\n",
              "      <td>0</td>\n",
              "    </tr>\n",
              "    <tr>\n",
              "      <th>52564</th>\n",
              "      <td>2020</td>\n",
              "      <td>1</td>\n",
              "      <td>1</td>\n",
              "      <td>1</td>\n",
              "      <td>1</td>\n",
              "      <td>0</td>\n",
              "      <td>1</td>\n",
              "      <td>1</td>\n",
              "      <td>1</td>\n",
              "      <td>1</td>\n",
              "      <td>...</td>\n",
              "      <td>0</td>\n",
              "      <td>0</td>\n",
              "      <td>0</td>\n",
              "      <td>0</td>\n",
              "      <td>0</td>\n",
              "      <td>1</td>\n",
              "      <td>0</td>\n",
              "      <td>0</td>\n",
              "      <td>0</td>\n",
              "      <td>0</td>\n",
              "    </tr>\n",
              "  </tbody>\n",
              "</table>\n",
              "<p>5 rows × 32 columns</p>\n",
              "</div>\n",
              "      <button class=\"colab-df-convert\" onclick=\"convertToInteractive('df-48948350-29a3-40a0-aaa3-44fae3806422')\"\n",
              "              title=\"Convert this dataframe to an interactive table.\"\n",
              "              style=\"display:none;\">\n",
              "        \n",
              "  <svg xmlns=\"http://www.w3.org/2000/svg\" height=\"24px\"viewBox=\"0 0 24 24\"\n",
              "       width=\"24px\">\n",
              "    <path d=\"M0 0h24v24H0V0z\" fill=\"none\"/>\n",
              "    <path d=\"M18.56 5.44l.94 2.06.94-2.06 2.06-.94-2.06-.94-.94-2.06-.94 2.06-2.06.94zm-11 1L8.5 8.5l.94-2.06 2.06-.94-2.06-.94L8.5 2.5l-.94 2.06-2.06.94zm10 10l.94 2.06.94-2.06 2.06-.94-2.06-.94-.94-2.06-.94 2.06-2.06.94z\"/><path d=\"M17.41 7.96l-1.37-1.37c-.4-.4-.92-.59-1.43-.59-.52 0-1.04.2-1.43.59L10.3 9.45l-7.72 7.72c-.78.78-.78 2.05 0 2.83L4 21.41c.39.39.9.59 1.41.59.51 0 1.02-.2 1.41-.59l7.78-7.78 2.81-2.81c.8-.78.8-2.07 0-2.86zM5.41 20L4 18.59l7.72-7.72 1.47 1.35L5.41 20z\"/>\n",
              "  </svg>\n",
              "      </button>\n",
              "      \n",
              "  <style>\n",
              "    .colab-df-container {\n",
              "      display:flex;\n",
              "      flex-wrap:wrap;\n",
              "      gap: 12px;\n",
              "    }\n",
              "\n",
              "    .colab-df-convert {\n",
              "      background-color: #E8F0FE;\n",
              "      border: none;\n",
              "      border-radius: 50%;\n",
              "      cursor: pointer;\n",
              "      display: none;\n",
              "      fill: #1967D2;\n",
              "      height: 32px;\n",
              "      padding: 0 0 0 0;\n",
              "      width: 32px;\n",
              "    }\n",
              "\n",
              "    .colab-df-convert:hover {\n",
              "      background-color: #E2EBFA;\n",
              "      box-shadow: 0px 1px 2px rgba(60, 64, 67, 0.3), 0px 1px 3px 1px rgba(60, 64, 67, 0.15);\n",
              "      fill: #174EA6;\n",
              "    }\n",
              "\n",
              "    [theme=dark] .colab-df-convert {\n",
              "      background-color: #3B4455;\n",
              "      fill: #D2E3FC;\n",
              "    }\n",
              "\n",
              "    [theme=dark] .colab-df-convert:hover {\n",
              "      background-color: #434B5C;\n",
              "      box-shadow: 0px 1px 3px 1px rgba(0, 0, 0, 0.15);\n",
              "      filter: drop-shadow(0px 1px 2px rgba(0, 0, 0, 0.3));\n",
              "      fill: #FFFFFF;\n",
              "    }\n",
              "  </style>\n",
              "\n",
              "      <script>\n",
              "        const buttonEl =\n",
              "          document.querySelector('#df-48948350-29a3-40a0-aaa3-44fae3806422 button.colab-df-convert');\n",
              "        buttonEl.style.display =\n",
              "          google.colab.kernel.accessAllowed ? 'block' : 'none';\n",
              "\n",
              "        async function convertToInteractive(key) {\n",
              "          const element = document.querySelector('#df-48948350-29a3-40a0-aaa3-44fae3806422');\n",
              "          const dataTable =\n",
              "            await google.colab.kernel.invokeFunction('convertToInteractive',\n",
              "                                                     [key], {});\n",
              "          if (!dataTable) return;\n",
              "\n",
              "          const docLinkHtml = 'Like what you see? Visit the ' +\n",
              "            '<a target=\"_blank\" href=https://colab.research.google.com/notebooks/data_table.ipynb>data table notebook</a>'\n",
              "            + ' to learn more about interactive tables.';\n",
              "          element.innerHTML = '';\n",
              "          dataTable['output_type'] = 'display_data';\n",
              "          await google.colab.output.renderOutput(dataTable, element);\n",
              "          const docLink = document.createElement('div');\n",
              "          docLink.innerHTML = docLinkHtml;\n",
              "          element.appendChild(docLink);\n",
              "        }\n",
              "      </script>\n",
              "    </div>\n",
              "  </div>\n",
              "  "
            ]
          },
          "metadata": {},
          "execution_count": 64
        }
      ]
    },
    {
      "cell_type": "code",
      "source": [
        "len(train_df)"
      ],
      "metadata": {
        "id": "3-J_nvBHWAjH",
        "colab": {
          "base_uri": "https://localhost:8080/"
        },
        "outputId": "d6106b8d-c94d-426e-d619-c8e8befe32c6"
      },
      "execution_count": null,
      "outputs": [
        {
          "output_type": "execute_result",
          "data": {
            "text/plain": [
              "70128"
            ]
          },
          "metadata": {},
          "execution_count": 65
        }
      ]
    },
    {
      "cell_type": "markdown",
      "source": [
        ">> - 전체 70128행 중 2020년 1월 이후의 인덱스는 52560부터 시작\n",
        "- 슬라이싱을 할 때 [:52560]// [52560:]의 방법으로 2020년 1월 전 후로 나눌 수 있음"
      ],
      "metadata": {
        "id": "OdiFI0A8WDrg"
      }
    },
    {
      "cell_type": "code",
      "source": [
        "before_2020 = y[:52560]\n",
        "after_2020 = y[52560:]"
      ],
      "metadata": {
        "id": "2whc4PLcWSUX"
      },
      "execution_count": null,
      "outputs": []
    },
    {
      "cell_type": "code",
      "source": [
        "len(before_2020), len(after_2020)"
      ],
      "metadata": {
        "id": "4PjWbtkhW_Vu",
        "colab": {
          "base_uri": "https://localhost:8080/"
        },
        "outputId": "cf90ca8b-7b49-46fb-e7c6-047a73d0b950"
      },
      "execution_count": null,
      "outputs": [
        {
          "output_type": "execute_result",
          "data": {
            "text/plain": [
              "(52560, 17568)"
            ]
          },
          "metadata": {},
          "execution_count": 67
        }
      ]
    },
    {
      "cell_type": "code",
      "source": [
        "before_2020.sum()/52560, after_2020.sum()/17568"
      ],
      "metadata": {
        "id": "UKeeDMUVWzBH",
        "colab": {
          "base_uri": "https://localhost:8080/"
        },
        "outputId": "5e0ef984-8ccb-45af-e473-f5be895e8d9e"
      },
      "execution_count": null,
      "outputs": [
        {
          "output_type": "execute_result",
          "data": {
            "text/plain": [
              "(185.89166666666668, 219.44404599271402)"
            ]
          },
          "metadata": {},
          "execution_count": 68
        }
      ]
    },
    {
      "cell_type": "markdown",
      "source": [
        ">> - 평균에 차이가 있는 것이 확인됨"
      ],
      "metadata": {
        "id": "0Zhk87r3XbH5"
      }
    },
    {
      "cell_type": "code",
      "source": [
        "a = after_2020.sum()/17568 - before_2020.sum()/52560\n",
        "a"
      ],
      "metadata": {
        "id": "l0YVV6InXZk_",
        "colab": {
          "base_uri": "https://localhost:8080/"
        },
        "outputId": "5b4cf4f7-c9ea-44a3-bcb1-067416e7f33c"
      },
      "execution_count": null,
      "outputs": [
        {
          "output_type": "execute_result",
          "data": {
            "text/plain": [
              "33.552379326047344"
            ]
          },
          "metadata": {},
          "execution_count": 69
        }
      ]
    },
    {
      "cell_type": "code",
      "source": [
        "correction = a/6/2 # ((2020 after.mean) - (2020 before.mean)) / country / martnumber"
      ],
      "metadata": {
        "id": "GiSEZ12-aDuS"
      },
      "execution_count": null,
      "outputs": []
    },
    {
      "cell_type": "code",
      "source": [
        "correction"
      ],
      "metadata": {
        "id": "lbgqG5Inb59t",
        "colab": {
          "base_uri": "https://localhost:8080/"
        },
        "outputId": "076a2274-2a67-471d-cd05-244444bc2d61"
      },
      "execution_count": null,
      "outputs": [
        {
          "output_type": "execute_result",
          "data": {
            "text/plain": [
              "2.7960316105039453"
            ]
          },
          "metadata": {},
          "execution_count": 71
        }
      ]
    },
    {
      "cell_type": "markdown",
      "source": [
        ">> - 추세가 상승세로 바뀌었고, 추세가 바뀐 이후의 데이터가 부족하기 때문에 이전 데이터의 영향을 많이 받을 것으로 보임\n",
        "- 모델의 예측값에서 일괄적으로 +2.7를 더해줄 것임(위의 주석 참고)"
      ],
      "metadata": {
        "id": "OIQ871-8X1r-"
      }
    },
    {
      "cell_type": "markdown",
      "source": [
        "# voting 제출"
      ],
      "metadata": {
        "id": "-G14GeAVBnLe"
      }
    },
    {
      "cell_type": "code",
      "source": [
        "# from sklearn.ensemble import VotingRegressor\n",
        "# voting = VotingRegressor([(\"lgbm\", LGBM2), (\"categori\", CATEGORI2), (\"rf\", RF2), (\"xgb\", XGB2)])\n",
        "# voting.fit(train_df, log_y)\n",
        "\n",
        "# preds = voting.predict(test_df)\n",
        "\n",
        "# #이전에 log를 취했던 y값을 원래대로 돌리기 위해 expm1을 사용\n",
        "# preds = np.expm1(preds)\n",
        "\n",
        "# preds += correction\n",
        "# submission['num_sold']= preds\n",
        "# submission=submission.round({\"num_sold\":0})\n",
        "# display(submission)\n",
        "# submission.to_csv('/voting_grid_search.csv', index=False)"
      ],
      "metadata": {
        "id": "jxy7W1_k2IjF"
      },
      "execution_count": null,
      "outputs": []
    },
    {
      "cell_type": "markdown",
      "source": [
        "# 예측 제출"
      ],
      "metadata": {
        "id": "WiGSu7qP6yFK"
      }
    },
    {
      "cell_type": "code",
      "source": [
        "pred1 = np.expm1(LGBM2.predict(test_df))\n",
        "pred2 = np.expm1(CATEGORI2.predict(test_df))\n",
        "pred3 = np.expm1(RF2.predict(test_df))\n",
        "pred4 = np.expm1(XGB2.predict(test_df))\n",
        "\n",
        "\n",
        "all_pred = pred1 + pred2 + pred3 + pred4\n",
        "final_pred = all_pred/4\n",
        "\n",
        "final_pred += correction\n",
        "submission['num_sold']= final_pred\n",
        "submission=submission.round({\"num_sold\":0})\n",
        "display(submission)\n",
        "submission.to_csv('/final.csv', index=False)"
      ],
      "metadata": {
        "id": "kXUpf5-b4Syq",
        "colab": {
          "base_uri": "https://localhost:8080/",
          "height": 424
        },
        "outputId": "df567a86-5b1d-40c0-cd53-3af20a07a150"
      },
      "execution_count": null,
      "outputs": [
        {
          "output_type": "display_data",
          "data": {
            "text/plain": [
              "       row_id  num_sold\n",
              "0       70128     488.0\n",
              "1       70129     383.0\n",
              "2       70130     327.0\n",
              "3       70131     527.0\n",
              "4       70132     170.0\n",
              "...       ...       ...\n",
              "17515   87643     613.0\n",
              "17516   87644     209.0\n",
              "17517   87645     166.0\n",
              "17518   87646     139.0\n",
              "17519   87647     217.0\n",
              "\n",
              "[17520 rows x 2 columns]"
            ],
            "text/html": [
              "\n",
              "  <div id=\"df-5dfc3caa-14fc-4c3b-a597-10478a0e18d3\">\n",
              "    <div class=\"colab-df-container\">\n",
              "      <div>\n",
              "<style scoped>\n",
              "    .dataframe tbody tr th:only-of-type {\n",
              "        vertical-align: middle;\n",
              "    }\n",
              "\n",
              "    .dataframe tbody tr th {\n",
              "        vertical-align: top;\n",
              "    }\n",
              "\n",
              "    .dataframe thead th {\n",
              "        text-align: right;\n",
              "    }\n",
              "</style>\n",
              "<table border=\"1\" class=\"dataframe\">\n",
              "  <thead>\n",
              "    <tr style=\"text-align: right;\">\n",
              "      <th></th>\n",
              "      <th>row_id</th>\n",
              "      <th>num_sold</th>\n",
              "    </tr>\n",
              "  </thead>\n",
              "  <tbody>\n",
              "    <tr>\n",
              "      <th>0</th>\n",
              "      <td>70128</td>\n",
              "      <td>488.0</td>\n",
              "    </tr>\n",
              "    <tr>\n",
              "      <th>1</th>\n",
              "      <td>70129</td>\n",
              "      <td>383.0</td>\n",
              "    </tr>\n",
              "    <tr>\n",
              "      <th>2</th>\n",
              "      <td>70130</td>\n",
              "      <td>327.0</td>\n",
              "    </tr>\n",
              "    <tr>\n",
              "      <th>3</th>\n",
              "      <td>70131</td>\n",
              "      <td>527.0</td>\n",
              "    </tr>\n",
              "    <tr>\n",
              "      <th>4</th>\n",
              "      <td>70132</td>\n",
              "      <td>170.0</td>\n",
              "    </tr>\n",
              "    <tr>\n",
              "      <th>...</th>\n",
              "      <td>...</td>\n",
              "      <td>...</td>\n",
              "    </tr>\n",
              "    <tr>\n",
              "      <th>17515</th>\n",
              "      <td>87643</td>\n",
              "      <td>613.0</td>\n",
              "    </tr>\n",
              "    <tr>\n",
              "      <th>17516</th>\n",
              "      <td>87644</td>\n",
              "      <td>209.0</td>\n",
              "    </tr>\n",
              "    <tr>\n",
              "      <th>17517</th>\n",
              "      <td>87645</td>\n",
              "      <td>166.0</td>\n",
              "    </tr>\n",
              "    <tr>\n",
              "      <th>17518</th>\n",
              "      <td>87646</td>\n",
              "      <td>139.0</td>\n",
              "    </tr>\n",
              "    <tr>\n",
              "      <th>17519</th>\n",
              "      <td>87647</td>\n",
              "      <td>217.0</td>\n",
              "    </tr>\n",
              "  </tbody>\n",
              "</table>\n",
              "<p>17520 rows × 2 columns</p>\n",
              "</div>\n",
              "      <button class=\"colab-df-convert\" onclick=\"convertToInteractive('df-5dfc3caa-14fc-4c3b-a597-10478a0e18d3')\"\n",
              "              title=\"Convert this dataframe to an interactive table.\"\n",
              "              style=\"display:none;\">\n",
              "        \n",
              "  <svg xmlns=\"http://www.w3.org/2000/svg\" height=\"24px\"viewBox=\"0 0 24 24\"\n",
              "       width=\"24px\">\n",
              "    <path d=\"M0 0h24v24H0V0z\" fill=\"none\"/>\n",
              "    <path d=\"M18.56 5.44l.94 2.06.94-2.06 2.06-.94-2.06-.94-.94-2.06-.94 2.06-2.06.94zm-11 1L8.5 8.5l.94-2.06 2.06-.94-2.06-.94L8.5 2.5l-.94 2.06-2.06.94zm10 10l.94 2.06.94-2.06 2.06-.94-2.06-.94-.94-2.06-.94 2.06-2.06.94z\"/><path d=\"M17.41 7.96l-1.37-1.37c-.4-.4-.92-.59-1.43-.59-.52 0-1.04.2-1.43.59L10.3 9.45l-7.72 7.72c-.78.78-.78 2.05 0 2.83L4 21.41c.39.39.9.59 1.41.59.51 0 1.02-.2 1.41-.59l7.78-7.78 2.81-2.81c.8-.78.8-2.07 0-2.86zM5.41 20L4 18.59l7.72-7.72 1.47 1.35L5.41 20z\"/>\n",
              "  </svg>\n",
              "      </button>\n",
              "      \n",
              "  <style>\n",
              "    .colab-df-container {\n",
              "      display:flex;\n",
              "      flex-wrap:wrap;\n",
              "      gap: 12px;\n",
              "    }\n",
              "\n",
              "    .colab-df-convert {\n",
              "      background-color: #E8F0FE;\n",
              "      border: none;\n",
              "      border-radius: 50%;\n",
              "      cursor: pointer;\n",
              "      display: none;\n",
              "      fill: #1967D2;\n",
              "      height: 32px;\n",
              "      padding: 0 0 0 0;\n",
              "      width: 32px;\n",
              "    }\n",
              "\n",
              "    .colab-df-convert:hover {\n",
              "      background-color: #E2EBFA;\n",
              "      box-shadow: 0px 1px 2px rgba(60, 64, 67, 0.3), 0px 1px 3px 1px rgba(60, 64, 67, 0.15);\n",
              "      fill: #174EA6;\n",
              "    }\n",
              "\n",
              "    [theme=dark] .colab-df-convert {\n",
              "      background-color: #3B4455;\n",
              "      fill: #D2E3FC;\n",
              "    }\n",
              "\n",
              "    [theme=dark] .colab-df-convert:hover {\n",
              "      background-color: #434B5C;\n",
              "      box-shadow: 0px 1px 3px 1px rgba(0, 0, 0, 0.15);\n",
              "      filter: drop-shadow(0px 1px 2px rgba(0, 0, 0, 0.3));\n",
              "      fill: #FFFFFF;\n",
              "    }\n",
              "  </style>\n",
              "\n",
              "      <script>\n",
              "        const buttonEl =\n",
              "          document.querySelector('#df-5dfc3caa-14fc-4c3b-a597-10478a0e18d3 button.colab-df-convert');\n",
              "        buttonEl.style.display =\n",
              "          google.colab.kernel.accessAllowed ? 'block' : 'none';\n",
              "\n",
              "        async function convertToInteractive(key) {\n",
              "          const element = document.querySelector('#df-5dfc3caa-14fc-4c3b-a597-10478a0e18d3');\n",
              "          const dataTable =\n",
              "            await google.colab.kernel.invokeFunction('convertToInteractive',\n",
              "                                                     [key], {});\n",
              "          if (!dataTable) return;\n",
              "\n",
              "          const docLinkHtml = 'Like what you see? Visit the ' +\n",
              "            '<a target=\"_blank\" href=https://colab.research.google.com/notebooks/data_table.ipynb>data table notebook</a>'\n",
              "            + ' to learn more about interactive tables.';\n",
              "          element.innerHTML = '';\n",
              "          dataTable['output_type'] = 'display_data';\n",
              "          await google.colab.output.renderOutput(dataTable, element);\n",
              "          const docLink = document.createElement('div');\n",
              "          docLink.innerHTML = docLinkHtml;\n",
              "          element.appendChild(docLink);\n",
              "        }\n",
              "      </script>\n",
              "    </div>\n",
              "  </div>\n",
              "  "
            ]
          },
          "metadata": {}
        }
      ]
    },
    {
      "cell_type": "code",
      "source": [],
      "metadata": {
        "id": "Y2EduehKyhaQ"
      },
      "execution_count": null,
      "outputs": []
    }
  ]
}